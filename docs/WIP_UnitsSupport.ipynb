{
 "cells": [
  {
   "attachments": {},
   "cell_type": "markdown",
   "metadata": {},
   "source": [
    "# WIP: Native Support for Units\n",
    "\n",
    "* Allow use of units in basic processing (e.g. column names, preserve unit state, addition/subtraction etc)\n",
    "* Allow switching of units for indivudal columns \n",
    "* Allow output with units attached for e.g. CSV export \n",
    "* Propagate units naturally for e.g. normalization"
   ]
  },
  {
   "cell_type": "code",
   "execution_count": 1,
   "metadata": {},
   "outputs": [],
   "source": [
    "import pandas as pd\n",
    "import numpy as np\n",
    "import pint\n",
    "import pint_pandas\n",
    "from pyrolite.util.synthetic import normal_frame\n",
    "from pyrolite.geochem.ind import REE"
   ]
  },
  {
   "cell_type": "code",
   "execution_count": 2,
   "metadata": {},
   "outputs": [
    {
     "data": {
      "text/html": [
       "<div>\n",
       "<style scoped>\n",
       "    .dataframe tbody tr th:only-of-type {\n",
       "        vertical-align: middle;\n",
       "    }\n",
       "\n",
       "    .dataframe tbody tr th {\n",
       "        vertical-align: top;\n",
       "    }\n",
       "\n",
       "    .dataframe thead th {\n",
       "        text-align: right;\n",
       "    }\n",
       "</style>\n",
       "<table border=\"1\" class=\"dataframe\">\n",
       "  <thead>\n",
       "    <tr style=\"text-align: right;\">\n",
       "      <th></th>\n",
       "      <th>MgO_wt%</th>\n",
       "      <th>FeO_wt%</th>\n",
       "      <th>Al2O3_wt%</th>\n",
       "      <th>Ti_ppm</th>\n",
       "      <th>La_ppm</th>\n",
       "      <th>Ce_ppm</th>\n",
       "      <th>Pr_ppm</th>\n",
       "      <th>Nd_ppm</th>\n",
       "      <th>Sm_ppm</th>\n",
       "      <th>Eu_ppm</th>\n",
       "      <th>Gd_ppm</th>\n",
       "      <th>Tb_ppm</th>\n",
       "      <th>Dy_ppm</th>\n",
       "      <th>Ho_ppm</th>\n",
       "      <th>Er_ppm</th>\n",
       "      <th>Tm_ppm</th>\n",
       "      <th>Yb_ppm</th>\n",
       "      <th>Lu_ppm</th>\n",
       "    </tr>\n",
       "  </thead>\n",
       "  <tbody>\n",
       "    <tr>\n",
       "      <th>0</th>\n",
       "      <td>1.30</td>\n",
       "      <td>12.13</td>\n",
       "      <td>0.60</td>\n",
       "      <td>319.0</td>\n",
       "      <td>386.0</td>\n",
       "      <td>2024.0</td>\n",
       "      <td>381.0</td>\n",
       "      <td>1207.0</td>\n",
       "      <td>371.0</td>\n",
       "      <td>71.0</td>\n",
       "      <td>1094.0</td>\n",
       "      <td>154.0</td>\n",
       "      <td>222.0</td>\n",
       "      <td>555.0</td>\n",
       "      <td>135.0</td>\n",
       "      <td>854.0</td>\n",
       "      <td>460.0</td>\n",
       "      <td>364.0</td>\n",
       "    </tr>\n",
       "    <tr>\n",
       "      <th>1</th>\n",
       "      <td>1.21</td>\n",
       "      <td>13.14</td>\n",
       "      <td>0.63</td>\n",
       "      <td>324.0</td>\n",
       "      <td>425.0</td>\n",
       "      <td>1897.0</td>\n",
       "      <td>391.0</td>\n",
       "      <td>1144.0</td>\n",
       "      <td>371.0</td>\n",
       "      <td>65.0</td>\n",
       "      <td>1078.0</td>\n",
       "      <td>136.0</td>\n",
       "      <td>228.0</td>\n",
       "      <td>609.0</td>\n",
       "      <td>132.0</td>\n",
       "      <td>876.0</td>\n",
       "      <td>466.0</td>\n",
       "      <td>360.0</td>\n",
       "    </tr>\n",
       "    <tr>\n",
       "      <th>2</th>\n",
       "      <td>1.44</td>\n",
       "      <td>11.87</td>\n",
       "      <td>0.65</td>\n",
       "      <td>351.0</td>\n",
       "      <td>404.0</td>\n",
       "      <td>1744.0</td>\n",
       "      <td>386.0</td>\n",
       "      <td>1315.0</td>\n",
       "      <td>362.0</td>\n",
       "      <td>74.0</td>\n",
       "      <td>1078.0</td>\n",
       "      <td>140.0</td>\n",
       "      <td>226.0</td>\n",
       "      <td>593.0</td>\n",
       "      <td>134.0</td>\n",
       "      <td>960.0</td>\n",
       "      <td>465.0</td>\n",
       "      <td>373.0</td>\n",
       "    </tr>\n",
       "    <tr>\n",
       "      <th>3</th>\n",
       "      <td>1.29</td>\n",
       "      <td>12.70</td>\n",
       "      <td>0.65</td>\n",
       "      <td>326.0</td>\n",
       "      <td>398.0</td>\n",
       "      <td>1880.0</td>\n",
       "      <td>375.0</td>\n",
       "      <td>1209.0</td>\n",
       "      <td>362.0</td>\n",
       "      <td>78.0</td>\n",
       "      <td>1067.0</td>\n",
       "      <td>130.0</td>\n",
       "      <td>235.0</td>\n",
       "      <td>623.0</td>\n",
       "      <td>119.0</td>\n",
       "      <td>884.0</td>\n",
       "      <td>481.0</td>\n",
       "      <td>369.0</td>\n",
       "    </tr>\n",
       "    <tr>\n",
       "      <th>4</th>\n",
       "      <td>1.24</td>\n",
       "      <td>11.72</td>\n",
       "      <td>0.65</td>\n",
       "      <td>365.0</td>\n",
       "      <td>433.0</td>\n",
       "      <td>1777.0</td>\n",
       "      <td>385.0</td>\n",
       "      <td>1106.0</td>\n",
       "      <td>389.0</td>\n",
       "      <td>82.0</td>\n",
       "      <td>1149.0</td>\n",
       "      <td>141.0</td>\n",
       "      <td>230.0</td>\n",
       "      <td>632.0</td>\n",
       "      <td>143.0</td>\n",
       "      <td>958.0</td>\n",
       "      <td>475.0</td>\n",
       "      <td>374.0</td>\n",
       "    </tr>\n",
       "    <tr>\n",
       "      <th>5</th>\n",
       "      <td>1.22</td>\n",
       "      <td>13.68</td>\n",
       "      <td>0.56</td>\n",
       "      <td>300.0</td>\n",
       "      <td>357.0</td>\n",
       "      <td>1940.0</td>\n",
       "      <td>371.0</td>\n",
       "      <td>1394.0</td>\n",
       "      <td>349.0</td>\n",
       "      <td>66.0</td>\n",
       "      <td>937.0</td>\n",
       "      <td>126.0</td>\n",
       "      <td>198.0</td>\n",
       "      <td>551.0</td>\n",
       "      <td>129.0</td>\n",
       "      <td>963.0</td>\n",
       "      <td>429.0</td>\n",
       "      <td>346.0</td>\n",
       "    </tr>\n",
       "    <tr>\n",
       "      <th>6</th>\n",
       "      <td>1.20</td>\n",
       "      <td>12.93</td>\n",
       "      <td>0.61</td>\n",
       "      <td>328.0</td>\n",
       "      <td>428.0</td>\n",
       "      <td>1831.0</td>\n",
       "      <td>375.0</td>\n",
       "      <td>1291.0</td>\n",
       "      <td>370.0</td>\n",
       "      <td>78.0</td>\n",
       "      <td>1036.0</td>\n",
       "      <td>149.0</td>\n",
       "      <td>236.0</td>\n",
       "      <td>558.0</td>\n",
       "      <td>122.0</td>\n",
       "      <td>881.0</td>\n",
       "      <td>475.0</td>\n",
       "      <td>367.0</td>\n",
       "    </tr>\n",
       "    <tr>\n",
       "      <th>7</th>\n",
       "      <td>1.30</td>\n",
       "      <td>11.91</td>\n",
       "      <td>0.65</td>\n",
       "      <td>330.0</td>\n",
       "      <td>403.0</td>\n",
       "      <td>2002.0</td>\n",
       "      <td>388.0</td>\n",
       "      <td>1204.0</td>\n",
       "      <td>370.0</td>\n",
       "      <td>54.0</td>\n",
       "      <td>1031.0</td>\n",
       "      <td>139.0</td>\n",
       "      <td>225.0</td>\n",
       "      <td>665.0</td>\n",
       "      <td>141.0</td>\n",
       "      <td>813.0</td>\n",
       "      <td>488.0</td>\n",
       "      <td>361.0</td>\n",
       "    </tr>\n",
       "    <tr>\n",
       "      <th>8</th>\n",
       "      <td>1.16</td>\n",
       "      <td>12.67</td>\n",
       "      <td>0.51</td>\n",
       "      <td>305.0</td>\n",
       "      <td>364.0</td>\n",
       "      <td>2120.0</td>\n",
       "      <td>352.0</td>\n",
       "      <td>1342.0</td>\n",
       "      <td>355.0</td>\n",
       "      <td>74.0</td>\n",
       "      <td>985.0</td>\n",
       "      <td>138.0</td>\n",
       "      <td>214.0</td>\n",
       "      <td>533.0</td>\n",
       "      <td>118.0</td>\n",
       "      <td>874.0</td>\n",
       "      <td>443.0</td>\n",
       "      <td>350.0</td>\n",
       "    </tr>\n",
       "    <tr>\n",
       "      <th>9</th>\n",
       "      <td>1.05</td>\n",
       "      <td>11.75</td>\n",
       "      <td>0.68</td>\n",
       "      <td>323.0</td>\n",
       "      <td>356.0</td>\n",
       "      <td>2408.0</td>\n",
       "      <td>372.0</td>\n",
       "      <td>1210.0</td>\n",
       "      <td>366.0</td>\n",
       "      <td>60.0</td>\n",
       "      <td>893.0</td>\n",
       "      <td>131.0</td>\n",
       "      <td>216.0</td>\n",
       "      <td>599.0</td>\n",
       "      <td>124.0</td>\n",
       "      <td>758.0</td>\n",
       "      <td>483.0</td>\n",
       "      <td>352.0</td>\n",
       "    </tr>\n",
       "  </tbody>\n",
       "</table>\n",
       "</div>"
      ],
      "text/plain": [
       "   MgO_wt%  FeO_wt%  Al2O3_wt%  Ti_ppm  La_ppm  Ce_ppm  Pr_ppm  Nd_ppm  \\\n",
       "0     1.30    12.13       0.60   319.0   386.0  2024.0   381.0  1207.0   \n",
       "1     1.21    13.14       0.63   324.0   425.0  1897.0   391.0  1144.0   \n",
       "2     1.44    11.87       0.65   351.0   404.0  1744.0   386.0  1315.0   \n",
       "3     1.29    12.70       0.65   326.0   398.0  1880.0   375.0  1209.0   \n",
       "4     1.24    11.72       0.65   365.0   433.0  1777.0   385.0  1106.0   \n",
       "5     1.22    13.68       0.56   300.0   357.0  1940.0   371.0  1394.0   \n",
       "6     1.20    12.93       0.61   328.0   428.0  1831.0   375.0  1291.0   \n",
       "7     1.30    11.91       0.65   330.0   403.0  2002.0   388.0  1204.0   \n",
       "8     1.16    12.67       0.51   305.0   364.0  2120.0   352.0  1342.0   \n",
       "9     1.05    11.75       0.68   323.0   356.0  2408.0   372.0  1210.0   \n",
       "\n",
       "   Sm_ppm  Eu_ppm  Gd_ppm  Tb_ppm  Dy_ppm  Ho_ppm  Er_ppm  Tm_ppm  Yb_ppm  \\\n",
       "0   371.0    71.0  1094.0   154.0   222.0   555.0   135.0   854.0   460.0   \n",
       "1   371.0    65.0  1078.0   136.0   228.0   609.0   132.0   876.0   466.0   \n",
       "2   362.0    74.0  1078.0   140.0   226.0   593.0   134.0   960.0   465.0   \n",
       "3   362.0    78.0  1067.0   130.0   235.0   623.0   119.0   884.0   481.0   \n",
       "4   389.0    82.0  1149.0   141.0   230.0   632.0   143.0   958.0   475.0   \n",
       "5   349.0    66.0   937.0   126.0   198.0   551.0   129.0   963.0   429.0   \n",
       "6   370.0    78.0  1036.0   149.0   236.0   558.0   122.0   881.0   475.0   \n",
       "7   370.0    54.0  1031.0   139.0   225.0   665.0   141.0   813.0   488.0   \n",
       "8   355.0    74.0   985.0   138.0   214.0   533.0   118.0   874.0   443.0   \n",
       "9   366.0    60.0   893.0   131.0   216.0   599.0   124.0   758.0   483.0   \n",
       "\n",
       "   Lu_ppm  \n",
       "0   364.0  \n",
       "1   360.0  \n",
       "2   373.0  \n",
       "3   369.0  \n",
       "4   374.0  \n",
       "5   346.0  \n",
       "6   367.0  \n",
       "7   361.0  \n",
       "8   350.0  \n",
       "9   352.0  "
      ]
     },
     "execution_count": 2,
     "metadata": {},
     "output_type": "execute_result"
    }
   ],
   "source": [
    "df = normal_frame(\n",
    "    columns=[\"MgO_wt%\", \"FeO_wt%\", \"Al2O3_wt%\", \"Ti_ppm\"] + [c + \"_ppm\" for c in REE()]\n",
    ")\n",
    "df *= np.array([[100 if \"wt%\" in c else 10000 for c in df.columns]])\n",
    "df = df.round(\n",
    "    pd.Series(np.array([2 if \"wt%\" in c else 0 for c in df.columns]), index=df.columns)\n",
    ")\n",
    "df"
   ]
  },
  {
   "attachments": {},
   "cell_type": "markdown",
   "metadata": {},
   "source": [
    "## Internalizing Units from Column Names"
   ]
  },
  {
   "cell_type": "code",
   "execution_count": 3,
   "metadata": {},
   "outputs": [],
   "source": [
    "import re\n",
    "from pyrolite.geochem.parse import tochem\n",
    "\n",
    "\n",
    "UNIT_PATTERN = r\"^(?P<analyte>[A-Za-z0-9]+)_(?P<unit>.+)$\"\n",
    "\n",
    "\n",
    "def internalize_units(\n",
    "    df,\n",
    "    unit_pattern=UNIT_PATTERN,\n",
    "    unit_mapping={\"wt%\": \"%\"},\n",
    "):\n",
    "    if isinstance(unit_pattern, str):\n",
    "        unit_pattern = re.compile(unit_pattern)\n",
    "    if unit_mapping is None:\n",
    "        unit_mapping = {}\n",
    "\n",
    "    matches = pd.DataFrame({c: unit_pattern.match(c).groupdict() for c in df.columns}).T\n",
    "    matches[\"unit\"] = matches[\"unit\"].map(lambda x: unit_mapping.get(x, x))\n",
    "\n",
    "    return pd.DataFrame(\n",
    "        {\n",
    "            v.get(\"analyte\") if v.get(\"analyte\") is not None else k: pd.Series(\n",
    "                df[k].values, dtype=\"pint[{}]\".format(matches.loc[k, \"unit\"])\n",
    "            )\n",
    "            for k, v in matches.iterrows()\n",
    "        }\n",
    "    )"
   ]
  },
  {
   "cell_type": "code",
   "execution_count": 4,
   "metadata": {},
   "outputs": [
    {
     "name": "stdout",
     "output_type": "stream",
     "text": [
      "<class 'pandas.core.frame.DataFrame'>\n",
      "RangeIndex: 10 entries, 0 to 9\n",
      "Data columns (total 18 columns):\n",
      " #   Column  Non-Null Count  Dtype        \n",
      "---  ------  --------------  -----        \n",
      " 0   MgO     10 non-null     pint[percent]\n",
      " 1   FeO     10 non-null     pint[percent]\n",
      " 2   Al2O3   10 non-null     pint[percent]\n",
      " 3   Ti      10 non-null     pint[ppm]    \n",
      " 4   La      10 non-null     pint[ppm]    \n",
      " 5   Ce      10 non-null     pint[ppm]    \n",
      " 6   Pr      10 non-null     pint[ppm]    \n",
      " 7   Nd      10 non-null     pint[ppm]    \n",
      " 8   Sm      10 non-null     pint[ppm]    \n",
      " 9   Eu      10 non-null     pint[ppm]    \n",
      " 10  Gd      10 non-null     pint[ppm]    \n",
      " 11  Tb      10 non-null     pint[ppm]    \n",
      " 12  Dy      10 non-null     pint[ppm]    \n",
      " 13  Ho      10 non-null     pint[ppm]    \n",
      " 14  Er      10 non-null     pint[ppm]    \n",
      " 15  Tm      10 non-null     pint[ppm]    \n",
      " 16  Yb      10 non-null     pint[ppm]    \n",
      " 17  Lu      10 non-null     pint[ppm]    \n",
      "dtypes: pint[percent](3), pint[ppm](15)\n",
      "memory usage: 1.5 KB\n"
     ]
    }
   ],
   "source": [
    "units_df = internalize_units(df)\n",
    "units_df.info()"
   ]
  },
  {
   "attachments": {},
   "cell_type": "markdown",
   "metadata": {},
   "source": [
    "Built in unit-conversion:"
   ]
  },
  {
   "cell_type": "code",
   "execution_count": 5,
   "metadata": {},
   "outputs": [
    {
     "name": "stdout",
     "output_type": "stream",
     "text": [
      "<class 'pandas.core.frame.DataFrame'>\n",
      "RangeIndex: 10 entries, 0 to 9\n",
      "Data columns (total 18 columns):\n",
      " #   Column  Non-Null Count  Dtype    \n",
      "---  ------  --------------  -----    \n",
      " 0   MgO     10 non-null     pint[ppm]\n",
      " 1   FeO     10 non-null     pint[ppm]\n",
      " 2   Al2O3   10 non-null     pint[ppm]\n",
      " 3   Ti      10 non-null     pint[ppm]\n",
      " 4   La      10 non-null     pint[ppm]\n",
      " 5   Ce      10 non-null     pint[ppm]\n",
      " 6   Pr      10 non-null     pint[ppm]\n",
      " 7   Nd      10 non-null     pint[ppm]\n",
      " 8   Sm      10 non-null     pint[ppm]\n",
      " 9   Eu      10 non-null     pint[ppm]\n",
      " 10  Gd      10 non-null     pint[ppm]\n",
      " 11  Tb      10 non-null     pint[ppm]\n",
      " 12  Dy      10 non-null     pint[ppm]\n",
      " 13  Ho      10 non-null     pint[ppm]\n",
      " 14  Er      10 non-null     pint[ppm]\n",
      " 15  Tm      10 non-null     pint[ppm]\n",
      " 16  Yb      10 non-null     pint[ppm]\n",
      " 17  Lu      10 non-null     pint[ppm]\n",
      "dtypes: pint[ppm](18)\n",
      "memory usage: 1.5 KB\n"
     ]
    }
   ],
   "source": [
    "units_df.astype(\"pint[ppm]\").info()"
   ]
  },
  {
   "cell_type": "code",
   "execution_count": 6,
   "metadata": {},
   "outputs": [
    {
     "data": {
      "text/html": [
       "<div>\n",
       "<style scoped>\n",
       "    .dataframe tbody tr th:only-of-type {\n",
       "        vertical-align: middle;\n",
       "    }\n",
       "\n",
       "    .dataframe tbody tr th {\n",
       "        vertical-align: top;\n",
       "    }\n",
       "\n",
       "    .dataframe thead th {\n",
       "        text-align: right;\n",
       "    }\n",
       "</style>\n",
       "<table border=\"1\" class=\"dataframe\">\n",
       "  <thead>\n",
       "    <tr style=\"text-align: right;\">\n",
       "      <th></th>\n",
       "      <th>MgO_wt%</th>\n",
       "      <th>FeO_wt%</th>\n",
       "      <th>Al2O3_wt%</th>\n",
       "      <th>Ti_ppm</th>\n",
       "      <th>La_ppm</th>\n",
       "    </tr>\n",
       "  </thead>\n",
       "  <tbody>\n",
       "    <tr>\n",
       "      <th>0</th>\n",
       "      <td>1.30</td>\n",
       "      <td>12.13</td>\n",
       "      <td>0.60</td>\n",
       "      <td>319.0</td>\n",
       "      <td>386.0</td>\n",
       "    </tr>\n",
       "    <tr>\n",
       "      <th>1</th>\n",
       "      <td>1.21</td>\n",
       "      <td>13.14</td>\n",
       "      <td>0.63</td>\n",
       "      <td>324.0</td>\n",
       "      <td>425.0</td>\n",
       "    </tr>\n",
       "    <tr>\n",
       "      <th>2</th>\n",
       "      <td>1.44</td>\n",
       "      <td>11.87</td>\n",
       "      <td>0.65</td>\n",
       "      <td>351.0</td>\n",
       "      <td>404.0</td>\n",
       "    </tr>\n",
       "    <tr>\n",
       "      <th>3</th>\n",
       "      <td>1.29</td>\n",
       "      <td>12.70</td>\n",
       "      <td>0.65</td>\n",
       "      <td>326.0</td>\n",
       "      <td>398.0</td>\n",
       "    </tr>\n",
       "    <tr>\n",
       "      <th>4</th>\n",
       "      <td>1.24</td>\n",
       "      <td>11.72</td>\n",
       "      <td>0.65</td>\n",
       "      <td>365.0</td>\n",
       "      <td>433.0</td>\n",
       "    </tr>\n",
       "  </tbody>\n",
       "</table>\n",
       "</div>"
      ],
      "text/plain": [
       "   MgO_wt%  FeO_wt%  Al2O3_wt%  Ti_ppm  La_ppm\n",
       "0     1.30    12.13       0.60   319.0   386.0\n",
       "1     1.21    13.14       0.63   324.0   425.0\n",
       "2     1.44    11.87       0.65   351.0   404.0\n",
       "3     1.29    12.70       0.65   326.0   398.0\n",
       "4     1.24    11.72       0.65   365.0   433.0"
      ]
     },
     "execution_count": 6,
     "metadata": {},
     "output_type": "execute_result"
    }
   ],
   "source": [
    "df.iloc[:5, :5]"
   ]
  },
  {
   "cell_type": "code",
   "execution_count": 7,
   "metadata": {},
   "outputs": [
    {
     "data": {
      "text/html": [
       "<div>\n",
       "<style scoped>\n",
       "    .dataframe tbody tr th:only-of-type {\n",
       "        vertical-align: middle;\n",
       "    }\n",
       "\n",
       "    .dataframe tbody tr th {\n",
       "        vertical-align: top;\n",
       "    }\n",
       "\n",
       "    .dataframe thead th {\n",
       "        text-align: right;\n",
       "    }\n",
       "</style>\n",
       "<table border=\"1\" class=\"dataframe\">\n",
       "  <thead>\n",
       "    <tr style=\"text-align: right;\">\n",
       "      <th></th>\n",
       "      <th>MgO</th>\n",
       "      <th>FeO</th>\n",
       "      <th>Al2O3</th>\n",
       "      <th>Ti</th>\n",
       "      <th>La</th>\n",
       "    </tr>\n",
       "  </thead>\n",
       "  <tbody>\n",
       "    <tr>\n",
       "      <th>0</th>\n",
       "      <td>1.3</td>\n",
       "      <td>12.13</td>\n",
       "      <td>0.6</td>\n",
       "      <td>319.0</td>\n",
       "      <td>386.0</td>\n",
       "    </tr>\n",
       "    <tr>\n",
       "      <th>1</th>\n",
       "      <td>1.21</td>\n",
       "      <td>13.14</td>\n",
       "      <td>0.63</td>\n",
       "      <td>324.0</td>\n",
       "      <td>425.0</td>\n",
       "    </tr>\n",
       "    <tr>\n",
       "      <th>2</th>\n",
       "      <td>1.44</td>\n",
       "      <td>11.87</td>\n",
       "      <td>0.65</td>\n",
       "      <td>351.0</td>\n",
       "      <td>404.0</td>\n",
       "    </tr>\n",
       "    <tr>\n",
       "      <th>3</th>\n",
       "      <td>1.29</td>\n",
       "      <td>12.7</td>\n",
       "      <td>0.65</td>\n",
       "      <td>326.0</td>\n",
       "      <td>398.0</td>\n",
       "    </tr>\n",
       "    <tr>\n",
       "      <th>4</th>\n",
       "      <td>1.24</td>\n",
       "      <td>11.72</td>\n",
       "      <td>0.65</td>\n",
       "      <td>365.0</td>\n",
       "      <td>433.0</td>\n",
       "    </tr>\n",
       "  </tbody>\n",
       "</table>\n",
       "</div>"
      ],
      "text/plain": [
       "    MgO    FeO  Al2O3     Ti     La\n",
       "0   1.3  12.13    0.6  319.0  386.0\n",
       "1  1.21  13.14   0.63  324.0  425.0\n",
       "2  1.44  11.87   0.65  351.0  404.0\n",
       "3  1.29   12.7   0.65  326.0  398.0\n",
       "4  1.24  11.72   0.65  365.0  433.0"
      ]
     },
     "execution_count": 7,
     "metadata": {},
     "output_type": "execute_result"
    }
   ],
   "source": [
    "units_df.iloc[:5, :5]"
   ]
  },
  {
   "cell_type": "code",
   "execution_count": 8,
   "metadata": {},
   "outputs": [
    {
     "name": "stdout",
     "output_type": "stream",
     "text": [
      "<class 'pandas.core.frame.DataFrame'>\n",
      "RangeIndex: 5 entries, 0 to 4\n",
      "Data columns (total 5 columns):\n",
      " #   Column  Non-Null Count  Dtype        \n",
      "---  ------  --------------  -----        \n",
      " 0   MgO     5 non-null      pint[percent]\n",
      " 1   FeO     5 non-null      pint[percent]\n",
      " 2   Al2O3   5 non-null      pint[percent]\n",
      " 3   Ti      5 non-null      pint[ppm]    \n",
      " 4   La      5 non-null      pint[ppm]    \n",
      "dtypes: pint[percent](3), pint[ppm](2)\n",
      "memory usage: 328.0 bytes\n"
     ]
    }
   ],
   "source": [
    "units_df.iloc[:5, :5].info()"
   ]
  },
  {
   "attachments": {},
   "cell_type": "markdown",
   "metadata": {},
   "source": [
    "Easy reincoporation of units:"
   ]
  },
  {
   "cell_type": "code",
   "execution_count": 9,
   "metadata": {},
   "outputs": [
    {
     "data": {
      "text/html": [
       "<div>\n",
       "<style scoped>\n",
       "    .dataframe tbody tr th:only-of-type {\n",
       "        vertical-align: middle;\n",
       "    }\n",
       "\n",
       "    .dataframe tbody tr th {\n",
       "        vertical-align: top;\n",
       "    }\n",
       "\n",
       "    .dataframe thead tr th {\n",
       "        text-align: left;\n",
       "    }\n",
       "</style>\n",
       "<table border=\"1\" class=\"dataframe\">\n",
       "  <thead>\n",
       "    <tr>\n",
       "      <th></th>\n",
       "      <th>MgO</th>\n",
       "      <th>FeO</th>\n",
       "      <th>Al2O3</th>\n",
       "      <th>Ti</th>\n",
       "      <th>La</th>\n",
       "      <th>Ce</th>\n",
       "      <th>Pr</th>\n",
       "      <th>Nd</th>\n",
       "      <th>Sm</th>\n",
       "      <th>Eu</th>\n",
       "      <th>Gd</th>\n",
       "      <th>Tb</th>\n",
       "      <th>Dy</th>\n",
       "      <th>Ho</th>\n",
       "      <th>Er</th>\n",
       "      <th>Tm</th>\n",
       "      <th>Yb</th>\n",
       "      <th>Lu</th>\n",
       "    </tr>\n",
       "    <tr>\n",
       "      <th>unit</th>\n",
       "      <th>percent</th>\n",
       "      <th>percent</th>\n",
       "      <th>percent</th>\n",
       "      <th>ppm</th>\n",
       "      <th>ppm</th>\n",
       "      <th>ppm</th>\n",
       "      <th>ppm</th>\n",
       "      <th>ppm</th>\n",
       "      <th>ppm</th>\n",
       "      <th>ppm</th>\n",
       "      <th>ppm</th>\n",
       "      <th>ppm</th>\n",
       "      <th>ppm</th>\n",
       "      <th>ppm</th>\n",
       "      <th>ppm</th>\n",
       "      <th>ppm</th>\n",
       "      <th>ppm</th>\n",
       "      <th>ppm</th>\n",
       "    </tr>\n",
       "  </thead>\n",
       "  <tbody>\n",
       "    <tr>\n",
       "      <th>0</th>\n",
       "      <td>1.30</td>\n",
       "      <td>12.13</td>\n",
       "      <td>0.60</td>\n",
       "      <td>319.0</td>\n",
       "      <td>386.0</td>\n",
       "      <td>2024.0</td>\n",
       "      <td>381.0</td>\n",
       "      <td>1207.0</td>\n",
       "      <td>371.0</td>\n",
       "      <td>71.0</td>\n",
       "      <td>1094.0</td>\n",
       "      <td>154.0</td>\n",
       "      <td>222.0</td>\n",
       "      <td>555.0</td>\n",
       "      <td>135.0</td>\n",
       "      <td>854.0</td>\n",
       "      <td>460.0</td>\n",
       "      <td>364.0</td>\n",
       "    </tr>\n",
       "    <tr>\n",
       "      <th>1</th>\n",
       "      <td>1.21</td>\n",
       "      <td>13.14</td>\n",
       "      <td>0.63</td>\n",
       "      <td>324.0</td>\n",
       "      <td>425.0</td>\n",
       "      <td>1897.0</td>\n",
       "      <td>391.0</td>\n",
       "      <td>1144.0</td>\n",
       "      <td>371.0</td>\n",
       "      <td>65.0</td>\n",
       "      <td>1078.0</td>\n",
       "      <td>136.0</td>\n",
       "      <td>228.0</td>\n",
       "      <td>609.0</td>\n",
       "      <td>132.0</td>\n",
       "      <td>876.0</td>\n",
       "      <td>466.0</td>\n",
       "      <td>360.0</td>\n",
       "    </tr>\n",
       "    <tr>\n",
       "      <th>2</th>\n",
       "      <td>1.44</td>\n",
       "      <td>11.87</td>\n",
       "      <td>0.65</td>\n",
       "      <td>351.0</td>\n",
       "      <td>404.0</td>\n",
       "      <td>1744.0</td>\n",
       "      <td>386.0</td>\n",
       "      <td>1315.0</td>\n",
       "      <td>362.0</td>\n",
       "      <td>74.0</td>\n",
       "      <td>1078.0</td>\n",
       "      <td>140.0</td>\n",
       "      <td>226.0</td>\n",
       "      <td>593.0</td>\n",
       "      <td>134.0</td>\n",
       "      <td>960.0</td>\n",
       "      <td>465.0</td>\n",
       "      <td>373.0</td>\n",
       "    </tr>\n",
       "    <tr>\n",
       "      <th>3</th>\n",
       "      <td>1.29</td>\n",
       "      <td>12.70</td>\n",
       "      <td>0.65</td>\n",
       "      <td>326.0</td>\n",
       "      <td>398.0</td>\n",
       "      <td>1880.0</td>\n",
       "      <td>375.0</td>\n",
       "      <td>1209.0</td>\n",
       "      <td>362.0</td>\n",
       "      <td>78.0</td>\n",
       "      <td>1067.0</td>\n",
       "      <td>130.0</td>\n",
       "      <td>235.0</td>\n",
       "      <td>623.0</td>\n",
       "      <td>119.0</td>\n",
       "      <td>884.0</td>\n",
       "      <td>481.0</td>\n",
       "      <td>369.0</td>\n",
       "    </tr>\n",
       "    <tr>\n",
       "      <th>4</th>\n",
       "      <td>1.24</td>\n",
       "      <td>11.72</td>\n",
       "      <td>0.65</td>\n",
       "      <td>365.0</td>\n",
       "      <td>433.0</td>\n",
       "      <td>1777.0</td>\n",
       "      <td>385.0</td>\n",
       "      <td>1106.0</td>\n",
       "      <td>389.0</td>\n",
       "      <td>82.0</td>\n",
       "      <td>1149.0</td>\n",
       "      <td>141.0</td>\n",
       "      <td>230.0</td>\n",
       "      <td>632.0</td>\n",
       "      <td>143.0</td>\n",
       "      <td>958.0</td>\n",
       "      <td>475.0</td>\n",
       "      <td>374.0</td>\n",
       "    </tr>\n",
       "    <tr>\n",
       "      <th>5</th>\n",
       "      <td>1.22</td>\n",
       "      <td>13.68</td>\n",
       "      <td>0.56</td>\n",
       "      <td>300.0</td>\n",
       "      <td>357.0</td>\n",
       "      <td>1940.0</td>\n",
       "      <td>371.0</td>\n",
       "      <td>1394.0</td>\n",
       "      <td>349.0</td>\n",
       "      <td>66.0</td>\n",
       "      <td>937.0</td>\n",
       "      <td>126.0</td>\n",
       "      <td>198.0</td>\n",
       "      <td>551.0</td>\n",
       "      <td>129.0</td>\n",
       "      <td>963.0</td>\n",
       "      <td>429.0</td>\n",
       "      <td>346.0</td>\n",
       "    </tr>\n",
       "    <tr>\n",
       "      <th>6</th>\n",
       "      <td>1.20</td>\n",
       "      <td>12.93</td>\n",
       "      <td>0.61</td>\n",
       "      <td>328.0</td>\n",
       "      <td>428.0</td>\n",
       "      <td>1831.0</td>\n",
       "      <td>375.0</td>\n",
       "      <td>1291.0</td>\n",
       "      <td>370.0</td>\n",
       "      <td>78.0</td>\n",
       "      <td>1036.0</td>\n",
       "      <td>149.0</td>\n",
       "      <td>236.0</td>\n",
       "      <td>558.0</td>\n",
       "      <td>122.0</td>\n",
       "      <td>881.0</td>\n",
       "      <td>475.0</td>\n",
       "      <td>367.0</td>\n",
       "    </tr>\n",
       "    <tr>\n",
       "      <th>7</th>\n",
       "      <td>1.30</td>\n",
       "      <td>11.91</td>\n",
       "      <td>0.65</td>\n",
       "      <td>330.0</td>\n",
       "      <td>403.0</td>\n",
       "      <td>2002.0</td>\n",
       "      <td>388.0</td>\n",
       "      <td>1204.0</td>\n",
       "      <td>370.0</td>\n",
       "      <td>54.0</td>\n",
       "      <td>1031.0</td>\n",
       "      <td>139.0</td>\n",
       "      <td>225.0</td>\n",
       "      <td>665.0</td>\n",
       "      <td>141.0</td>\n",
       "      <td>813.0</td>\n",
       "      <td>488.0</td>\n",
       "      <td>361.0</td>\n",
       "    </tr>\n",
       "    <tr>\n",
       "      <th>8</th>\n",
       "      <td>1.16</td>\n",
       "      <td>12.67</td>\n",
       "      <td>0.51</td>\n",
       "      <td>305.0</td>\n",
       "      <td>364.0</td>\n",
       "      <td>2120.0</td>\n",
       "      <td>352.0</td>\n",
       "      <td>1342.0</td>\n",
       "      <td>355.0</td>\n",
       "      <td>74.0</td>\n",
       "      <td>985.0</td>\n",
       "      <td>138.0</td>\n",
       "      <td>214.0</td>\n",
       "      <td>533.0</td>\n",
       "      <td>118.0</td>\n",
       "      <td>874.0</td>\n",
       "      <td>443.0</td>\n",
       "      <td>350.0</td>\n",
       "    </tr>\n",
       "    <tr>\n",
       "      <th>9</th>\n",
       "      <td>1.05</td>\n",
       "      <td>11.75</td>\n",
       "      <td>0.68</td>\n",
       "      <td>323.0</td>\n",
       "      <td>356.0</td>\n",
       "      <td>2408.0</td>\n",
       "      <td>372.0</td>\n",
       "      <td>1210.0</td>\n",
       "      <td>366.0</td>\n",
       "      <td>60.0</td>\n",
       "      <td>893.0</td>\n",
       "      <td>131.0</td>\n",
       "      <td>216.0</td>\n",
       "      <td>599.0</td>\n",
       "      <td>124.0</td>\n",
       "      <td>758.0</td>\n",
       "      <td>483.0</td>\n",
       "      <td>352.0</td>\n",
       "    </tr>\n",
       "  </tbody>\n",
       "</table>\n",
       "</div>"
      ],
      "text/plain": [
       "         MgO     FeO   Al2O3     Ti     La      Ce     Pr      Nd     Sm  \\\n",
       "unit percent percent percent    ppm    ppm     ppm    ppm     ppm    ppm   \n",
       "0       1.30   12.13    0.60  319.0  386.0  2024.0  381.0  1207.0  371.0   \n",
       "1       1.21   13.14    0.63  324.0  425.0  1897.0  391.0  1144.0  371.0   \n",
       "2       1.44   11.87    0.65  351.0  404.0  1744.0  386.0  1315.0  362.0   \n",
       "3       1.29   12.70    0.65  326.0  398.0  1880.0  375.0  1209.0  362.0   \n",
       "4       1.24   11.72    0.65  365.0  433.0  1777.0  385.0  1106.0  389.0   \n",
       "5       1.22   13.68    0.56  300.0  357.0  1940.0  371.0  1394.0  349.0   \n",
       "6       1.20   12.93    0.61  328.0  428.0  1831.0  375.0  1291.0  370.0   \n",
       "7       1.30   11.91    0.65  330.0  403.0  2002.0  388.0  1204.0  370.0   \n",
       "8       1.16   12.67    0.51  305.0  364.0  2120.0  352.0  1342.0  355.0   \n",
       "9       1.05   11.75    0.68  323.0  356.0  2408.0  372.0  1210.0  366.0   \n",
       "\n",
       "        Eu      Gd     Tb     Dy     Ho     Er     Tm     Yb     Lu  \n",
       "unit   ppm     ppm    ppm    ppm    ppm    ppm    ppm    ppm    ppm  \n",
       "0     71.0  1094.0  154.0  222.0  555.0  135.0  854.0  460.0  364.0  \n",
       "1     65.0  1078.0  136.0  228.0  609.0  132.0  876.0  466.0  360.0  \n",
       "2     74.0  1078.0  140.0  226.0  593.0  134.0  960.0  465.0  373.0  \n",
       "3     78.0  1067.0  130.0  235.0  623.0  119.0  884.0  481.0  369.0  \n",
       "4     82.0  1149.0  141.0  230.0  632.0  143.0  958.0  475.0  374.0  \n",
       "5     66.0   937.0  126.0  198.0  551.0  129.0  963.0  429.0  346.0  \n",
       "6     78.0  1036.0  149.0  236.0  558.0  122.0  881.0  475.0  367.0  \n",
       "7     54.0  1031.0  139.0  225.0  665.0  141.0  813.0  488.0  361.0  \n",
       "8     74.0   985.0  138.0  214.0  533.0  118.0  874.0  443.0  350.0  \n",
       "9     60.0   893.0  131.0  216.0  599.0  124.0  758.0  483.0  352.0  "
      ]
     },
     "execution_count": 9,
     "metadata": {},
     "output_type": "execute_result"
    }
   ],
   "source": [
    "units_df.pint.dequantify()  # .pint.quantify() can be used for the inverse"
   ]
  },
  {
   "attachments": {},
   "cell_type": "markdown",
   "metadata": {},
   "source": [
    "It has it's own dataframe accessor:"
   ]
  },
  {
   "cell_type": "code",
   "execution_count": 10,
   "metadata": {},
   "outputs": [
    {
     "name": "stdout",
     "output_type": "stream",
     "text": [
      "\u001b[1;31mInit signature:\u001b[0m \u001b[0mpd\u001b[0m\u001b[1;33m.\u001b[0m\u001b[0mDataFrame\u001b[0m\u001b[1;33m.\u001b[0m\u001b[0mpint\u001b[0m\u001b[1;33m(\u001b[0m\u001b[0mpandas_obj\u001b[0m\u001b[1;33m)\u001b[0m\u001b[1;33m\u001b[0m\u001b[1;33m\u001b[0m\u001b[0m\n",
      "\u001b[1;31mDocstring:\u001b[0m      <no docstring>\n",
      "\u001b[1;31mFile:\u001b[0m           c:\\users\\wil9dh\\anaconda3\\envs\\pyrolite\\lib\\site-packages\\pint_pandas\\pint_array.py\n",
      "\u001b[1;31mType:\u001b[0m           type\n",
      "\u001b[1;31mSubclasses:\u001b[0m     "
     ]
    }
   ],
   "source": [
    "pd.DataFrame.pint?"
   ]
  },
  {
   "attachments": {},
   "cell_type": "markdown",
   "metadata": {},
   "source": [
    "To extract just the numpy array from a series:"
   ]
  },
  {
   "cell_type": "code",
   "execution_count": 11,
   "metadata": {},
   "outputs": [
    {
     "data": {
      "text/plain": [
       "array([12.13, 13.14, 11.87, 12.7 , 11.72, 13.68, 12.93, 11.91, 12.67,\n",
       "       11.75])"
      ]
     },
     "execution_count": 11,
     "metadata": {},
     "output_type": "execute_result"
    }
   ],
   "source": [
    "units_df[\"FeO\"].values.numpy_data"
   ]
  },
  {
   "attachments": {},
   "cell_type": "markdown",
   "metadata": {},
   "source": [
    "## Dealing with Odd Behaviour\n",
    "\n",
    "* `np.isfinite` won't work on pint units, but `pd.isna` will - althought it needs to be mode-switched to map `np.inf` to `NaN`\n",
    "* Reduction functions won't work as expected, instead a reduce-by-parts appraoch is needed in order to preserve units in arrays (possible for e.g. sum)\n",
    "* Some numerical operations don't exist yet (e.g. [`.round()`](https://github.com/pandas-dev/pandas/issues/49387); arrays have no `round` method and quantities have no `rint` method)"
   ]
  },
  {
   "cell_type": "code",
   "execution_count": 12,
   "metadata": {},
   "outputs": [],
   "source": [
    "def sum_by_parts(df):\n",
    "    _sum = df.iloc[:, 0]\n",
    "    for ix in range(1, df.columns.size):\n",
    "        _sum += df.iloc[:, ix]\n",
    "    return _sum\n",
    "\n",
    "\n",
    "pd.set_option(\n",
    "    \"mode.use_inf_as_na\", True\n",
    ")  # to be able to use pd.isna in place of np.isfinite"
   ]
  },
  {
   "cell_type": "code",
   "execution_count": 13,
   "metadata": {},
   "outputs": [
    {
     "name": "stderr",
     "output_type": "stream",
     "text": [
      "c:\\Users\\WIL9DH\\Anaconda3\\envs\\pyrolite\\lib\\site-packages\\pandas\\core\\internals\\blocks.py:343: UnitStrippedWarning: The unit of the quantity is stripped when downcasting to ndarray.\n",
      "  res_values = np.array([[result]])\n"
     ]
    },
    {
     "data": {
      "text/plain": [
       "(0    0.1343\n",
       " 1    0.1435\n",
       " 2    0.1331\n",
       " 3    0.1399\n",
       " 4    0.1296\n",
       " 5    0.1490\n",
       " 6    0.1413\n",
       " 7    0.1321\n",
       " 8    0.1383\n",
       " 9    0.1280\n",
       " dtype: float64,\n",
       " 0    522.563633\n",
       " 1    496.631414\n",
       " 2    490.805472\n",
       " 3    499.334931\n",
       " 4    481.718363\n",
       " 5    525.004720\n",
       " 6    494.451279\n",
       " 7    514.971511\n",
       " 8    547.780418\n",
       " 9    582.397405\n",
       " dtype: float64)"
      ]
     },
     "execution_count": 13,
     "metadata": {},
     "output_type": "execute_result"
    }
   ],
   "source": [
    "units_df[[\"FeO\", \"MgO\"]].sum(axis=1), df.std(axis=1)"
   ]
  },
  {
   "attachments": {},
   "cell_type": "markdown",
   "metadata": {},
   "source": [
    "Apply gives indiviudal quantitiy values:"
   ]
  },
  {
   "cell_type": "code",
   "execution_count": 14,
   "metadata": {},
   "outputs": [
    {
     "name": "stderr",
     "output_type": "stream",
     "text": [
      "c:\\Users\\WIL9DH\\Anaconda3\\envs\\pyrolite\\lib\\site-packages\\pandas\\core\\dtypes\\cast.py:1579: UnitStrippedWarning: The unit of the quantity is stripped when downcasting to ndarray.\n",
      "  result[:] = values\n"
     ]
    },
    {
     "data": {
      "text/plain": [
       "0    13.430000000000001 percent\n",
       "1    14.350000000000001 percent\n",
       "2    13.309999999999999 percent\n",
       "3    13.989999999999998 percent\n",
       "4                 12.96 percent\n",
       "5                  14.9 percent\n",
       "6    14.129999999999999 percent\n",
       "7                 13.21 percent\n",
       "8                 13.83 percent\n",
       "9                  12.8 percent\n",
       "dtype: object"
      ]
     },
     "execution_count": 14,
     "metadata": {},
     "output_type": "execute_result"
    }
   ],
   "source": [
    "units_df[[\"FeO\", \"MgO\"]].apply(np.sum, axis=1)"
   ]
  },
  {
   "attachments": {},
   "cell_type": "markdown",
   "metadata": {},
   "source": [
    "Sum by parts will properly preserve array datatypes:"
   ]
  },
  {
   "cell_type": "code",
   "execution_count": 15,
   "metadata": {},
   "outputs": [
    {
     "data": {
      "text/plain": [
       "0    13.430000000000001\n",
       "1    14.350000000000001\n",
       "2    13.309999999999999\n",
       "3    13.989999999999998\n",
       "4                 12.96\n",
       "5                  14.9\n",
       "6    14.129999999999999\n",
       "7                 13.21\n",
       "8                 13.83\n",
       "9                  12.8\n",
       "Name: FeO, dtype: pint[percent]"
      ]
     },
     "execution_count": 15,
     "metadata": {},
     "output_type": "execute_result"
    }
   ],
   "source": [
    "sum_by_parts(units_df[[\"FeO\", \"MgO\"]])"
   ]
  },
  {
   "cell_type": "markdown",
   "metadata": {},
   "source": [
    "Note that processing functions which accept arrays with `pint` unit types will need to include special handling for e.g. `np.isfinite` (e.g. to convert to floats, `ratio[~np.isfinite(ratio.values.astype(float))] = np.nan`):"
   ]
  },
  {
   "cell_type": "code",
   "execution_count": 16,
   "metadata": {},
   "outputs": [
    {
     "data": {
      "text/plain": [
       "0     9.330769230769231\n",
       "1    10.859504132231406\n",
       "2     8.243055555555557\n",
       "3     9.844961240310079\n",
       "4     9.451612903225808\n",
       "5    11.213114754098362\n",
       "6                10.775\n",
       "7     9.161538461538461\n",
       "8    10.922413793103447\n",
       "9    11.190476190476188\n",
       "Name: FeO/MgO, dtype: pint[dimensionless]"
      ]
     },
     "execution_count": 16,
     "metadata": {},
     "output_type": "execute_result"
    }
   ],
   "source": [
    "units_df.pyrochem.get_ratio(\"FeO/MgO\")"
   ]
  },
  {
   "cell_type": "markdown",
   "metadata": {},
   "source": [
    "Other things like rounding are more difficult to get around:"
   ]
  },
  {
   "cell_type": "code",
   "execution_count": 18,
   "metadata": {},
   "outputs": [
    {
     "ename": "AttributeError",
     "evalue": "'PintArray' object has no attribute 'round'",
     "output_type": "error",
     "traceback": [
      "\u001b[1;31m---------------------------------------------------------------------------\u001b[0m",
      "\u001b[1;31mAttributeError\u001b[0m                            Traceback (most recent call last)",
      "Cell \u001b[1;32mIn[18], line 1\u001b[0m\n\u001b[1;32m----> 1\u001b[0m \u001b[43munits_df\u001b[49m\u001b[38;5;241;43m.\u001b[39;49m\u001b[43mpyrochem\u001b[49m\u001b[38;5;241;43m.\u001b[39;49m\u001b[43mconvert_chemistry\u001b[49m\u001b[43m(\u001b[49m\u001b[43mto\u001b[49m\u001b[38;5;241;43m=\u001b[39;49m\u001b[43m[\u001b[49m\u001b[38;5;124;43m\"\u001b[39;49m\u001b[38;5;124;43mFeO\u001b[39;49m\u001b[38;5;124;43m\"\u001b[39;49m\u001b[43m,\u001b[49m\u001b[43m \u001b[49m\u001b[38;5;124;43m\"\u001b[39;49m\u001b[38;5;124;43mMgO\u001b[39;49m\u001b[38;5;124;43m\"\u001b[39;49m\u001b[43m]\u001b[49m\u001b[43m)\u001b[49m\u001b[38;5;241;43m.\u001b[39;49m\u001b[43mround\u001b[49m\u001b[43m(\u001b[49m\u001b[38;5;241;43m2\u001b[39;49m\u001b[43m)\u001b[49m\n",
      "File \u001b[1;32mc:\\Users\\WIL9DH\\Anaconda3\\envs\\pyrolite\\lib\\site-packages\\pandas\\core\\frame.py:9965\u001b[0m, in \u001b[0;36mDataFrame.round\u001b[1;34m(self, decimals, *args, **kwargs)\u001b[0m\n\u001b[0;32m   9961\u001b[0m     new_cols \u001b[38;5;241m=\u001b[39m \u001b[38;5;28mlist\u001b[39m(_dict_round(\u001b[38;5;28mself\u001b[39m, decimals))\n\u001b[0;32m   9962\u001b[0m \u001b[38;5;28;01melif\u001b[39;00m is_integer(decimals):\n\u001b[0;32m   9963\u001b[0m     \u001b[38;5;66;03m# Dispatch to Block.round\u001b[39;00m\n\u001b[0;32m   9964\u001b[0m     \u001b[38;5;28;01mreturn\u001b[39;00m \u001b[38;5;28mself\u001b[39m\u001b[38;5;241m.\u001b[39m_constructor(\n\u001b[1;32m-> 9965\u001b[0m         \u001b[38;5;28;43mself\u001b[39;49m\u001b[38;5;241;43m.\u001b[39;49m\u001b[43m_mgr\u001b[49m\u001b[38;5;241;43m.\u001b[39;49m\u001b[43mround\u001b[49m\u001b[43m(\u001b[49m\u001b[43mdecimals\u001b[49m\u001b[38;5;241;43m=\u001b[39;49m\u001b[43mdecimals\u001b[49m\u001b[43m,\u001b[49m\u001b[43m \u001b[49m\u001b[43musing_cow\u001b[49m\u001b[38;5;241;43m=\u001b[39;49m\u001b[43musing_copy_on_write\u001b[49m\u001b[43m(\u001b[49m\u001b[43m)\u001b[49m\u001b[43m)\u001b[49m,\n\u001b[0;32m   9966\u001b[0m     )\u001b[38;5;241m.\u001b[39m__finalize__(\u001b[38;5;28mself\u001b[39m, method\u001b[38;5;241m=\u001b[39m\u001b[38;5;124m\"\u001b[39m\u001b[38;5;124mround\u001b[39m\u001b[38;5;124m\"\u001b[39m)\n\u001b[0;32m   9967\u001b[0m \u001b[38;5;28;01melse\u001b[39;00m:\n\u001b[0;32m   9968\u001b[0m     \u001b[38;5;28;01mraise\u001b[39;00m \u001b[38;5;167;01mTypeError\u001b[39;00m(\u001b[38;5;124m\"\u001b[39m\u001b[38;5;124mdecimals must be an integer, a dict-like or a Series\u001b[39m\u001b[38;5;124m\"\u001b[39m)\n",
      "File \u001b[1;32mc:\\Users\\WIL9DH\\Anaconda3\\envs\\pyrolite\\lib\\site-packages\\pandas\\core\\internals\\managers.py:374\u001b[0m, in \u001b[0;36mBaseBlockManager.round\u001b[1;34m(self, decimals, using_cow)\u001b[0m\n\u001b[0;32m    373\u001b[0m \u001b[38;5;28;01mdef\u001b[39;00m \u001b[38;5;21mround\u001b[39m(\u001b[38;5;28mself\u001b[39m: T, decimals: \u001b[38;5;28mint\u001b[39m, using_cow: \u001b[38;5;28mbool\u001b[39m \u001b[38;5;241m=\u001b[39m \u001b[38;5;28;01mFalse\u001b[39;00m) \u001b[38;5;241m-\u001b[39m\u001b[38;5;241m>\u001b[39m T:\n\u001b[1;32m--> 374\u001b[0m     \u001b[38;5;28;01mreturn\u001b[39;00m \u001b[38;5;28;43mself\u001b[39;49m\u001b[38;5;241;43m.\u001b[39;49m\u001b[43mapply\u001b[49m\u001b[43m(\u001b[49m\n\u001b[0;32m    375\u001b[0m \u001b[43m        \u001b[49m\u001b[38;5;124;43m\"\u001b[39;49m\u001b[38;5;124;43mround\u001b[39;49m\u001b[38;5;124;43m\"\u001b[39;49m\u001b[43m,\u001b[49m\n\u001b[0;32m    376\u001b[0m \u001b[43m        \u001b[49m\u001b[43mdecimals\u001b[49m\u001b[38;5;241;43m=\u001b[39;49m\u001b[43mdecimals\u001b[49m\u001b[43m,\u001b[49m\n\u001b[0;32m    377\u001b[0m \u001b[43m        \u001b[49m\u001b[43musing_cow\u001b[49m\u001b[38;5;241;43m=\u001b[39;49m\u001b[43musing_cow\u001b[49m\u001b[43m,\u001b[49m\n\u001b[0;32m    378\u001b[0m \u001b[43m    \u001b[49m\u001b[43m)\u001b[49m\n",
      "File \u001b[1;32mc:\\Users\\WIL9DH\\Anaconda3\\envs\\pyrolite\\lib\\site-packages\\pandas\\core\\internals\\managers.py:352\u001b[0m, in \u001b[0;36mBaseBlockManager.apply\u001b[1;34m(self, f, align_keys, **kwargs)\u001b[0m\n\u001b[0;32m    350\u001b[0m         applied \u001b[38;5;241m=\u001b[39m b\u001b[38;5;241m.\u001b[39mapply(f, \u001b[38;5;241m*\u001b[39m\u001b[38;5;241m*\u001b[39mkwargs)\n\u001b[0;32m    351\u001b[0m     \u001b[38;5;28;01melse\u001b[39;00m:\n\u001b[1;32m--> 352\u001b[0m         applied \u001b[38;5;241m=\u001b[39m \u001b[38;5;28mgetattr\u001b[39m(b, f)(\u001b[38;5;241m*\u001b[39m\u001b[38;5;241m*\u001b[39mkwargs)\n\u001b[0;32m    353\u001b[0m     result_blocks \u001b[38;5;241m=\u001b[39m extend_blocks(applied, result_blocks)\n\u001b[0;32m    355\u001b[0m out \u001b[38;5;241m=\u001b[39m \u001b[38;5;28mtype\u001b[39m(\u001b[38;5;28mself\u001b[39m)\u001b[38;5;241m.\u001b[39mfrom_blocks(result_blocks, \u001b[38;5;28mself\u001b[39m\u001b[38;5;241m.\u001b[39maxes)\n",
      "File \u001b[1;32mc:\\Users\\WIL9DH\\Anaconda3\\envs\\pyrolite\\lib\\site-packages\\pandas\\core\\internals\\blocks.py:1491\u001b[0m, in \u001b[0;36mBlock.round\u001b[1;34m(self, decimals, using_cow)\u001b[0m\n\u001b[0;32m   1486\u001b[0m refs \u001b[38;5;241m=\u001b[39m \u001b[38;5;28;01mNone\u001b[39;00m\n\u001b[0;32m   1487\u001b[0m \u001b[38;5;66;03m# TODO: round only defined on BaseMaskedArray\u001b[39;00m\n\u001b[0;32m   1488\u001b[0m \u001b[38;5;66;03m# Series also does this, so would need to fix both places\u001b[39;00m\n\u001b[0;32m   1489\u001b[0m \u001b[38;5;66;03m# error: Item \"ExtensionArray\" of \"Union[ndarray[Any, Any], ExtensionArray]\"\u001b[39;00m\n\u001b[0;32m   1490\u001b[0m \u001b[38;5;66;03m# has no attribute \"round\"\u001b[39;00m\n\u001b[1;32m-> 1491\u001b[0m values \u001b[38;5;241m=\u001b[39m \u001b[38;5;28;43mself\u001b[39;49m\u001b[38;5;241;43m.\u001b[39;49m\u001b[43mvalues\u001b[49m\u001b[38;5;241;43m.\u001b[39;49m\u001b[43mround\u001b[49m(decimals)  \u001b[38;5;66;03m# type: ignore[union-attr]\u001b[39;00m\n\u001b[0;32m   1492\u001b[0m \u001b[38;5;28;01mif\u001b[39;00m values \u001b[38;5;129;01mis\u001b[39;00m \u001b[38;5;28mself\u001b[39m\u001b[38;5;241m.\u001b[39mvalues:\n\u001b[0;32m   1493\u001b[0m     refs \u001b[38;5;241m=\u001b[39m \u001b[38;5;28mself\u001b[39m\u001b[38;5;241m.\u001b[39mrefs\n",
      "\u001b[1;31mAttributeError\u001b[0m: 'PintArray' object has no attribute 'round'"
     ]
    }
   ],
   "source": [
    "units_df.pyrochem.convert_chemistry(to=[\"FeO\", \"MgO\"]).round(2)"
   ]
  },
  {
   "attachments": {},
   "cell_type": "markdown",
   "metadata": {},
   "source": [
    "### Internal Array Types"
   ]
  },
  {
   "attachments": {},
   "cell_type": "markdown",
   "metadata": {},
   "source": [
    "Under the hood these arrays get converted to `pandas.core.arrays.numpy_.PandasArray` rather an existing as `np.ndarray`:"
   ]
  },
  {
   "cell_type": "code",
   "execution_count": 19,
   "metadata": {},
   "outputs": [
    {
     "name": "stderr",
     "output_type": "stream",
     "text": [
      "c:\\Users\\WIL9DH\\Anaconda3\\envs\\pyrolite\\lib\\site-packages\\pandas\\core\\arrays\\numpy_.py:109: UnitStrippedWarning: The unit of the quantity is stripped when downcasting to ndarray.\n",
      "  result = np.asarray(scalars, dtype=dtype)  # type: ignore[arg-type]\n"
     ]
    },
    {
     "data": {
      "text/plain": [
       "pandas.core.arrays.numpy_.PandasArray"
      ]
     },
     "execution_count": 19,
     "metadata": {},
     "output_type": "execute_result"
    }
   ],
   "source": [
    "a = units_df.FeO.astype(float).values\n",
    "type(a)"
   ]
  },
  {
   "attachments": {},
   "cell_type": "markdown",
   "metadata": {},
   "source": [
    "And extraction turns this into somethign more like a list of quantities rather than a quantity array:"
   ]
  },
  {
   "cell_type": "code",
   "execution_count": 20,
   "metadata": {},
   "outputs": [
    {
     "data": {
      "text/plain": [
       "array([<Quantity(12.13, 'percent')>, <Quantity(13.14, 'percent')>,\n",
       "       <Quantity(11.87, 'percent')>, <Quantity(12.7, 'percent')>,\n",
       "       <Quantity(11.72, 'percent')>, <Quantity(13.68, 'percent')>,\n",
       "       <Quantity(12.93, 'percent')>, <Quantity(11.91, 'percent')>,\n",
       "       <Quantity(12.67, 'percent')>, <Quantity(11.75, 'percent')>],\n",
       "      dtype=object)"
      ]
     },
     "execution_count": 20,
     "metadata": {},
     "output_type": "execute_result"
    }
   ],
   "source": [
    "units_df.FeO.to_numpy()"
   ]
  },
  {
   "attachments": {},
   "cell_type": "markdown",
   "metadata": {},
   "source": [
    "## Uncertainties"
   ]
  },
  {
   "cell_type": "code",
   "execution_count": 21,
   "metadata": {},
   "outputs": [],
   "source": [
    "import uncertainties\n",
    "import uncertainties.unumpy as unp\n",
    "\n",
    "\n",
    "def to_uncertain_series(s, u=np.nan):\n",
    "    # uncertainties seems to reduce things to base units\n",
    "    return pd.Series(\n",
    "        pint_pandas.pint_array.PintArray(\n",
    "            unp.uarray(s.values, s.values * u), s.pint.to_base_units().pint.units\n",
    "        ).astype(s.dtype),\n",
    "        index=s.index,\n",
    "    )\n",
    "\n",
    "\n",
    "def to_uncertain_frame(df, u=np.nan):\n",
    "    return pd.DataFrame(\n",
    "        {c: to_uncertain_series(df[c], u) for c in df.columns}, index=df.index\n",
    "    )"
   ]
  },
  {
   "cell_type": "code",
   "execution_count": 22,
   "metadata": {},
   "outputs": [
    {
     "data": {
      "text/html": [
       "<div>\n",
       "<style scoped>\n",
       "    .dataframe tbody tr th:only-of-type {\n",
       "        vertical-align: middle;\n",
       "    }\n",
       "\n",
       "    .dataframe tbody tr th {\n",
       "        vertical-align: top;\n",
       "    }\n",
       "\n",
       "    .dataframe thead th {\n",
       "        text-align: right;\n",
       "    }\n",
       "</style>\n",
       "<table border=\"1\" class=\"dataframe\">\n",
       "  <thead>\n",
       "    <tr style=\"text-align: right;\">\n",
       "      <th></th>\n",
       "      <th>MgO</th>\n",
       "      <th>FeO</th>\n",
       "      <th>Al2O3</th>\n",
       "    </tr>\n",
       "  </thead>\n",
       "  <tbody>\n",
       "    <tr>\n",
       "      <th>0</th>\n",
       "      <td>1.3</td>\n",
       "      <td>12.13</td>\n",
       "      <td>0.6</td>\n",
       "    </tr>\n",
       "    <tr>\n",
       "      <th>1</th>\n",
       "      <td>1.21</td>\n",
       "      <td>13.14</td>\n",
       "      <td>0.63</td>\n",
       "    </tr>\n",
       "    <tr>\n",
       "      <th>2</th>\n",
       "      <td>1.44</td>\n",
       "      <td>11.87</td>\n",
       "      <td>0.65</td>\n",
       "    </tr>\n",
       "    <tr>\n",
       "      <th>3</th>\n",
       "      <td>1.29</td>\n",
       "      <td>12.7</td>\n",
       "      <td>0.65</td>\n",
       "    </tr>\n",
       "    <tr>\n",
       "      <th>4</th>\n",
       "      <td>1.24</td>\n",
       "      <td>11.72</td>\n",
       "      <td>0.65</td>\n",
       "    </tr>\n",
       "  </tbody>\n",
       "</table>\n",
       "</div>"
      ],
      "text/plain": [
       "    MgO    FeO  Al2O3\n",
       "0   1.3  12.13    0.6\n",
       "1  1.21  13.14   0.63\n",
       "2  1.44  11.87   0.65\n",
       "3  1.29   12.7   0.65\n",
       "4  1.24  11.72   0.65"
      ]
     },
     "execution_count": 22,
     "metadata": {},
     "output_type": "execute_result"
    }
   ],
   "source": [
    "units_df.iloc[:5, :].pyrochem.oxides"
   ]
  },
  {
   "cell_type": "code",
   "execution_count": 23,
   "metadata": {},
   "outputs": [],
   "source": [
    "udf = to_uncertain_frame(units_df, 0.01).iloc[:5,].pyrochem.oxides"
   ]
  },
  {
   "cell_type": "code",
   "execution_count": 24,
   "metadata": {},
   "outputs": [
    {
     "data": {
      "text/html": [
       "<div>\n",
       "<style scoped>\n",
       "    .dataframe tbody tr th:only-of-type {\n",
       "        vertical-align: middle;\n",
       "    }\n",
       "\n",
       "    .dataframe tbody tr th {\n",
       "        vertical-align: top;\n",
       "    }\n",
       "\n",
       "    .dataframe thead th {\n",
       "        text-align: right;\n",
       "    }\n",
       "</style>\n",
       "<table border=\"1\" class=\"dataframe\">\n",
       "  <thead>\n",
       "    <tr style=\"text-align: right;\">\n",
       "      <th></th>\n",
       "      <th>MgO</th>\n",
       "      <th>FeO</th>\n",
       "      <th>Al2O3</th>\n",
       "    </tr>\n",
       "  </thead>\n",
       "  <tbody>\n",
       "    <tr>\n",
       "      <th>0</th>\n",
       "      <td>1.300+/-0.013</td>\n",
       "      <td>12.13+/-0.12</td>\n",
       "      <td>0.600+/-0.006</td>\n",
       "    </tr>\n",
       "    <tr>\n",
       "      <th>1</th>\n",
       "      <td>1.210+/-0.012</td>\n",
       "      <td>13.14+/-0.13</td>\n",
       "      <td>0.630+/-0.006</td>\n",
       "    </tr>\n",
       "    <tr>\n",
       "      <th>2</th>\n",
       "      <td>1.440+/-0.014</td>\n",
       "      <td>11.87+/-0.12</td>\n",
       "      <td>0.650+/-0.007</td>\n",
       "    </tr>\n",
       "    <tr>\n",
       "      <th>3</th>\n",
       "      <td>1.290+/-0.013</td>\n",
       "      <td>12.70+/-0.13</td>\n",
       "      <td>0.650+/-0.007</td>\n",
       "    </tr>\n",
       "    <tr>\n",
       "      <th>4</th>\n",
       "      <td>1.240+/-0.012</td>\n",
       "      <td>11.72+/-0.12</td>\n",
       "      <td>0.650+/-0.007</td>\n",
       "    </tr>\n",
       "  </tbody>\n",
       "</table>\n",
       "</div>"
      ],
      "text/plain": [
       "             MgO           FeO          Al2O3\n",
       "0  1.300+/-0.013  12.13+/-0.12  0.600+/-0.006\n",
       "1  1.210+/-0.012  13.14+/-0.13  0.630+/-0.006\n",
       "2  1.440+/-0.014  11.87+/-0.12  0.650+/-0.007\n",
       "3  1.290+/-0.013  12.70+/-0.13  0.650+/-0.007\n",
       "4  1.240+/-0.012  11.72+/-0.12  0.650+/-0.007"
      ]
     },
     "execution_count": 24,
     "metadata": {},
     "output_type": "execute_result"
    }
   ],
   "source": [
    "udf"
   ]
  },
  {
   "cell_type": "code",
   "execution_count": 25,
   "metadata": {},
   "outputs": [
    {
     "name": "stdout",
     "output_type": "stream",
     "text": [
      "<class 'pandas.core.frame.DataFrame'>\n",
      "RangeIndex: 5 entries, 0 to 4\n",
      "Data columns (total 3 columns):\n",
      " #   Column  Non-Null Count  Dtype        \n",
      "---  ------  --------------  -----        \n",
      " 0   MgO     5 non-null      pint[percent]\n",
      " 1   FeO     5 non-null      pint[percent]\n",
      " 2   Al2O3   5 non-null      pint[percent]\n",
      "dtypes: pint[percent](3)\n",
      "memory usage: 248.0 bytes\n"
     ]
    }
   ],
   "source": [
    "udf.info()"
   ]
  },
  {
   "cell_type": "code",
   "execution_count": 28,
   "metadata": {},
   "outputs": [
    {
     "data": {
      "text/html": [
       "<div>\n",
       "<style scoped>\n",
       "    .dataframe tbody tr th:only-of-type {\n",
       "        vertical-align: middle;\n",
       "    }\n",
       "\n",
       "    .dataframe tbody tr th {\n",
       "        vertical-align: top;\n",
       "    }\n",
       "\n",
       "    .dataframe thead th {\n",
       "        text-align: right;\n",
       "    }\n",
       "</style>\n",
       "<table border=\"1\" class=\"dataframe\">\n",
       "  <thead>\n",
       "    <tr style=\"text-align: right;\">\n",
       "      <th></th>\n",
       "      <th>FeO/MgO</th>\n",
       "    </tr>\n",
       "  </thead>\n",
       "  <tbody>\n",
       "    <tr>\n",
       "      <th>0</th>\n",
       "      <td>9.33+/-0.13</td>\n",
       "    </tr>\n",
       "    <tr>\n",
       "      <th>1</th>\n",
       "      <td>10.86+/-0.15</td>\n",
       "    </tr>\n",
       "    <tr>\n",
       "      <th>2</th>\n",
       "      <td>8.24+/-0.12</td>\n",
       "    </tr>\n",
       "    <tr>\n",
       "      <th>3</th>\n",
       "      <td>9.84+/-0.14</td>\n",
       "    </tr>\n",
       "    <tr>\n",
       "      <th>4</th>\n",
       "      <td>9.45+/-0.13</td>\n",
       "    </tr>\n",
       "  </tbody>\n",
       "</table>\n",
       "</div>"
      ],
      "text/plain": [
       "        FeO/MgO\n",
       "0   9.33+/-0.13\n",
       "1  10.86+/-0.15\n",
       "2   8.24+/-0.12\n",
       "3   9.84+/-0.14\n",
       "4   9.45+/-0.13"
      ]
     },
     "execution_count": 28,
     "metadata": {},
     "output_type": "execute_result"
    }
   ],
   "source": [
    "udf.pyrochem.get_ratio(\"FeO/MgO\") .to_frame()"
   ]
  },
  {
   "attachments": {},
   "cell_type": "markdown",
   "metadata": {},
   "source": [
    "## Serialization"
   ]
  },
  {
   "cell_type": "code",
   "execution_count": 29,
   "metadata": {},
   "outputs": [],
   "source": [
    "udf.to_csv(\"udf_csv.csv\", index=False)"
   ]
  },
  {
   "attachments": {},
   "cell_type": "markdown",
   "metadata": {},
   "source": [
    "We can see that each of the quantities is exported with its own units descriptor, but this won't necessarily be pulled back in with e.g. `df.pint.quantify()`"
   ]
  },
  {
   "cell_type": "code",
   "execution_count": 30,
   "metadata": {},
   "outputs": [
    {
     "data": {
      "text/html": [
       "<div>\n",
       "<style scoped>\n",
       "    .dataframe tbody tr th:only-of-type {\n",
       "        vertical-align: middle;\n",
       "    }\n",
       "\n",
       "    .dataframe tbody tr th {\n",
       "        vertical-align: top;\n",
       "    }\n",
       "\n",
       "    .dataframe thead th {\n",
       "        text-align: right;\n",
       "    }\n",
       "</style>\n",
       "<table border=\"1\" class=\"dataframe\">\n",
       "  <thead>\n",
       "    <tr style=\"text-align: right;\">\n",
       "      <th></th>\n",
       "      <th>MgO</th>\n",
       "      <th>FeO</th>\n",
       "      <th>Al2O3</th>\n",
       "    </tr>\n",
       "  </thead>\n",
       "  <tbody>\n",
       "    <tr>\n",
       "      <th>0</th>\n",
       "      <td>1.300+/-0.013 percent</td>\n",
       "      <td>12.13+/-0.12 percent</td>\n",
       "      <td>0.600+/-0.006 percent</td>\n",
       "    </tr>\n",
       "    <tr>\n",
       "      <th>1</th>\n",
       "      <td>1.210+/-0.012 percent</td>\n",
       "      <td>13.14+/-0.13 percent</td>\n",
       "      <td>0.630+/-0.006 percent</td>\n",
       "    </tr>\n",
       "    <tr>\n",
       "      <th>2</th>\n",
       "      <td>1.440+/-0.014 percent</td>\n",
       "      <td>11.87+/-0.12 percent</td>\n",
       "      <td>0.650+/-0.007 percent</td>\n",
       "    </tr>\n",
       "    <tr>\n",
       "      <th>3</th>\n",
       "      <td>1.290+/-0.013 percent</td>\n",
       "      <td>12.70+/-0.13 percent</td>\n",
       "      <td>0.650+/-0.007 percent</td>\n",
       "    </tr>\n",
       "    <tr>\n",
       "      <th>4</th>\n",
       "      <td>1.240+/-0.012 percent</td>\n",
       "      <td>11.72+/-0.12 percent</td>\n",
       "      <td>0.650+/-0.007 percent</td>\n",
       "    </tr>\n",
       "  </tbody>\n",
       "</table>\n",
       "</div>"
      ],
      "text/plain": [
       "                     MgO                   FeO                  Al2O3\n",
       "0  1.300+/-0.013 percent  12.13+/-0.12 percent  0.600+/-0.006 percent\n",
       "1  1.210+/-0.012 percent  13.14+/-0.13 percent  0.630+/-0.006 percent\n",
       "2  1.440+/-0.014 percent  11.87+/-0.12 percent  0.650+/-0.007 percent\n",
       "3  1.290+/-0.013 percent  12.70+/-0.13 percent  0.650+/-0.007 percent\n",
       "4  1.240+/-0.012 percent  11.72+/-0.12 percent  0.650+/-0.007 percent"
      ]
     },
     "execution_count": 30,
     "metadata": {},
     "output_type": "execute_result"
    }
   ],
   "source": [
    "udf_csv = pd.read_csv(\"udf_csv.csv\")\n",
    "udf_csv"
   ]
  },
  {
   "attachments": {},
   "cell_type": "markdown",
   "metadata": {},
   "source": [
    "Importing these kinds of values is OK without uncertainties:"
   ]
  },
  {
   "cell_type": "code",
   "execution_count": 31,
   "metadata": {},
   "outputs": [
    {
     "data": {
      "text/html": [
       "4.4 percent"
      ],
      "text/latex": [
       "$4.4\\ \\mathrm{percent}$"
      ],
      "text/plain": [
       "4.4 <Unit('percent')>"
      ]
     },
     "execution_count": 31,
     "metadata": {},
     "output_type": "execute_result"
    }
   ],
   "source": [
    "import pint\n",
    "\n",
    "ureg = pint.UnitRegistry()\n",
    "v = ureg(\"4.4 percent\")\n",
    "v"
   ]
  },
  {
   "attachments": {},
   "cell_type": "markdown",
   "metadata": {},
   "source": [
    "But this doesn't natively work with uncertainties:"
   ]
  },
  {
   "cell_type": "code",
   "execution_count": 32,
   "metadata": {},
   "outputs": [
    {
     "ename": "DefinitionSyntaxError",
     "evalue": "missing unary operator '/'",
     "output_type": "error",
     "traceback": [
      "\u001b[1;31m---------------------------------------------------------------------------\u001b[0m",
      "\u001b[1;31mDefinitionSyntaxError\u001b[0m                     Traceback (most recent call last)",
      "Cell \u001b[1;32mIn[32], line 1\u001b[0m\n\u001b[1;32m----> 1\u001b[0m v \u001b[38;5;241m=\u001b[39m \u001b[43mureg\u001b[49m\u001b[43m(\u001b[49m\u001b[38;5;124;43m\"\u001b[39;49m\u001b[38;5;124;43m4.4+/-0.1 percent\u001b[39;49m\u001b[38;5;124;43m\"\u001b[39;49m\u001b[43m)\u001b[49m\n\u001b[0;32m      2\u001b[0m v\n",
      "File \u001b[1;32mc:\\Users\\WIL9DH\\Anaconda3\\envs\\pyrolite\\lib\\site-packages\\pint\\facets\\plain\\registry.py:1309\u001b[0m, in \u001b[0;36mGenericPlainRegistry.parse_expression\u001b[1;34m(self, input_string, case_sensitive, **values)\u001b[0m\n\u001b[0;32m   1306\u001b[0m \u001b[38;5;28;01mdef\u001b[39;00m \u001b[38;5;21m_define_op\u001b[39m(s: \u001b[38;5;28mstr\u001b[39m):\n\u001b[0;32m   1307\u001b[0m     \u001b[38;5;28;01mreturn\u001b[39;00m \u001b[38;5;28mself\u001b[39m\u001b[38;5;241m.\u001b[39m_eval_token(s, case_sensitive\u001b[38;5;241m=\u001b[39mcase_sensitive, \u001b[38;5;241m*\u001b[39m\u001b[38;5;241m*\u001b[39mvalues)\n\u001b[1;32m-> 1309\u001b[0m \u001b[38;5;28;01mreturn\u001b[39;00m \u001b[43mbuild_eval_tree\u001b[49m\u001b[43m(\u001b[49m\u001b[43mgen\u001b[49m\u001b[43m)\u001b[49m\u001b[38;5;241;43m.\u001b[39;49m\u001b[43mevaluate\u001b[49m\u001b[43m(\u001b[49m\u001b[43m_define_op\u001b[49m\u001b[43m)\u001b[49m\n",
      "File \u001b[1;32mc:\\Users\\WIL9DH\\Anaconda3\\envs\\pyrolite\\lib\\site-packages\\pint\\pint_eval.py:148\u001b[0m, in \u001b[0;36mEvalTreeNode.evaluate\u001b[1;34m(self, define_op, bin_op, un_op)\u001b[0m\n\u001b[0;32m    143\u001b[0m     \u001b[38;5;28;01mif\u001b[39;00m op_text \u001b[38;5;129;01mnot\u001b[39;00m \u001b[38;5;129;01min\u001b[39;00m bin_op:\n\u001b[0;32m    144\u001b[0m         \u001b[38;5;28;01mraise\u001b[39;00m DefinitionSyntaxError(\u001b[38;5;124mf\u001b[39m\u001b[38;5;124m\"\u001b[39m\u001b[38;5;124mmissing binary operator \u001b[39m\u001b[38;5;124m'\u001b[39m\u001b[38;5;132;01m{\u001b[39;00mop_text\u001b[38;5;132;01m}\u001b[39;00m\u001b[38;5;124m'\u001b[39m\u001b[38;5;124m\"\u001b[39m)\n\u001b[0;32m    146\u001b[0m     \u001b[38;5;28;01mreturn\u001b[39;00m bin_op[op_text](\n\u001b[0;32m    147\u001b[0m         \u001b[38;5;28mself\u001b[39m\u001b[38;5;241m.\u001b[39mleft\u001b[38;5;241m.\u001b[39mevaluate(define_op, bin_op, un_op),\n\u001b[1;32m--> 148\u001b[0m         \u001b[38;5;28;43mself\u001b[39;49m\u001b[38;5;241;43m.\u001b[39;49m\u001b[43mright\u001b[49m\u001b[38;5;241;43m.\u001b[39;49m\u001b[43mevaluate\u001b[49m\u001b[43m(\u001b[49m\u001b[43mdefine_op\u001b[49m\u001b[43m,\u001b[49m\u001b[43m \u001b[49m\u001b[43mbin_op\u001b[49m\u001b[43m,\u001b[49m\u001b[43m \u001b[49m\u001b[43mun_op\u001b[49m\u001b[43m)\u001b[49m,\n\u001b[0;32m    149\u001b[0m     )\n\u001b[0;32m    150\u001b[0m \u001b[38;5;28;01melif\u001b[39;00m \u001b[38;5;28mself\u001b[39m\u001b[38;5;241m.\u001b[39moperator:\n\u001b[0;32m    151\u001b[0m     \u001b[38;5;28;01massert\u001b[39;00m \u001b[38;5;28misinstance\u001b[39m(\u001b[38;5;28mself\u001b[39m\u001b[38;5;241m.\u001b[39mleft, EvalTreeNode), \u001b[38;5;124m\"\u001b[39m\u001b[38;5;124mself.left not EvalTreeNode (4)\u001b[39m\u001b[38;5;124m\"\u001b[39m\n",
      "File \u001b[1;32mc:\\Users\\WIL9DH\\Anaconda3\\envs\\pyrolite\\lib\\site-packages\\pint\\pint_eval.py:147\u001b[0m, in \u001b[0;36mEvalTreeNode.evaluate\u001b[1;34m(self, define_op, bin_op, un_op)\u001b[0m\n\u001b[0;32m    143\u001b[0m     \u001b[38;5;28;01mif\u001b[39;00m op_text \u001b[38;5;129;01mnot\u001b[39;00m \u001b[38;5;129;01min\u001b[39;00m bin_op:\n\u001b[0;32m    144\u001b[0m         \u001b[38;5;28;01mraise\u001b[39;00m DefinitionSyntaxError(\u001b[38;5;124mf\u001b[39m\u001b[38;5;124m\"\u001b[39m\u001b[38;5;124mmissing binary operator \u001b[39m\u001b[38;5;124m'\u001b[39m\u001b[38;5;132;01m{\u001b[39;00mop_text\u001b[38;5;132;01m}\u001b[39;00m\u001b[38;5;124m'\u001b[39m\u001b[38;5;124m\"\u001b[39m)\n\u001b[0;32m    146\u001b[0m     \u001b[38;5;28;01mreturn\u001b[39;00m bin_op[op_text](\n\u001b[1;32m--> 147\u001b[0m         \u001b[38;5;28;43mself\u001b[39;49m\u001b[38;5;241;43m.\u001b[39;49m\u001b[43mleft\u001b[49m\u001b[38;5;241;43m.\u001b[39;49m\u001b[43mevaluate\u001b[49m\u001b[43m(\u001b[49m\u001b[43mdefine_op\u001b[49m\u001b[43m,\u001b[49m\u001b[43m \u001b[49m\u001b[43mbin_op\u001b[49m\u001b[43m,\u001b[49m\u001b[43m \u001b[49m\u001b[43mun_op\u001b[49m\u001b[43m)\u001b[49m,\n\u001b[0;32m    148\u001b[0m         \u001b[38;5;28mself\u001b[39m\u001b[38;5;241m.\u001b[39mright\u001b[38;5;241m.\u001b[39mevaluate(define_op, bin_op, un_op),\n\u001b[0;32m    149\u001b[0m     )\n\u001b[0;32m    150\u001b[0m \u001b[38;5;28;01melif\u001b[39;00m \u001b[38;5;28mself\u001b[39m\u001b[38;5;241m.\u001b[39moperator:\n\u001b[0;32m    151\u001b[0m     \u001b[38;5;28;01massert\u001b[39;00m \u001b[38;5;28misinstance\u001b[39m(\u001b[38;5;28mself\u001b[39m\u001b[38;5;241m.\u001b[39mleft, EvalTreeNode), \u001b[38;5;124m\"\u001b[39m\u001b[38;5;124mself.left not EvalTreeNode (4)\u001b[39m\u001b[38;5;124m\"\u001b[39m\n",
      "File \u001b[1;32mc:\\Users\\WIL9DH\\Anaconda3\\envs\\pyrolite\\lib\\site-packages\\pint\\pint_eval.py:155\u001b[0m, in \u001b[0;36mEvalTreeNode.evaluate\u001b[1;34m(self, define_op, bin_op, un_op)\u001b[0m\n\u001b[0;32m    153\u001b[0m     op_text \u001b[38;5;241m=\u001b[39m \u001b[38;5;28mself\u001b[39m\u001b[38;5;241m.\u001b[39moperator\u001b[38;5;241m.\u001b[39mstring\n\u001b[0;32m    154\u001b[0m     \u001b[38;5;28;01mif\u001b[39;00m op_text \u001b[38;5;129;01mnot\u001b[39;00m \u001b[38;5;129;01min\u001b[39;00m un_op:\n\u001b[1;32m--> 155\u001b[0m         \u001b[38;5;28;01mraise\u001b[39;00m DefinitionSyntaxError(\u001b[38;5;124mf\u001b[39m\u001b[38;5;124m\"\u001b[39m\u001b[38;5;124mmissing unary operator \u001b[39m\u001b[38;5;124m'\u001b[39m\u001b[38;5;132;01m{\u001b[39;00mop_text\u001b[38;5;132;01m}\u001b[39;00m\u001b[38;5;124m'\u001b[39m\u001b[38;5;124m\"\u001b[39m)\n\u001b[0;32m    156\u001b[0m     \u001b[38;5;28;01mreturn\u001b[39;00m un_op[op_text](\u001b[38;5;28mself\u001b[39m\u001b[38;5;241m.\u001b[39mleft\u001b[38;5;241m.\u001b[39mevaluate(define_op, bin_op, un_op))\n\u001b[0;32m    158\u001b[0m \u001b[38;5;66;03m# single value\u001b[39;00m\n",
      "\u001b[1;31mDefinitionSyntaxError\u001b[0m: missing unary operator '/'"
     ]
    }
   ],
   "source": [
    "v = ureg(\"4.4+/-0.1 percent\")\n",
    "v"
   ]
  },
  {
   "attachments": {},
   "cell_type": "markdown",
   "metadata": {},
   "source": [
    "With a bit of hacking, we can make this possible though!"
   ]
  },
  {
   "cell_type": "code",
   "execution_count": 33,
   "metadata": {},
   "outputs": [],
   "source": [
    "def deserialize_unp_series(ser):\n",
    "    # series will come in as an object dtype; we can split the strings\n",
    "    data = ser.str.rsplit(n=1, expand=True).rename(columns={0: \"arr\", 1: \"units\"})\n",
    "    assert len(set(data.units)) == 1  # assumes everything is in the same units\n",
    "    return pint_pandas.pint_array.PintArray(\n",
    "        unp.uarray(\n",
    "            *data.arr.str.rsplit(\"+/-\", n=1, expand=True).astype(float).T.values\n",
    "        ),\n",
    "        \"pint[{}]\".format(data.units[0]),\n",
    "    )\n",
    "\n",
    "\n",
    "def deserialize_unp_frame(df):\n",
    "    return pd.DataFrame(\n",
    "        {c: deserialize_unp_series(df[c]) for c in df.columns}, index=df.index\n",
    "    )\n"
   ]
  },
  {
   "cell_type": "code",
   "execution_count": 34,
   "metadata": {},
   "outputs": [
    {
     "name": "stdout",
     "output_type": "stream",
     "text": [
      "<class 'pandas.core.frame.DataFrame'>\n",
      "RangeIndex: 5 entries, 0 to 4\n",
      "Data columns (total 3 columns):\n",
      " #   Column  Non-Null Count  Dtype        \n",
      "---  ------  --------------  -----        \n",
      " 0   MgO     5 non-null      pint[percent]\n",
      " 1   FeO     5 non-null      pint[percent]\n",
      " 2   Al2O3   5 non-null      pint[percent]\n",
      "dtypes: pint[percent](3)\n",
      "memory usage: 248.0 bytes\n"
     ]
    }
   ],
   "source": [
    "deserialize_unp_frame(udf_csv).info()"
   ]
  },
  {
   "attachments": {},
   "cell_type": "markdown",
   "metadata": {},
   "source": [
    "What about without uncertainties?"
   ]
  },
  {
   "cell_type": "code",
   "execution_count": 35,
   "metadata": {},
   "outputs": [],
   "source": [
    "units_df.iloc[:5, :].pyrochem.oxides.to_csv(\"pdf_csv.csv\", index=False)"
   ]
  },
  {
   "cell_type": "code",
   "execution_count": 36,
   "metadata": {},
   "outputs": [
    {
     "name": "stdout",
     "output_type": "stream",
     "text": [
      "<class 'pandas.core.frame.DataFrame'>\n",
      "RangeIndex: 5 entries, 0 to 4\n",
      "Data columns (total 3 columns):\n",
      " #   Column  Non-Null Count  Dtype \n",
      "---  ------  --------------  ----- \n",
      " 0   MgO     5 non-null      object\n",
      " 1   FeO     5 non-null      object\n",
      " 2   Al2O3   5 non-null      object\n",
      "dtypes: object(3)\n",
      "memory usage: 248.0+ bytes\n"
     ]
    }
   ],
   "source": [
    "pdf_csv = pd.read_csv(\"pdf_csv.csv\")\n",
    "pdf_csv.info()"
   ]
  },
  {
   "cell_type": "code",
   "execution_count": 37,
   "metadata": {},
   "outputs": [
    {
     "data": {
      "text/html": [
       "<div>\n",
       "<style scoped>\n",
       "    .dataframe tbody tr th:only-of-type {\n",
       "        vertical-align: middle;\n",
       "    }\n",
       "\n",
       "    .dataframe tbody tr th {\n",
       "        vertical-align: top;\n",
       "    }\n",
       "\n",
       "    .dataframe thead th {\n",
       "        text-align: right;\n",
       "    }\n",
       "</style>\n",
       "<table border=\"1\" class=\"dataframe\">\n",
       "  <thead>\n",
       "    <tr style=\"text-align: right;\">\n",
       "      <th></th>\n",
       "      <th>MgO</th>\n",
       "      <th>FeO</th>\n",
       "      <th>Al2O3</th>\n",
       "    </tr>\n",
       "  </thead>\n",
       "  <tbody>\n",
       "    <tr>\n",
       "      <th>0</th>\n",
       "      <td>1.3 percent</td>\n",
       "      <td>12.13 percent</td>\n",
       "      <td>0.6 percent</td>\n",
       "    </tr>\n",
       "    <tr>\n",
       "      <th>1</th>\n",
       "      <td>1.21 percent</td>\n",
       "      <td>13.14 percent</td>\n",
       "      <td>0.63 percent</td>\n",
       "    </tr>\n",
       "    <tr>\n",
       "      <th>2</th>\n",
       "      <td>1.44 percent</td>\n",
       "      <td>11.87 percent</td>\n",
       "      <td>0.65 percent</td>\n",
       "    </tr>\n",
       "    <tr>\n",
       "      <th>3</th>\n",
       "      <td>1.29 percent</td>\n",
       "      <td>12.7 percent</td>\n",
       "      <td>0.65 percent</td>\n",
       "    </tr>\n",
       "    <tr>\n",
       "      <th>4</th>\n",
       "      <td>1.24 percent</td>\n",
       "      <td>11.72 percent</td>\n",
       "      <td>0.65 percent</td>\n",
       "    </tr>\n",
       "  </tbody>\n",
       "</table>\n",
       "</div>"
      ],
      "text/plain": [
       "            MgO            FeO         Al2O3\n",
       "0   1.3 percent  12.13 percent   0.6 percent\n",
       "1  1.21 percent  13.14 percent  0.63 percent\n",
       "2  1.44 percent  11.87 percent  0.65 percent\n",
       "3  1.29 percent   12.7 percent  0.65 percent\n",
       "4  1.24 percent  11.72 percent  0.65 percent"
      ]
     },
     "execution_count": 37,
     "metadata": {},
     "output_type": "execute_result"
    }
   ],
   "source": [
    "pdf_csv"
   ]
  },
  {
   "cell_type": "code",
   "execution_count": 38,
   "metadata": {},
   "outputs": [
    {
     "data": {
      "text/plain": [
       "1.3"
      ]
     },
     "execution_count": 38,
     "metadata": {},
     "output_type": "execute_result"
    }
   ],
   "source": [
    "# we can turn the individual values into quantities easily enough\n",
    "pdf_csv.applymap(ureg).iloc[0][0].magnitude\n"
   ]
  },
  {
   "attachments": {},
   "cell_type": "markdown",
   "metadata": {},
   "source": [
    "Note that wrapping a PintArray around values doesn't strip the units from the values, but we can do it manually:"
   ]
  },
  {
   "cell_type": "code",
   "execution_count": 39,
   "metadata": {},
   "outputs": [
    {
     "data": {
      "text/plain": [
       "<PintArray>\n",
       "[12.13, 13.14, 11.87, 12.7, 11.72]\n",
       "Length: 5, dtype: pint[percent]"
      ]
     },
     "execution_count": 39,
     "metadata": {},
     "output_type": "execute_result"
    }
   ],
   "source": [
    "pint_pandas.pint_array.PintArray(\n",
    "    pdf_csv.iloc[:, 1].map(lambda x: ureg(x).magnitude), \"pint[percent]\"\n",
    ")"
   ]
  },
  {
   "attachments": {},
   "cell_type": "markdown",
   "metadata": {},
   "source": [
    "The fact that PintArray doesn't strip units could lead to issues...."
   ]
  },
  {
   "cell_type": "code",
   "execution_count": 40,
   "metadata": {},
   "outputs": [
    {
     "data": {
      "text/plain": [
       "0    12.13 percent\n",
       "1     131400.0 ppm\n",
       "2    11.87 percent\n",
       "3     12.7 percent\n",
       "4    11.72 percent\n",
       "Name: FeO, dtype: object"
      ]
     },
     "execution_count": 40,
     "metadata": {},
     "output_type": "execute_result"
    }
   ],
   "source": [
    "s = pdf_csv.iloc[:, 1].map(ureg)\n",
    "s[1] = s[1].to(\"ppm\")\n",
    "s"
   ]
  },
  {
   "cell_type": "code",
   "execution_count": 41,
   "metadata": {},
   "outputs": [
    {
     "data": {
      "text/plain": [
       "<PintArray>\n",
       "[121300.00000000001 percent,           1314000000.0 ppm,\n",
       " 118699.99999999999 percent,           127000.0 percent,\n",
       "           117200.0 percent]\n",
       "Length: 5, dtype: pint[ppm]"
      ]
     },
     "execution_count": 41,
     "metadata": {},
     "output_type": "execute_result"
    }
   ],
   "source": [
    "pint_pandas.pint_array.PintArray(s, \"pint[percent]\").astype(\"pint[ppm]\")"
   ]
  }
 ],
 "metadata": {
  "kernelspec": {
   "display_name": "uf-umap",
   "language": "python",
   "name": "python3"
  },
  "language_info": {
   "codemirror_mode": {
    "name": "ipython",
    "version": 3
   },
   "file_extension": ".py",
   "mimetype": "text/x-python",
   "name": "python",
   "nbconvert_exporter": "python",
   "pygments_lexer": "ipython3",
   "version": "3.10.11"
  },
  "orig_nbformat": 4
 },
 "nbformat": 4,
 "nbformat_minor": 2
}
