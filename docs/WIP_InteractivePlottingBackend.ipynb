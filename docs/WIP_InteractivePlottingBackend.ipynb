{
 "cells": [
  {
   "cell_type": "markdown",
   "metadata": {},
   "source": [
    "# WIP: An Interactive Plotting Backend for `pyrolite`"
   ]
  },
  {
   "cell_type": "code",
   "execution_count": 11,
   "metadata": {},
   "outputs": [],
   "source": [
    "from pyrolite.data.Aitchison import load_kongite\n",
    "from pyrolite.util.log import Handle\n",
    "from pyrolite.util.plot.backend import Backend\n",
    "\n",
    "logger = Handle(\"pyrolite\", level=\"DEBUG\")"
   ]
  },
  {
   "cell_type": "markdown",
   "metadata": {},
   "source": [
    "## Interface Switching"
   ]
  },
  {
   "cell_type": "code",
   "execution_count": 12,
   "metadata": {},
   "outputs": [
    {
     "name": "stderr",
     "output_type": "stream",
     "text": [
      "2024-11-15 14:40:29,609 pyrolite.util.plot.backend - DEBUG: Setting plotting backend to plotly\n",
      "2024-11-15 14:40:29,611 pyrolite.util.plot.backend - DEBUG: Setting plotting backend to matplotlib\n",
      "2024-11-15 14:40:29,612 pyrolite.util.plot.backend - DEBUG: Reverting plotting backend to plotly\n",
      "2024-11-15 14:40:29,613 pyrolite.util.plot.backend - DEBUG: Reverting plotting backend to matplotlib\n"
     ]
    }
   ],
   "source": [
    "with Backend(\"plotly\"):\n",
    "    with Backend(\"matplotlib\"):\n",
    "        ...\n",
    "    ..."
   ]
  },
  {
   "attachments": {},
   "cell_type": "markdown",
   "metadata": {},
   "source": [
    "## Some Example Data"
   ]
  },
  {
   "cell_type": "code",
   "execution_count": 13,
   "metadata": {},
   "outputs": [
    {
     "data": {
      "text/html": [
       "<div>\n",
       "<style scoped>\n",
       "    .dataframe tbody tr th:only-of-type {\n",
       "        vertical-align: middle;\n",
       "    }\n",
       "\n",
       "    .dataframe tbody tr th {\n",
       "        vertical-align: top;\n",
       "    }\n",
       "\n",
       "    .dataframe thead th {\n",
       "        text-align: right;\n",
       "    }\n",
       "</style>\n",
       "<table border=\"1\" class=\"dataframe\">\n",
       "  <thead>\n",
       "    <tr style=\"text-align: right;\">\n",
       "      <th></th>\n",
       "      <th>A</th>\n",
       "      <th>B</th>\n",
       "      <th>C</th>\n",
       "      <th>D</th>\n",
       "      <th>E</th>\n",
       "    </tr>\n",
       "    <tr>\n",
       "      <th>Specimen</th>\n",
       "      <th></th>\n",
       "      <th></th>\n",
       "      <th></th>\n",
       "      <th></th>\n",
       "      <th></th>\n",
       "    </tr>\n",
       "  </thead>\n",
       "  <tbody>\n",
       "    <tr>\n",
       "      <th>K1</th>\n",
       "      <td>33.5</td>\n",
       "      <td>6.1</td>\n",
       "      <td>41.3</td>\n",
       "      <td>7.1</td>\n",
       "      <td>12.0</td>\n",
       "    </tr>\n",
       "    <tr>\n",
       "      <th>K2</th>\n",
       "      <td>47.6</td>\n",
       "      <td>14.9</td>\n",
       "      <td>16.1</td>\n",
       "      <td>14.8</td>\n",
       "      <td>6.6</td>\n",
       "    </tr>\n",
       "    <tr>\n",
       "      <th>K3</th>\n",
       "      <td>52.7</td>\n",
       "      <td>23.9</td>\n",
       "      <td>6.0</td>\n",
       "      <td>8.7</td>\n",
       "      <td>8.7</td>\n",
       "    </tr>\n",
       "    <tr>\n",
       "      <th>K4</th>\n",
       "      <td>44.5</td>\n",
       "      <td>24.2</td>\n",
       "      <td>10.7</td>\n",
       "      <td>11.9</td>\n",
       "      <td>8.7</td>\n",
       "    </tr>\n",
       "    <tr>\n",
       "      <th>K5</th>\n",
       "      <td>42.3</td>\n",
       "      <td>47.6</td>\n",
       "      <td>0.6</td>\n",
       "      <td>4.1</td>\n",
       "      <td>5.4</td>\n",
       "    </tr>\n",
       "  </tbody>\n",
       "</table>\n",
       "</div>"
      ],
      "text/plain": [
       "             A     B     C     D     E\n",
       "Specimen                              \n",
       "K1        33.5   6.1  41.3   7.1  12.0\n",
       "K2        47.6  14.9  16.1  14.8   6.6\n",
       "K3        52.7  23.9   6.0   8.7   8.7\n",
       "K4        44.5  24.2  10.7  11.9   8.7\n",
       "K5        42.3  47.6   0.6   4.1   5.4"
      ]
     },
     "execution_count": 13,
     "metadata": {},
     "output_type": "execute_result"
    }
   ],
   "source": [
    "from pyrolite.util.synthetic import example_spider_data\n",
    "\n",
    "logger.setLevel(\"INFO\")\n",
    "\n",
    "ree_df = example_spider_data(\n",
    "    noise_level=0.05,\n",
    "    size=100,\n",
    "    start=\"DMM_WH2005\",\n",
    "    norm_to=\"Chondrite_PON\",\n",
    "    offsets={\"Eu\": 0.2},\n",
    ").pyrochem.REE\n",
    "\n",
    "df = load_kongite()\n",
    "df.head()\n"
   ]
  },
  {
   "attachments": {},
   "cell_type": "markdown",
   "metadata": {},
   "source": [
    "## Plot API Comparison - Example for Scatter, Spider Plots"
   ]
  },
  {
   "cell_type": "code",
   "execution_count": 14,
   "metadata": {},
   "outputs": [
    {
     "data": {
      "text/plain": [
       "<Axes: xlabel='B', ylabel='C'>"
      ]
     },
     "execution_count": 14,
     "metadata": {},
     "output_type": "execute_result"
    },
    {
     "data": {
      "image/png": "[encoded data removed]",
      "text/plain": [
       "<Figure size 640x480 with 1 Axes>"
      ]
     },
     "metadata": {},
     "output_type": "display_data"
    }
   ],
   "source": [
    "df.iloc[:, 1:3].pyroplot.scatter()"
   ]
  },
  {
   "cell_type": "code",
   "execution_count": 15,
   "metadata": {},
   "outputs": [
    {
     "data": {
      "application/vnd.plotly.v1+json": {
       "config": {
        "plotlyServerURL": "https://plot.ly"
       },
       "data": [
        {
         "marker": {
          "color": "rgba(0, 0, 0, 1)"
         },
         "mode": "markers",
         "showlegend": false,
         "text": [
          "Sample K1",
          "Sample K2",
          "Sample K3",
          "Sample K4",
          "Sample K5",
          "Sample K6",
          "Sample K7",
          "Sample K8",
          "Sample K9",
          "Sample K10",
          "Sample K11",
          "Sample K12",
          "Sample K13",
          "Sample K14",
          "Sample K15",
          "Sample K16",
          "Sample K17",
          "Sample K18",
          "Sample K19",
          "Sample K20",
          "Sample K21",
          "Sample K22",
          "Sample K23",
          "Sample K24",
          "Sample K25"
         ],
         "type": "scatter",
         "x": [
          6.1,
          14.900000000000002,
          23.9,
          24.199999999999996,
          47.6,
          33.2,
          21.499999999999996,
          23.599999999999998,
          2.3,
          23.4,
          6.699999999999999,
          28.1,
          24.3,
          9.5,
          19,
          43.3,
          23.900000000000002,
          20.3,
          17.899999999999995,
          14.3,
          30.900000000000006,
          33.1013916500994,
          23.4,
          4.5,
          15.000000000000002
         ],
         "y": [
          41.3,
          16.1,
          6,
          10.7,
          0.6,
          1.9,
          10.7,
          6.199999999999999,
          65.8,
          10.4,
          42.99999999999999,
          5.1,
          7.6,
          30.599999999999998,
          17.3,
          1.6,
          10.300000000000002,
          13.600000000000001,
          10.7,
          18.5,
          4.6000000000000005,
          4.572564612326044,
          8.7,
          47,
          19.400000000000002
         ]
        }
       ],
       "layout": {
        "plot_bgcolor": "white",
        "template": {
         "data": {
          "bar": [
           {
            "error_x": {
             "color": "#2a3f5f"
            },
            "error_y": {
             "color": "#2a3f5f"
            },
            "marker": {
             "line": {
              "color": "#E5ECF6",
              "width": 0.5
             },
             "pattern": {
              "fillmode": "overlay",
              "size": 10,
              "solidity": 0.2
             }
            },
            "type": "bar"
           }
          ],
          "barpolar": [
           {
            "marker": {
             "line": {
              "color": "#E5ECF6",
              "width": 0.5
             },
             "pattern": {
              "fillmode": "overlay",
              "size": 10,
              "solidity": 0.2
             }
            },
            "type": "barpolar"
           }
          ],
          "carpet": [
           {
            "aaxis": {
             "endlinecolor": "#2a3f5f",
             "gridcolor": "white",
             "linecolor": "white",
             "minorgridcolor": "white",
             "startlinecolor": "#2a3f5f"
            },
            "baxis": {
             "endlinecolor": "#2a3f5f",
             "gridcolor": "white",
             "linecolor": "white",
             "minorgridcolor": "white",
             "startlinecolor": "#2a3f5f"
            },
            "type": "carpet"
           }
          ],
          "choropleth": [
           {
            "colorbar": {
             "outlinewidth": 0,
             "ticks": ""
            },
            "type": "choropleth"
           }
          ],
          "contour": [
           {
            "colorbar": {
             "outlinewidth": 0,
             "ticks": ""
            },
            "colorscale": [
             [
              0,
              "#0d0887"
             ],
             [
              0.1111111111111111,
              "#46039f"
             ],
             [
              0.2222222222222222,
              "#7201a8"
             ],
             [
              0.3333333333333333,
              "#9c179e"
             ],
             [
              0.4444444444444444,
              "#bd3786"
             ],
             [
              0.5555555555555556,
              "#d8576b"
             ],
             [
              0.6666666666666666,
              "#ed7953"
             ],
             [
              0.7777777777777778,
              "#fb9f3a"
             ],
             [
              0.8888888888888888,
              "#fdca26"
             ],
             [
              1,
              "#f0f921"
             ]
            ],
            "type": "contour"
           }
          ],
          "contourcarpet": [
           {
            "colorbar": {
             "outlinewidth": 0,
             "ticks": ""
            },
            "type": "contourcarpet"
           }
          ],
          "heatmap": [
           {
            "colorbar": {
             "outlinewidth": 0,
             "ticks": ""
            },
            "colorscale": [
             [
              0,
              "#0d0887"
             ],
             [
              0.1111111111111111,
              "#46039f"
             ],
             [
              0.2222222222222222,
              "#7201a8"
             ],
             [
              0.3333333333333333,
              "#9c179e"
             ],
             [
              0.4444444444444444,
              "#bd3786"
             ],
             [
              0.5555555555555556,
              "#d8576b"
             ],
             [
              0.6666666666666666,
              "#ed7953"
             ],
             [
              0.7777777777777778,
              "#fb9f3a"
             ],
             [
              0.8888888888888888,
              "#fdca26"
             ],
             [
              1,
              "#f0f921"
             ]
            ],
            "type": "heatmap"
           }
          ],
          "heatmapgl": [
           {
            "colorbar": {
             "outlinewidth": 0,
             "ticks": ""
            },
            "colorscale": [
             [
              0,
              "#0d0887"
             ],
             [
              0.1111111111111111,
              "#46039f"
             ],
             [
              0.2222222222222222,
              "#7201a8"
             ],
             [
              0.3333333333333333,
              "#9c179e"
             ],
             [
              0.4444444444444444,
              "#bd3786"
             ],
             [
              0.5555555555555556,
              "#d8576b"
             ],
             [
              0.6666666666666666,
              "#ed7953"
             ],
             [
              0.7777777777777778,
              "#fb9f3a"
             ],
             [
              0.8888888888888888,
              "#fdca26"
             ],
             [
              1,
              "#f0f921"
             ]
            ],
            "type": "heatmapgl"
           }
          ],
          "histogram": [
           {
            "marker": {
             "pattern": {
              "fillmode": "overlay",
              "size": 10,
              "solidity": 0.2
             }
            },
            "type": "histogram"
           }
          ],
          "histogram2d": [
           {
            "colorbar": {
             "outlinewidth": 0,
             "ticks": ""
            },
            "colorscale": [
             [
              0,
              "#0d0887"
             ],
             [
              0.1111111111111111,
              "#46039f"
             ],
             [
              0.2222222222222222,
              "#7201a8"
             ],
             [
              0.3333333333333333,
              "#9c179e"
             ],
             [
              0.4444444444444444,
              "#bd3786"
             ],
             [
              0.5555555555555556,
              "#d8576b"
             ],
             [
              0.6666666666666666,
              "#ed7953"
             ],
             [
              0.7777777777777778,
              "#fb9f3a"
             ],
             [
              0.8888888888888888,
              "#fdca26"
             ],
             [
              1,
              "#f0f921"
             ]
            ],
            "type": "histogram2d"
           }
          ],
          "histogram2dcontour": [
           {
            "colorbar": {
             "outlinewidth": 0,
             "ticks": ""
            },
            "colorscale": [
             [
              0,
              "#0d0887"
             ],
             [
              0.1111111111111111,
              "#46039f"
             ],
             [
              0.2222222222222222,
              "#7201a8"
             ],
             [
              0.3333333333333333,
              "#9c179e"
             ],
             [
              0.4444444444444444,
              "#bd3786"
             ],
             [
              0.5555555555555556,
              "#d8576b"
             ],
             [
              0.6666666666666666,
              "#ed7953"
             ],
             [
              0.7777777777777778,
              "#fb9f3a"
             ],
             [
              0.8888888888888888,
              "#fdca26"
             ],
             [
              1,
              "#f0f921"
             ]
            ],
            "type": "histogram2dcontour"
           }
          ],
          "mesh3d": [
           {
            "colorbar": {
             "outlinewidth": 0,
             "ticks": ""
            },
            "type": "mesh3d"
           }
          ],
          "parcoords": [
           {
            "line": {
             "colorbar": {
              "outlinewidth": 0,
              "ticks": ""
             }
            },
            "type": "parcoords"
           }
          ],
          "pie": [
           {
            "automargin": true,
            "type": "pie"
           }
          ],
          "scatter": [
           {
            "fillpattern": {
             "fillmode": "overlay",
             "size": 10,
             "solidity": 0.2
            },
            "type": "scatter"
           }
          ],
          "scatter3d": [
           {
            "line": {
             "colorbar": {
              "outlinewidth": 0,
              "ticks": ""
             }
            },
            "marker": {
             "colorbar": {
              "outlinewidth": 0,
              "ticks": ""
             }
            },
            "type": "scatter3d"
           }
          ],
          "scattercarpet": [
           {
            "marker": {
             "colorbar": {
              "outlinewidth": 0,
              "ticks": ""
             }
            },
            "type": "scattercarpet"
           }
          ],
          "scattergeo": [
           {
            "marker": {
             "colorbar": {
              "outlinewidth": 0,
              "ticks": ""
             }
            },
            "type": "scattergeo"
           }
          ],
          "scattergl": [
           {
            "marker": {
             "colorbar": {
              "outlinewidth": 0,
              "ticks": ""
             }
            },
            "type": "scattergl"
           }
          ],
          "scattermapbox": [
           {
            "marker": {
             "colorbar": {
              "outlinewidth": 0,
              "ticks": ""
             }
            },
            "type": "scattermapbox"
           }
          ],
          "scatterpolar": [
           {
            "marker": {
             "colorbar": {
              "outlinewidth": 0,
              "ticks": ""
             }
            },
            "type": "scatterpolar"
           }
          ],
          "scatterpolargl": [
           {
            "marker": {
             "colorbar": {
              "outlinewidth": 0,
              "ticks": ""
             }
            },
            "type": "scatterpolargl"
           }
          ],
          "scatterternary": [
           {
            "marker": {
             "colorbar": {
              "outlinewidth": 0,
              "ticks": ""
             }
            },
            "type": "scatterternary"
           }
          ],
          "surface": [
           {
            "colorbar": {
             "outlinewidth": 0,
             "ticks": ""
            },
            "colorscale": [
             [
              0,
              "#0d0887"
             ],
             [
              0.1111111111111111,
              "#46039f"
             ],
             [
              0.2222222222222222,
              "#7201a8"
             ],
             [
              0.3333333333333333,
              "#9c179e"
             ],
             [
              0.4444444444444444,
              "#bd3786"
             ],
             [
              0.5555555555555556,
              "#d8576b"
             ],
             [
              0.6666666666666666,
              "#ed7953"
             ],
             [
              0.7777777777777778,
              "#fb9f3a"
             ],
             [
              0.8888888888888888,
              "#fdca26"
             ],
             [
              1,
              "#f0f921"
             ]
            ],
            "type": "surface"
           }
          ],
          "table": [
           {
            "cells": {
             "fill": {
              "color": "#EBF0F8"
             },
             "line": {
              "color": "white"
             }
            },
            "header": {
             "fill": {
              "color": "#C8D4E3"
             },
             "line": {
              "color": "white"
             }
            },
            "type": "table"
           }
          ]
         },
         "layout": {
          "annotationdefaults": {
           "arrowcolor": "#2a3f5f",
           "arrowhead": 0,
           "arrowwidth": 1
          },
          "autotypenumbers": "strict",
          "coloraxis": {
           "colorbar": {
            "outlinewidth": 0,
            "ticks": ""
           }
          },
          "colorscale": {
           "diverging": [
            [
             0,
             "#8e0152"
            ],
            [
             0.1,
             "#c51b7d"
            ],
            [
             0.2,
             "#de77ae"
            ],
            [
             0.3,
             "#f1b6da"
            ],
            [
             0.4,
             "#fde0ef"
            ],
            [
             0.5,
             "#f7f7f7"
            ],
            [
             0.6,
             "#e6f5d0"
            ],
            [
             0.7,
             "#b8e186"
            ],
            [
             0.8,
             "#7fbc41"
            ],
            [
             0.9,
             "#4d9221"
            ],
            [
             1,
             "#276419"
            ]
           ],
           "sequential": [
            [
             0,
             "#0d0887"
            ],
            [
             0.1111111111111111,
             "#46039f"
            ],
            [
             0.2222222222222222,
             "#7201a8"
            ],
            [
             0.3333333333333333,
             "#9c179e"
            ],
            [
             0.4444444444444444,
             "#bd3786"
            ],
            [
             0.5555555555555556,
             "#d8576b"
            ],
            [
             0.6666666666666666,
             "#ed7953"
            ],
            [
             0.7777777777777778,
             "#fb9f3a"
            ],
            [
             0.8888888888888888,
             "#fdca26"
            ],
            [
             1,
             "#f0f921"
            ]
           ],
           "sequentialminus": [
            [
             0,
             "#0d0887"
            ],
            [
             0.1111111111111111,
             "#46039f"
            ],
            [
             0.2222222222222222,
             "#7201a8"
            ],
            [
             0.3333333333333333,
             "#9c179e"
            ],
            [
             0.4444444444444444,
             "#bd3786"
            ],
            [
             0.5555555555555556,
             "#d8576b"
            ],
            [
             0.6666666666666666,
             "#ed7953"
            ],
            [
             0.7777777777777778,
             "#fb9f3a"
            ],
            [
             0.8888888888888888,
             "#fdca26"
            ],
            [
             1,
             "#f0f921"
            ]
           ]
          },
          "colorway": [
           "#636efa",
           "#EF553B",
           "#00cc96",
           "#ab63fa",
           "#FFA15A",
           "#19d3f3",
           "#FF6692",
           "#B6E880",
           "#FF97FF",
           "#FECB52"
          ],
          "font": {
           "color": "#2a3f5f"
          },
          "geo": {
           "bgcolor": "white",
           "lakecolor": "white",
           "landcolor": "#E5ECF6",
           "showlakes": true,
           "showland": true,
           "subunitcolor": "white"
          },
          "hoverlabel": {
           "align": "left"
          },
          "hovermode": "closest",
          "mapbox": {
           "style": "light"
          },
          "paper_bgcolor": "white",
          "plot_bgcolor": "#E5ECF6",
          "polar": {
           "angularaxis": {
            "gridcolor": "white",
            "linecolor": "white",
            "ticks": ""
           },
           "bgcolor": "#E5ECF6",
           "radialaxis": {
            "gridcolor": "white",
            "linecolor": "white",
            "ticks": ""
           }
          },
          "scene": {
           "xaxis": {
            "backgroundcolor": "#E5ECF6",
            "gridcolor": "white",
            "gridwidth": 2,
            "linecolor": "white",
            "showbackground": true,
            "ticks": "",
            "zerolinecolor": "white"
           },
           "yaxis": {
            "backgroundcolor": "#E5ECF6",
            "gridcolor": "white",
            "gridwidth": 2,
            "linecolor": "white",
            "showbackground": true,
            "ticks": "",
            "zerolinecolor": "white"
           },
           "zaxis": {
            "backgroundcolor": "#E5ECF6",
            "gridcolor": "white",
            "gridwidth": 2,
            "linecolor": "white",
            "showbackground": true,
            "ticks": "",
            "zerolinecolor": "white"
           }
          },
          "shapedefaults": {
           "line": {
            "color": "#2a3f5f"
           }
          },
          "ternary": {
           "aaxis": {
            "gridcolor": "white",
            "linecolor": "white",
            "ticks": ""
           },
           "baxis": {
            "gridcolor": "white",
            "linecolor": "white",
            "ticks": ""
           },
           "bgcolor": "#E5ECF6",
           "caxis": {
            "gridcolor": "white",
            "linecolor": "white",
            "ticks": ""
           }
          },
          "title": {
           "x": 0.05
          },
          "xaxis": {
           "automargin": true,
           "gridcolor": "white",
           "linecolor": "white",
           "ticks": "",
           "title": {
            "standoff": 15
           },
           "zerolinecolor": "white",
           "zerolinewidth": 2
          },
          "yaxis": {
           "automargin": true,
           "gridcolor": "white",
           "linecolor": "white",
           "ticks": "",
           "title": {
            "standoff": 15
           },
           "zerolinecolor": "white",
           "zerolinewidth": 2
          }
         }
        },
        "width": 600,
        "xaxis": {
         "linecolor": "black",
         "mirror": true,
         "title": {
          "text": "B"
         }
        },
        "yaxis": {
         "linecolor": "black",
         "mirror": true,
         "title": {
          "text": "C"
         }
        }
       }
      }
     },
     "metadata": {},
     "output_type": "display_data"
    }
   ],
   "source": [
    "with Backend(\"plotly\"):\n",
    "    fig = df.iloc[:, 1:3].pyroplot.scatter()\n",
    "\n",
    "fig"
   ]
  },
  {
   "cell_type": "code",
   "execution_count": 24,
   "metadata": {},
   "outputs": [
    {
     "data": {
      "application/vnd.plotly.v1+json": {
       "config": {
        "plotlyServerURL": "https://plot.ly"
       },
       "data": [
        {
         "marker": {
          "color": "rgba(0, 0, 0, 1)"
         },
         "mode": "markers",
         "showlegend": false,
         "text": [
          "Sample K1",
          "Sample K2",
          "Sample K3",
          "Sample K4",
          "Sample K5",
          "Sample K6",
          "Sample K7",
          "Sample K8",
          "Sample K9",
          "Sample K10",
          "Sample K11",
          "Sample K12",
          "Sample K13",
          "Sample K14",
          "Sample K15",
          "Sample K16",
          "Sample K17",
          "Sample K18",
          "Sample K19",
          "Sample K20",
          "Sample K21",
          "Sample K22",
          "Sample K23",
          "Sample K24",
          "Sample K25"
         ],
         "type": "scatter",
         "x": [
          6.1,
          14.900000000000002,
          23.9,
          24.199999999999996,
          47.6,
          33.2,
          21.499999999999996,
          23.599999999999998,
          2.3,
          23.4,
          6.699999999999999,
          28.1,
          24.3,
          9.5,
          19,
          43.3,
          23.900000000000002,
          20.3,
          17.899999999999995,
          14.3,
          30.900000000000006,
          33.1013916500994,
          23.4,
          4.5,
          15.000000000000002
         ],
         "y": [
          41.3,
          16.1,
          6,
          10.7,
          0.6,
          1.9,
          10.7,
          6.199999999999999,
          65.8,
          10.4,
          42.99999999999999,
          5.1,
          7.6,
          30.599999999999998,
          17.3,
          1.6,
          10.300000000000002,
          13.600000000000001,
          10.7,
          18.5,
          4.6000000000000005,
          4.572564612326044,
          8.7,
          47,
          19.400000000000002
         ]
        }
       ],
       "layout": {
        "plot_bgcolor": "white",
        "template": {
         "data": {
          "bar": [
           {
            "error_x": {
             "color": "#2a3f5f"
            },
            "error_y": {
             "color": "#2a3f5f"
            },
            "marker": {
             "line": {
              "color": "#E5ECF6",
              "width": 0.5
             },
             "pattern": {
              "fillmode": "overlay",
              "size": 10,
              "solidity": 0.2
             }
            },
            "type": "bar"
           }
          ],
          "barpolar": [
           {
            "marker": {
             "line": {
              "color": "#E5ECF6",
              "width": 0.5
             },
             "pattern": {
              "fillmode": "overlay",
              "size": 10,
              "solidity": 0.2
             }
            },
            "type": "barpolar"
           }
          ],
          "carpet": [
           {
            "aaxis": {
             "endlinecolor": "#2a3f5f",
             "gridcolor": "white",
             "linecolor": "white",
             "minorgridcolor": "white",
             "startlinecolor": "#2a3f5f"
            },
            "baxis": {
             "endlinecolor": "#2a3f5f",
             "gridcolor": "white",
             "linecolor": "white",
             "minorgridcolor": "white",
             "startlinecolor": "#2a3f5f"
            },
            "type": "carpet"
           }
          ],
          "choropleth": [
           {
            "colorbar": {
             "outlinewidth": 0,
             "ticks": ""
            },
            "type": "choropleth"
           }
          ],
          "contour": [
           {
            "colorbar": {
             "outlinewidth": 0,
             "ticks": ""
            },
            "colorscale": [
             [
              0,
              "#0d0887"
             ],
             [
              0.1111111111111111,
              "#46039f"
             ],
             [
              0.2222222222222222,
              "#7201a8"
             ],
             [
              0.3333333333333333,
              "#9c179e"
             ],
             [
              0.4444444444444444,
              "#bd3786"
             ],
             [
              0.5555555555555556,
              "#d8576b"
             ],
             [
              0.6666666666666666,
              "#ed7953"
             ],
             [
              0.7777777777777778,
              "#fb9f3a"
             ],
             [
              0.8888888888888888,
              "#fdca26"
             ],
             [
              1,
              "#f0f921"
             ]
            ],
            "type": "contour"
           }
          ],
          "contourcarpet": [
           {
            "colorbar": {
             "outlinewidth": 0,
             "ticks": ""
            },
            "type": "contourcarpet"
           }
          ],
          "heatmap": [
           {
            "colorbar": {
             "outlinewidth": 0,
             "ticks": ""
            },
            "colorscale": [
             [
              0,
              "#0d0887"
             ],
             [
              0.1111111111111111,
              "#46039f"
             ],
             [
              0.2222222222222222,
              "#7201a8"
             ],
             [
              0.3333333333333333,
              "#9c179e"
             ],
             [
              0.4444444444444444,
              "#bd3786"
             ],
             [
              0.5555555555555556,
              "#d8576b"
             ],
             [
              0.6666666666666666,
              "#ed7953"
             ],
             [
              0.7777777777777778,
              "#fb9f3a"
             ],
             [
              0.8888888888888888,
              "#fdca26"
             ],
             [
              1,
              "#f0f921"
             ]
            ],
            "type": "heatmap"
           }
          ],
          "heatmapgl": [
           {
            "colorbar": {
             "outlinewidth": 0,
             "ticks": ""
            },
            "colorscale": [
             [
              0,
              "#0d0887"
             ],
             [
              0.1111111111111111,
              "#46039f"
             ],
             [
              0.2222222222222222,
              "#7201a8"
             ],
             [
              0.3333333333333333,
              "#9c179e"
             ],
             [
              0.4444444444444444,
              "#bd3786"
             ],
             [
              0.5555555555555556,
              "#d8576b"
             ],
             [
              0.6666666666666666,
              "#ed7953"
             ],
             [
              0.7777777777777778,
              "#fb9f3a"
             ],
             [
              0.8888888888888888,
              "#fdca26"
             ],
             [
              1,
              "#f0f921"
             ]
            ],
            "type": "heatmapgl"
           }
          ],
          "histogram": [
           {
            "marker": {
             "pattern": {
              "fillmode": "overlay",
              "size": 10,
              "solidity": 0.2
             }
            },
            "type": "histogram"
           }
          ],
          "histogram2d": [
           {
            "colorbar": {
             "outlinewidth": 0,
             "ticks": ""
            },
            "colorscale": [
             [
              0,
              "#0d0887"
             ],
             [
              0.1111111111111111,
              "#46039f"
             ],
             [
              0.2222222222222222,
              "#7201a8"
             ],
             [
              0.3333333333333333,
              "#9c179e"
             ],
             [
              0.4444444444444444,
              "#bd3786"
             ],
             [
              0.5555555555555556,
              "#d8576b"
             ],
             [
              0.6666666666666666,
              "#ed7953"
             ],
             [
              0.7777777777777778,
              "#fb9f3a"
             ],
             [
              0.8888888888888888,
              "#fdca26"
             ],
             [
              1,
              "#f0f921"
             ]
            ],
            "type": "histogram2d"
           }
          ],
          "histogram2dcontour": [
           {
            "colorbar": {
             "outlinewidth": 0,
             "ticks": ""
            },
            "colorscale": [
             [
              0,
              "#0d0887"
             ],
             [
              0.1111111111111111,
              "#46039f"
             ],
             [
              0.2222222222222222,
              "#7201a8"
             ],
             [
              0.3333333333333333,
              "#9c179e"
             ],
             [
              0.4444444444444444,
              "#bd3786"
             ],
             [
              0.5555555555555556,
              "#d8576b"
             ],
             [
              0.6666666666666666,
              "#ed7953"
             ],
             [
              0.7777777777777778,
              "#fb9f3a"
             ],
             [
              0.8888888888888888,
              "#fdca26"
             ],
             [
              1,
              "#f0f921"
             ]
            ],
            "type": "histogram2dcontour"
           }
          ],
          "mesh3d": [
           {
            "colorbar": {
             "outlinewidth": 0,
             "ticks": ""
            },
            "type": "mesh3d"
           }
          ],
          "parcoords": [
           {
            "line": {
             "colorbar": {
              "outlinewidth": 0,
              "ticks": ""
             }
            },
            "type": "parcoords"
           }
          ],
          "pie": [
           {
            "automargin": true,
            "type": "pie"
           }
          ],
          "scatter": [
           {
            "fillpattern": {
             "fillmode": "overlay",
             "size": 10,
             "solidity": 0.2
            },
            "type": "scatter"
           }
          ],
          "scatter3d": [
           {
            "line": {
             "colorbar": {
              "outlinewidth": 0,
              "ticks": ""
             }
            },
            "marker": {
             "colorbar": {
              "outlinewidth": 0,
              "ticks": ""
             }
            },
            "type": "scatter3d"
           }
          ],
          "scattercarpet": [
           {
            "marker": {
             "colorbar": {
              "outlinewidth": 0,
              "ticks": ""
             }
            },
            "type": "scattercarpet"
           }
          ],
          "scattergeo": [
           {
            "marker": {
             "colorbar": {
              "outlinewidth": 0,
              "ticks": ""
             }
            },
            "type": "scattergeo"
           }
          ],
          "scattergl": [
           {
            "marker": {
             "colorbar": {
              "outlinewidth": 0,
              "ticks": ""
             }
            },
            "type": "scattergl"
           }
          ],
          "scattermapbox": [
           {
            "marker": {
             "colorbar": {
              "outlinewidth": 0,
              "ticks": ""
             }
            },
            "type": "scattermapbox"
           }
          ],
          "scatterpolar": [
           {
            "marker": {
             "colorbar": {
              "outlinewidth": 0,
              "ticks": ""
             }
            },
            "type": "scatterpolar"
           }
          ],
          "scatterpolargl": [
           {
            "marker": {
             "colorbar": {
              "outlinewidth": 0,
              "ticks": ""
             }
            },
            "type": "scatterpolargl"
           }
          ],
          "scatterternary": [
           {
            "marker": {
             "colorbar": {
              "outlinewidth": 0,
              "ticks": ""
             }
            },
            "type": "scatterternary"
           }
          ],
          "surface": [
           {
            "colorbar": {
             "outlinewidth": 0,
             "ticks": ""
            },
            "colorscale": [
             [
              0,
              "#0d0887"
             ],
             [
              0.1111111111111111,
              "#46039f"
             ],
             [
              0.2222222222222222,
              "#7201a8"
             ],
             [
              0.3333333333333333,
              "#9c179e"
             ],
             [
              0.4444444444444444,
              "#bd3786"
             ],
             [
              0.5555555555555556,
              "#d8576b"
             ],
             [
              0.6666666666666666,
              "#ed7953"
             ],
             [
              0.7777777777777778,
              "#fb9f3a"
             ],
             [
              0.8888888888888888,
              "#fdca26"
             ],
             [
              1,
              "#f0f921"
             ]
            ],
            "type": "surface"
           }
          ],
          "table": [
           {
            "cells": {
             "fill": {
              "color": "#EBF0F8"
             },
             "line": {
              "color": "white"
             }
            },
            "header": {
             "fill": {
              "color": "#C8D4E3"
             },
             "line": {
              "color": "white"
             }
            },
            "type": "table"
           }
          ]
         },
         "layout": {
          "annotationdefaults": {
           "arrowcolor": "#2a3f5f",
           "arrowhead": 0,
           "arrowwidth": 1
          },
          "autotypenumbers": "strict",
          "coloraxis": {
           "colorbar": {
            "outlinewidth": 0,
            "ticks": ""
           }
          },
          "colorscale": {
           "diverging": [
            [
             0,
             "#8e0152"
            ],
            [
             0.1,
             "#c51b7d"
            ],
            [
             0.2,
             "#de77ae"
            ],
            [
             0.3,
             "#f1b6da"
            ],
            [
             0.4,
             "#fde0ef"
            ],
            [
             0.5,
             "#f7f7f7"
            ],
            [
             0.6,
             "#e6f5d0"
            ],
            [
             0.7,
             "#b8e186"
            ],
            [
             0.8,
             "#7fbc41"
            ],
            [
             0.9,
             "#4d9221"
            ],
            [
             1,
             "#276419"
            ]
           ],
           "sequential": [
            [
             0,
             "#0d0887"
            ],
            [
             0.1111111111111111,
             "#46039f"
            ],
            [
             0.2222222222222222,
             "#7201a8"
            ],
            [
             0.3333333333333333,
             "#9c179e"
            ],
            [
             0.4444444444444444,
             "#bd3786"
            ],
            [
             0.5555555555555556,
             "#d8576b"
            ],
            [
             0.6666666666666666,
             "#ed7953"
            ],
            [
             0.7777777777777778,
             "#fb9f3a"
            ],
            [
             0.8888888888888888,
             "#fdca26"
            ],
            [
             1,
             "#f0f921"
            ]
           ],
           "sequentialminus": [
            [
             0,
             "#0d0887"
            ],
            [
             0.1111111111111111,
             "#46039f"
            ],
            [
             0.2222222222222222,
             "#7201a8"
            ],
            [
             0.3333333333333333,
             "#9c179e"
            ],
            [
             0.4444444444444444,
             "#bd3786"
            ],
            [
             0.5555555555555556,
             "#d8576b"
            ],
            [
             0.6666666666666666,
             "#ed7953"
            ],
            [
             0.7777777777777778,
             "#fb9f3a"
            ],
            [
             0.8888888888888888,
             "#fdca26"
            ],
            [
             1,
             "#f0f921"
            ]
           ]
          },
          "colorway": [
           "#636efa",
           "#EF553B",
           "#00cc96",
           "#ab63fa",
           "#FFA15A",
           "#19d3f3",
           "#FF6692",
           "#B6E880",
           "#FF97FF",
           "#FECB52"
          ],
          "font": {
           "color": "#2a3f5f"
          },
          "geo": {
           "bgcolor": "white",
           "lakecolor": "white",
           "landcolor": "#E5ECF6",
           "showlakes": true,
           "showland": true,
           "subunitcolor": "white"
          },
          "hoverlabel": {
           "align": "left"
          },
          "hovermode": "closest",
          "mapbox": {
           "style": "light"
          },
          "paper_bgcolor": "white",
          "plot_bgcolor": "#E5ECF6",
          "polar": {
           "angularaxis": {
            "gridcolor": "white",
            "linecolor": "white",
            "ticks": ""
           },
           "bgcolor": "#E5ECF6",
           "radialaxis": {
            "gridcolor": "white",
            "linecolor": "white",
            "ticks": ""
           }
          },
          "scene": {
           "xaxis": {
            "backgroundcolor": "#E5ECF6",
            "gridcolor": "white",
            "gridwidth": 2,
            "linecolor": "white",
            "showbackground": true,
            "ticks": "",
            "zerolinecolor": "white"
           },
           "yaxis": {
            "backgroundcolor": "#E5ECF6",
            "gridcolor": "white",
            "gridwidth": 2,
            "linecolor": "white",
            "showbackground": true,
            "ticks": "",
            "zerolinecolor": "white"
           },
           "zaxis": {
            "backgroundcolor": "#E5ECF6",
            "gridcolor": "white",
            "gridwidth": 2,
            "linecolor": "white",
            "showbackground": true,
            "ticks": "",
            "zerolinecolor": "white"
           }
          },
          "shapedefaults": {
           "line": {
            "color": "#2a3f5f"
           }
          },
          "ternary": {
           "aaxis": {
            "gridcolor": "white",
            "linecolor": "white",
            "ticks": ""
           },
           "baxis": {
            "gridcolor": "white",
            "linecolor": "white",
            "ticks": ""
           },
           "bgcolor": "#E5ECF6",
           "caxis": {
            "gridcolor": "white",
            "linecolor": "white",
            "ticks": ""
           }
          },
          "title": {
           "x": 0.05
          },
          "xaxis": {
           "automargin": true,
           "gridcolor": "white",
           "linecolor": "white",
           "ticks": "",
           "title": {
            "standoff": 15
           },
           "zerolinecolor": "white",
           "zerolinewidth": 2
          },
          "yaxis": {
           "automargin": true,
           "gridcolor": "white",
           "linecolor": "white",
           "ticks": "",
           "title": {
            "standoff": 15
           },
           "zerolinecolor": "white",
           "zerolinewidth": 2
          }
         }
        },
        "width": 600,
        "xaxis": {
         "linecolor": "black",
         "mirror": true,
         "title": {
          "text": "B"
         }
        },
        "yaxis": {
         "linecolor": "black",
         "mirror": true,
         "title": {
          "text": "C"
         }
        }
       }
      }
     },
     "metadata": {},
     "output_type": "display_data"
    }
   ],
   "source": [
    "df.iloc[:, 1:3].pyroplot.scatter(backend=\"plotly\")"
   ]
  },
  {
   "cell_type": "code",
   "execution_count": 16,
   "metadata": {},
   "outputs": [
    {
     "data": {
      "text/plain": [
       "<TernaryAxes: tlabel='A', llabel='B', rlabel='C'>"
      ]
     },
     "execution_count": 16,
     "metadata": {},
     "output_type": "execute_result"
    },
    {
     "data": {
      "image/png": "[encoded data removed]",
      "text/plain": [
       "<Figure size 640x480 with 1 Axes>"
      ]
     },
     "metadata": {},
     "output_type": "display_data"
    }
   ],
   "source": [
    "df.iloc[:, :3].pyroplot.scatter(color=\"k\")"
   ]
  },
  {
   "cell_type": "code",
   "execution_count": 17,
   "metadata": {},
   "outputs": [
    {
     "data": {
      "application/vnd.plotly.v1+json": {
       "config": {
        "plotlyServerURL": "https://plot.ly"
       },
       "data": [
        {
         "a": [
          33.5,
          47.60000000000001,
          52.7,
          44.49999999999999,
          42.3,
          51.800000000000004,
          47.89999999999999,
          51.2,
          19.3,
          46.1,
          30.599999999999998,
          49.7,
          49.4,
          38.4,
          41.6,
          42.3,
          45.70000000000001,
          45.5,
          52.099999999999994,
          46.2,
          47.20000000000001,
          45.12922465208747,
          48.6,
          31.2,
          44.300000000000004
         ],
         "b": [
          6.1,
          14.900000000000002,
          23.9,
          24.199999999999996,
          47.6,
          33.2,
          21.499999999999996,
          23.599999999999998,
          2.3,
          23.4,
          6.699999999999999,
          28.1,
          24.3,
          9.5,
          19,
          43.3,
          23.900000000000002,
          20.3,
          17.899999999999995,
          14.3,
          30.900000000000006,
          33.1013916500994,
          23.4,
          4.5,
          15.000000000000002
         ],
         "c": [
          41.3,
          16.1,
          6,
          10.7,
          0.6,
          1.9,
          10.7,
          6.199999999999999,
          65.8,
          10.4,
          42.99999999999999,
          5.1,
          7.6,
          30.599999999999998,
          17.3,
          1.6,
          10.300000000000002,
          13.600000000000001,
          10.7,
          18.5,
          4.6000000000000005,
          4.572564612326044,
          8.7,
          47,
          19.400000000000002
         ],
         "marker": {
          "color": "rgba(0, 0, 0, 1)"
         },
         "mode": "markers",
         "text": [
          "K1",
          "K2",
          "K3",
          "K4",
          "K5",
          "K6",
          "K7",
          "K8",
          "K9",
          "K10",
          "K11",
          "K12",
          "K13",
          "K14",
          "K15",
          "K16",
          "K17",
          "K18",
          "K19",
          "K20",
          "K21",
          "K22",
          "K23",
          "K24",
          "K25"
         ],
         "type": "scatterternary"
        }
       ],
       "layout": {
        "plot_bgcolor": "white",
        "template": {
         "data": {
          "bar": [
           {
            "error_x": {
             "color": "#2a3f5f"
            },
            "error_y": {
             "color": "#2a3f5f"
            },
            "marker": {
             "line": {
              "color": "#E5ECF6",
              "width": 0.5
             },
             "pattern": {
              "fillmode": "overlay",
              "size": 10,
              "solidity": 0.2
             }
            },
            "type": "bar"
           }
          ],
          "barpolar": [
           {
            "marker": {
             "line": {
              "color": "#E5ECF6",
              "width": 0.5
             },
             "pattern": {
              "fillmode": "overlay",
              "size": 10,
              "solidity": 0.2
             }
            },
            "type": "barpolar"
           }
          ],
          "carpet": [
           {
            "aaxis": {
             "endlinecolor": "#2a3f5f",
             "gridcolor": "white",
             "linecolor": "white",
             "minorgridcolor": "white",
             "startlinecolor": "#2a3f5f"
            },
            "baxis": {
             "endlinecolor": "#2a3f5f",
             "gridcolor": "white",
             "linecolor": "white",
             "minorgridcolor": "white",
             "startlinecolor": "#2a3f5f"
            },
            "type": "carpet"
           }
          ],
          "choropleth": [
           {
            "colorbar": {
             "outlinewidth": 0,
             "ticks": ""
            },
            "type": "choropleth"
           }
          ],
          "contour": [
           {
            "colorbar": {
             "outlinewidth": 0,
             "ticks": ""
            },
            "colorscale": [
             [
              0,
              "#0d0887"
             ],
             [
              0.1111111111111111,
              "#46039f"
             ],
             [
              0.2222222222222222,
              "#7201a8"
             ],
             [
              0.3333333333333333,
              "#9c179e"
             ],
             [
              0.4444444444444444,
              "#bd3786"
             ],
             [
              0.5555555555555556,
              "#d8576b"
             ],
             [
              0.6666666666666666,
              "#ed7953"
             ],
             [
              0.7777777777777778,
              "#fb9f3a"
             ],
             [
              0.8888888888888888,
              "#fdca26"
             ],
             [
              1,
              "#f0f921"
             ]
            ],
            "type": "contour"
           }
          ],
          "contourcarpet": [
           {
            "colorbar": {
             "outlinewidth": 0,
             "ticks": ""
            },
            "type": "contourcarpet"
           }
          ],
          "heatmap": [
           {
            "colorbar": {
             "outlinewidth": 0,
             "ticks": ""
            },
            "colorscale": [
             [
              0,
              "#0d0887"
             ],
             [
              0.1111111111111111,
              "#46039f"
             ],
             [
              0.2222222222222222,
              "#7201a8"
             ],
             [
              0.3333333333333333,
              "#9c179e"
             ],
             [
              0.4444444444444444,
              "#bd3786"
             ],
             [
              0.5555555555555556,
              "#d8576b"
             ],
             [
              0.6666666666666666,
              "#ed7953"
             ],
             [
              0.7777777777777778,
              "#fb9f3a"
             ],
             [
              0.8888888888888888,
              "#fdca26"
             ],
             [
              1,
              "#f0f921"
             ]
            ],
            "type": "heatmap"
           }
          ],
          "heatmapgl": [
           {
            "colorbar": {
             "outlinewidth": 0,
             "ticks": ""
            },
            "colorscale": [
             [
              0,
              "#0d0887"
             ],
             [
              0.1111111111111111,
              "#46039f"
             ],
             [
              0.2222222222222222,
              "#7201a8"
             ],
             [
              0.3333333333333333,
              "#9c179e"
             ],
             [
              0.4444444444444444,
              "#bd3786"
             ],
             [
              0.5555555555555556,
              "#d8576b"
             ],
             [
              0.6666666666666666,
              "#ed7953"
             ],
             [
              0.7777777777777778,
              "#fb9f3a"
             ],
             [
              0.8888888888888888,
              "#fdca26"
             ],
             [
              1,
              "#f0f921"
             ]
            ],
            "type": "heatmapgl"
           }
          ],
          "histogram": [
           {
            "marker": {
             "pattern": {
              "fillmode": "overlay",
              "size": 10,
              "solidity": 0.2
             }
            },
            "type": "histogram"
           }
          ],
          "histogram2d": [
           {
            "colorbar": {
             "outlinewidth": 0,
             "ticks": ""
            },
            "colorscale": [
             [
              0,
              "#0d0887"
             ],
             [
              0.1111111111111111,
              "#46039f"
             ],
             [
              0.2222222222222222,
              "#7201a8"
             ],
             [
              0.3333333333333333,
              "#9c179e"
             ],
             [
              0.4444444444444444,
              "#bd3786"
             ],
             [
              0.5555555555555556,
              "#d8576b"
             ],
             [
              0.6666666666666666,
              "#ed7953"
             ],
             [
              0.7777777777777778,
              "#fb9f3a"
             ],
             [
              0.8888888888888888,
              "#fdca26"
             ],
             [
              1,
              "#f0f921"
             ]
            ],
            "type": "histogram2d"
           }
          ],
          "histogram2dcontour": [
           {
            "colorbar": {
             "outlinewidth": 0,
             "ticks": ""
            },
            "colorscale": [
             [
              0,
              "#0d0887"
             ],
             [
              0.1111111111111111,
              "#46039f"
             ],
             [
              0.2222222222222222,
              "#7201a8"
             ],
             [
              0.3333333333333333,
              "#9c179e"
             ],
             [
              0.4444444444444444,
              "#bd3786"
             ],
             [
              0.5555555555555556,
              "#d8576b"
             ],
             [
              0.6666666666666666,
              "#ed7953"
             ],
             [
              0.7777777777777778,
              "#fb9f3a"
             ],
             [
              0.8888888888888888,
              "#fdca26"
             ],
             [
              1,
              "#f0f921"
             ]
            ],
            "type": "histogram2dcontour"
           }
          ],
          "mesh3d": [
           {
            "colorbar": {
             "outlinewidth": 0,
             "ticks": ""
            },
            "type": "mesh3d"
           }
          ],
          "parcoords": [
           {
            "line": {
             "colorbar": {
              "outlinewidth": 0,
              "ticks": ""
             }
            },
            "type": "parcoords"
           }
          ],
          "pie": [
           {
            "automargin": true,
            "type": "pie"
           }
          ],
          "scatter": [
           {
            "fillpattern": {
             "fillmode": "overlay",
             "size": 10,
             "solidity": 0.2
            },
            "type": "scatter"
           }
          ],
          "scatter3d": [
           {
            "line": {
             "colorbar": {
              "outlinewidth": 0,
              "ticks": ""
             }
            },
            "marker": {
             "colorbar": {
              "outlinewidth": 0,
              "ticks": ""
             }
            },
            "type": "scatter3d"
           }
          ],
          "scattercarpet": [
           {
            "marker": {
             "colorbar": {
              "outlinewidth": 0,
              "ticks": ""
             }
            },
            "type": "scattercarpet"
           }
          ],
          "scattergeo": [
           {
            "marker": {
             "colorbar": {
              "outlinewidth": 0,
              "ticks": ""
             }
            },
            "type": "scattergeo"
           }
          ],
          "scattergl": [
           {
            "marker": {
             "colorbar": {
              "outlinewidth": 0,
              "ticks": ""
             }
            },
            "type": "scattergl"
           }
          ],
          "scattermapbox": [
           {
            "marker": {
             "colorbar": {
              "outlinewidth": 0,
              "ticks": ""
             }
            },
            "type": "scattermapbox"
           }
          ],
          "scatterpolar": [
           {
            "marker": {
             "colorbar": {
              "outlinewidth": 0,
              "ticks": ""
             }
            },
            "type": "scatterpolar"
           }
          ],
          "scatterpolargl": [
           {
            "marker": {
             "colorbar": {
              "outlinewidth": 0,
              "ticks": ""
             }
            },
            "type": "scatterpolargl"
           }
          ],
          "scatterternary": [
           {
            "marker": {
             "colorbar": {
              "outlinewidth": 0,
              "ticks": ""
             }
            },
            "type": "scatterternary"
           }
          ],
          "surface": [
           {
            "colorbar": {
             "outlinewidth": 0,
             "ticks": ""
            },
            "colorscale": [
             [
              0,
              "#0d0887"
             ],
             [
              0.1111111111111111,
              "#46039f"
             ],
             [
              0.2222222222222222,
              "#7201a8"
             ],
             [
              0.3333333333333333,
              "#9c179e"
             ],
             [
              0.4444444444444444,
              "#bd3786"
             ],
             [
              0.5555555555555556,
              "#d8576b"
             ],
             [
              0.6666666666666666,
              "#ed7953"
             ],
             [
              0.7777777777777778,
              "#fb9f3a"
             ],
             [
              0.8888888888888888,
              "#fdca26"
             ],
             [
              1,
              "#f0f921"
             ]
            ],
            "type": "surface"
           }
          ],
          "table": [
           {
            "cells": {
             "fill": {
              "color": "#EBF0F8"
             },
             "line": {
              "color": "white"
             }
            },
            "header": {
             "fill": {
              "color": "#C8D4E3"
             },
             "line": {
              "color": "white"
             }
            },
            "type": "table"
           }
          ]
         },
         "layout": {
          "annotationdefaults": {
           "arrowcolor": "#2a3f5f",
           "arrowhead": 0,
           "arrowwidth": 1
          },
          "autotypenumbers": "strict",
          "coloraxis": {
           "colorbar": {
            "outlinewidth": 0,
            "ticks": ""
           }
          },
          "colorscale": {
           "diverging": [
            [
             0,
             "#8e0152"
            ],
            [
             0.1,
             "#c51b7d"
            ],
            [
             0.2,
             "#de77ae"
            ],
            [
             0.3,
             "#f1b6da"
            ],
            [
             0.4,
             "#fde0ef"
            ],
            [
             0.5,
             "#f7f7f7"
            ],
            [
             0.6,
             "#e6f5d0"
            ],
            [
             0.7,
             "#b8e186"
            ],
            [
             0.8,
             "#7fbc41"
            ],
            [
             0.9,
             "#4d9221"
            ],
            [
             1,
             "#276419"
            ]
           ],
           "sequential": [
            [
             0,
             "#0d0887"
            ],
            [
             0.1111111111111111,
             "#46039f"
            ],
            [
             0.2222222222222222,
             "#7201a8"
            ],
            [
             0.3333333333333333,
             "#9c179e"
            ],
            [
             0.4444444444444444,
             "#bd3786"
            ],
            [
             0.5555555555555556,
             "#d8576b"
            ],
            [
             0.6666666666666666,
             "#ed7953"
            ],
            [
             0.7777777777777778,
             "#fb9f3a"
            ],
            [
             0.8888888888888888,
             "#fdca26"
            ],
            [
             1,
             "#f0f921"
            ]
           ],
           "sequentialminus": [
            [
             0,
             "#0d0887"
            ],
            [
             0.1111111111111111,
             "#46039f"
            ],
            [
             0.2222222222222222,
             "#7201a8"
            ],
            [
             0.3333333333333333,
             "#9c179e"
            ],
            [
             0.4444444444444444,
             "#bd3786"
            ],
            [
             0.5555555555555556,
             "#d8576b"
            ],
            [
             0.6666666666666666,
             "#ed7953"
            ],
            [
             0.7777777777777778,
             "#fb9f3a"
            ],
            [
             0.8888888888888888,
             "#fdca26"
            ],
            [
             1,
             "#f0f921"
            ]
           ]
          },
          "colorway": [
           "#636efa",
           "#EF553B",
           "#00cc96",
           "#ab63fa",
           "#FFA15A",
           "#19d3f3",
           "#FF6692",
           "#B6E880",
           "#FF97FF",
           "#FECB52"
          ],
          "font": {
           "color": "#2a3f5f"
          },
          "geo": {
           "bgcolor": "white",
           "lakecolor": "white",
           "landcolor": "#E5ECF6",
           "showlakes": true,
           "showland": true,
           "subunitcolor": "white"
          },
          "hoverlabel": {
           "align": "left"
          },
          "hovermode": "closest",
          "mapbox": {
           "style": "light"
          },
          "paper_bgcolor": "white",
          "plot_bgcolor": "#E5ECF6",
          "polar": {
           "angularaxis": {
            "gridcolor": "white",
            "linecolor": "white",
            "ticks": ""
           },
           "bgcolor": "#E5ECF6",
           "radialaxis": {
            "gridcolor": "white",
            "linecolor": "white",
            "ticks": ""
           }
          },
          "scene": {
           "xaxis": {
            "backgroundcolor": "#E5ECF6",
            "gridcolor": "white",
            "gridwidth": 2,
            "linecolor": "white",
            "showbackground": true,
            "ticks": "",
            "zerolinecolor": "white"
           },
           "yaxis": {
            "backgroundcolor": "#E5ECF6",
            "gridcolor": "white",
            "gridwidth": 2,
            "linecolor": "white",
            "showbackground": true,
            "ticks": "",
            "zerolinecolor": "white"
           },
           "zaxis": {
            "backgroundcolor": "#E5ECF6",
            "gridcolor": "white",
            "gridwidth": 2,
            "linecolor": "white",
            "showbackground": true,
            "ticks": "",
            "zerolinecolor": "white"
           }
          },
          "shapedefaults": {
           "line": {
            "color": "#2a3f5f"
           }
          },
          "ternary": {
           "aaxis": {
            "gridcolor": "white",
            "linecolor": "white",
            "ticks": ""
           },
           "baxis": {
            "gridcolor": "white",
            "linecolor": "white",
            "ticks": ""
           },
           "bgcolor": "#E5ECF6",
           "caxis": {
            "gridcolor": "white",
            "linecolor": "white",
            "ticks": ""
           }
          },
          "title": {
           "x": 0.05
          },
          "xaxis": {
           "automargin": true,
           "gridcolor": "white",
           "linecolor": "white",
           "ticks": "",
           "title": {
            "standoff": 15
           },
           "zerolinecolor": "white",
           "zerolinewidth": 2
          },
          "yaxis": {
           "automargin": true,
           "gridcolor": "white",
           "linecolor": "white",
           "ticks": "",
           "title": {
            "standoff": 15
           },
           "zerolinecolor": "white",
           "zerolinewidth": 2
          }
         }
        },
        "ternary": {
         "aaxis": {
          "linecolor": "black",
          "showgrid": false,
          "title": {
           "text": "A"
          }
         },
         "baxis": {
          "linecolor": "black",
          "showgrid": false,
          "title": {
           "text": "B"
          }
         },
         "bgcolor": "white",
         "caxis": {
          "linecolor": "black",
          "showgrid": false,
          "title": {
           "text": "C"
          }
         }
        },
        "width": 600
       }
      }
     },
     "metadata": {},
     "output_type": "display_data"
    }
   ],
   "source": [
    "with Backend(\"plotly\"):\n",
    "    fig = df.iloc[:, :3].pyroplot.scatter(color=\"k\")\n",
    "\n",
    "fig\n",
    "# fig.write_html(\"ternary.html\")"
   ]
  },
  {
   "cell_type": "code",
   "execution_count": 18,
   "metadata": {},
   "outputs": [
    {
     "data": {
      "text/plain": [
       "<Axes: >"
      ]
     },
     "execution_count": 18,
     "metadata": {},
     "output_type": "execute_result"
    },
    {
     "data": {
      "image/png": "[encoded data removed]",
      "text/plain": [
       "<Figure size 640x480 with 1 Axes>"
      ]
     },
     "metadata": {},
     "output_type": "display_data"
    }
   ],
   "source": [
    "ree_df.pyroplot.spider(unity_line=True, color=\"0.5\", alpha=0.5)"
   ]
  },
  {
   "cell_type": "code",
   "execution_count": 19,
   "metadata": {},
   "outputs": [
    {
     "data": {
      "application/vnd.plotly.v1+json": {
       "config": {
        "plotlyServerURL": "https://plot.ly"
       },
       "data": [
        {
         "hoverinfo": "text",
         "line": {
          "color": "rgba(127, 127, 127, 0.5)"
         },
         "mode": "lines+markers",
         "name": "Sample 0",
         "showlegend": false,
         "text": "λ0: 2.49<br>λ1: -14.22<br>λ2: -2.14<br>λ3: -208.88<br>Eu/Eu*: 3.21",
         "type": "scatter",
         "x": [
          "La",
          "Ce",
          "Pr",
          "Nd",
          "Sm",
          "Eu",
          "Gd",
          "Tb",
          "Dy",
          "Ho",
          "Er",
          "Yb",
          "Lu"
         ],
         "y": [
          0.8860554527538845,
          0.9279600169532926,
          1.2269918915442646,
          1.273231017388736,
          1.6509410485203706,
          1.9983720760317667,
          1.8268965786645597,
          1.8961836878962102,
          2.0537806681658344,
          2.1515702931967264,
          2.210414772635106,
          2.2129108447570687,
          2.314289566398867
         ]
        },
        {
         "hoverinfo": "text",
         "line": {
          "color": "rgba(127, 127, 127, 0.5)"
         },
         "mode": "lines+markers",
         "name": "Sample 1",
         "showlegend": false,
         "text": "λ0: 2.45<br>λ1: -14.73<br>λ2: -4.67<br>λ3: -385.36<br>Eu/Eu*: 3.38",
         "type": "scatter",
         "x": [
          "La",
          "Ce",
          "Pr",
          "Nd",
          "Sm",
          "Eu",
          "Gd",
          "Tb",
          "Dy",
          "Ho",
          "Er",
          "Yb",
          "Lu"
         ],
         "y": [
          0.7506611096723267,
          0.8977324489784506,
          1.171151612196498,
          1.2347688736994786,
          1.5607039605752864,
          2.0519796699213084,
          1.805654715885398,
          1.8757316454463793,
          1.979457378085693,
          2.051806486594704,
          2.1139242429853873,
          2.235124276909214,
          2.3970018966264273
         ]
        },
        {
         "hoverinfo": "text",
         "line": {
          "color": "rgba(127, 127, 127, 0.5)"
         },
         "mode": "lines+markers",
         "name": "Sample 2",
         "showlegend": false,
         "text": "λ0: 2.50<br>λ1: -14.67<br>λ2: 1.77<br>λ3: -277.36<br>Eu/Eu*: 3.59",
         "type": "scatter",
         "x": [
          "La",
          "Ce",
          "Pr",
          "Nd",
          "Sm",
          "Eu",
          "Gd",
          "Tb",
          "Dy",
          "Ho",
          "Er",
          "Yb",
          "Lu"
         ],
         "y": [
          0.8458276091745036,
          0.951389679898475,
          1.1783956248318113,
          1.2675143386977452,
          1.6143787443660989,
          2.2197530066522946,
          1.7702979461178932,
          2.0229505285820477,
          2.1427158827977437,
          2.1336051740254907,
          2.1490408497027667,
          2.3592262559525574,
          2.545108459630199
         ]
        },
        {
         "hoverinfo": "text",
         "line": {
          "color": "rgba(127, 127, 127, 0.5)"
         },
         "mode": "lines+markers",
         "name": "Sample 3",
         "showlegend": false,
         "text": "λ0: 2.40<br>λ1: -14.76<br>λ2: -4.04<br>λ3: -263.06<br>Eu/Eu*: 3.34",
         "type": "scatter",
         "x": [
          "La",
          "Ce",
          "Pr",
          "Nd",
          "Sm",
          "Eu",
          "Gd",
          "Tb",
          "Dy",
          "Ho",
          "Er",
          "Yb",
          "Lu"
         ],
         "y": [
          0.7421408886948365,
          0.8211233358896987,
          1.0851603384407145,
          1.1556275313343454,
          1.4975411400359813,
          1.9081369861858963,
          1.6538436374868326,
          1.797261724584513,
          1.8449937399023366,
          2.0420775445099193,
          2.088077937100283,
          2.0730221766684123,
          2.22228720340202
         ]
        },
        {
         "hoverinfo": "text",
         "line": {
          "color": "rgba(127, 127, 127, 0.5)"
         },
         "mode": "lines+markers",
         "name": "Sample 4",
         "showlegend": false,
         "text": "λ0: 2.41<br>λ1: -14.51<br>λ2: -0.28<br>λ3: -275.86<br>Eu/Eu*: 3.29",
         "type": "scatter",
         "x": [
          "La",
          "Ce",
          "Pr",
          "Nd",
          "Sm",
          "Eu",
          "Gd",
          "Tb",
          "Dy",
          "Ho",
          "Er",
          "Yb",
          "Lu"
         ],
         "y": [
          0.763058352598655,
          0.880373540170601,
          1.1030592760398532,
          1.1865235628111086,
          1.4990189537374485,
          1.8724659206480903,
          1.5887879018653945,
          1.7120193439065001,
          1.9264629028851639,
          2.0137768191325205,
          2.1216958899296836,
          2.0700484913076624,
          2.2042991659540734
         ]
        },
        {
         "hoverinfo": "text",
         "line": {
          "color": "rgba(127, 127, 127, 0.5)"
         },
         "mode": "lines+markers",
         "name": "Sample 5",
         "showlegend": false,
         "text": "λ0: 2.43<br>λ1: -14.38<br>λ2: -0.11<br>λ3: -361.37<br>Eu/Eu*: 3.59",
         "type": "scatter",
         "x": [
          "La",
          "Ce",
          "Pr",
          "Nd",
          "Sm",
          "Eu",
          "Gd",
          "Tb",
          "Dy",
          "Ho",
          "Er",
          "Yb",
          "Lu"
         ],
         "y": [
          0.7879409145152177,
          0.9030805068586809,
          1.1532032989717553,
          1.2300937075636462,
          1.5669367336526896,
          2.098093670084891,
          1.672881418016466,
          1.7534441004855417,
          1.9439111598284322,
          1.930356412897871,
          2.1389636541191255,
          2.1568791093603124,
          2.281555887340274
         ]
        },
        {
         "hoverinfo": "text",
         "line": {
          "color": "rgba(127, 127, 127, 0.5)"
         },
         "mode": "lines+markers",
         "name": "Sample 6",
         "showlegend": false,
         "text": "λ0: 2.45<br>λ1: -14.52<br>λ2: 0.65<br>λ3: -365.43<br>Eu/Eu*: 3.44",
         "type": "scatter",
         "x": [
          "La",
          "Ce",
          "Pr",
          "Nd",
          "Sm",
          "Eu",
          "Gd",
          "Tb",
          "Dy",
          "Ho",
          "Er",
          "Yb",
          "Lu"
         ],
         "y": [
          0.8122651041568334,
          0.8900273504279793,
          1.1477943747779185,
          1.2429315622245052,
          1.623166990630845,
          2.0411163898188884,
          1.7351714933021227,
          1.7995964119545727,
          1.9494384732337324,
          2.0345733436409073,
          2.059772940637319,
          2.281405431482406,
          2.3784048983350745
         ]
        },
        {
         "hoverinfo": "text",
         "line": {
          "color": "rgba(127, 127, 127, 0.5)"
         },
         "mode": "lines+markers",
         "name": "Sample 7",
         "showlegend": false,
         "text": "λ0: 2.46<br>λ1: -14.48<br>λ2: -2.52<br>λ3: -310.37<br>Eu/Eu*: 3.26",
         "type": "scatter",
         "x": [
          "La",
          "Ce",
          "Pr",
          "Nd",
          "Sm",
          "Eu",
          "Gd",
          "Tb",
          "Dy",
          "Ho",
          "Er",
          "Yb",
          "Lu"
         ],
         "y": [
          0.8063802691033873,
          0.9052783821839824,
          1.174507414823543,
          1.258220808923714,
          1.6212924835774458,
          1.974632280370093,
          1.705031484674022,
          1.8554168875245853,
          1.9835593561210607,
          2.124194284426763,
          2.173252154847681,
          2.1633016678154844,
          2.353265532943197
         ]
        },
        {
         "hoverinfo": "text",
         "line": {
          "color": "rgba(127, 127, 127, 0.5)"
         },
         "mode": "lines+markers",
         "name": "Sample 8",
         "showlegend": false,
         "text": "λ0: 2.45<br>λ1: -14.37<br>λ2: 1.60<br>λ3: -271.37<br>Eu/Eu*: 3.28",
         "type": "scatter",
         "x": [
          "La",
          "Ce",
          "Pr",
          "Nd",
          "Sm",
          "Eu",
          "Gd",
          "Tb",
          "Dy",
          "Ho",
          "Er",
          "Yb",
          "Lu"
         ],
         "y": [
          0.8415251881977135,
          0.9183269704282032,
          1.155424111921749,
          1.2248719113507143,
          1.5771494678035796,
          1.9464465497784573,
          1.7335869839976374,
          1.8265280465617268,
          2.020608944592375,
          2.07997127049645,
          2.0484421952208693,
          2.137858795948214,
          2.4108273577764554
         ]
        },
        {
         "hoverinfo": "text",
         "line": {
          "color": "rgba(127, 127, 127, 0.5)"
         },
         "mode": "lines+markers",
         "name": "Sample 9",
         "showlegend": false,
         "text": "λ0: 2.43<br>λ1: -14.29<br>λ2: -2.21<br>λ3: -301.97<br>Eu/Eu*: 3.33",
         "type": "scatter",
         "x": [
          "La",
          "Ce",
          "Pr",
          "Nd",
          "Sm",
          "Eu",
          "Gd",
          "Tb",
          "Dy",
          "Ho",
          "Er",
          "Yb",
          "Lu"
         ],
         "y": [
          0.7963773326002781,
          0.8965464709622051,
          1.165314644285873,
          1.1979557943979806,
          1.5705664772769603,
          1.956363828626352,
          1.6559599511080274,
          1.822517664764958,
          1.9878636661084725,
          1.9204964897099859,
          2.0863599900768675,
          2.0941279586335164,
          2.244985844888432
         ]
        },
        {
         "hoverinfo": "text",
         "line": {
          "color": "rgba(127, 127, 127, 0.5)"
         },
         "mode": "lines+markers",
         "name": "Sample 10",
         "showlegend": false,
         "text": "λ0: 2.44<br>λ1: -14.40<br>λ2: -1.84<br>λ3: -261.25<br>Eu/Eu*: 3.50",
         "type": "scatter",
         "x": [
          "La",
          "Ce",
          "Pr",
          "Nd",
          "Sm",
          "Eu",
          "Gd",
          "Tb",
          "Dy",
          "Ho",
          "Er",
          "Yb",
          "Lu"
         ],
         "y": [
          0.8036270763249979,
          0.8965219043136599,
          1.1655718065106917,
          1.1910297507359604,
          1.5429268652786319,
          2.0633752551543068,
          1.7170855164683605,
          1.8346236982604114,
          2.0065779833997825,
          2.0216713537109587,
          2.065119149365079,
          2.1064745873174053,
          2.296974893049677
         ]
        },
        {
         "hoverinfo": "text",
         "line": {
          "color": "rgba(127, 127, 127, 0.5)"
         },
         "mode": "lines+markers",
         "name": "Sample 11",
         "showlegend": false,
         "text": "λ0: 2.43<br>λ1: -14.47<br>λ2: -2.34<br>λ3: -357.47<br>Eu/Eu*: 3.30",
         "type": "scatter",
         "x": [
          "La",
          "Ce",
          "Pr",
          "Nd",
          "Sm",
          "Eu",
          "Gd",
          "Tb",
          "Dy",
          "Ho",
          "Er",
          "Yb",
          "Lu"
         ],
         "y": [
          0.7754956122535959,
          0.9028462393378061,
          1.1569621889229813,
          1.193818653053848,
          1.5800629625593796,
          1.953415128764317,
          1.728757887215357,
          1.838151495602357,
          1.9391307051546562,
          1.964494489954471,
          2.0736977477927834,
          2.1176099734702514,
          2.3603276863268223
         ]
        },
        {
         "hoverinfo": "text",
         "line": {
          "color": "rgba(127, 127, 127, 0.5)"
         },
         "mode": "lines+markers",
         "name": "Sample 12",
         "showlegend": false,
         "text": "λ0: 2.53<br>λ1: -14.46<br>λ2: -0.64<br>λ3: -310.92<br>Eu/Eu*: 3.30",
         "type": "scatter",
         "x": [
          "La",
          "Ce",
          "Pr",
          "Nd",
          "Sm",
          "Eu",
          "Gd",
          "Tb",
          "Dy",
          "Ho",
          "Er",
          "Yb",
          "Lu"
         ],
         "y": [
          0.8843746200405973,
          0.9774683130301992,
          1.21285637947129,
          1.4186208451157705,
          1.6806578023630427,
          2.136580180889786,
          1.9084403207613525,
          1.9578566746022776,
          2.0751784405464417,
          2.2205656794766773,
          2.4124392095339102,
          2.336884400756046,
          2.5382049653638163
         ]
        },
        {
         "hoverinfo": "text",
         "line": {
          "color": "rgba(127, 127, 127, 0.5)"
         },
         "mode": "lines+markers",
         "name": "Sample 13",
         "showlegend": false,
         "text": "λ0: 2.51<br>λ1: -14.55<br>λ2: -0.22<br>λ3: -338.23<br>Eu/Eu*: 3.46",
         "type": "scatter",
         "x": [
          "La",
          "Ce",
          "Pr",
          "Nd",
          "Sm",
          "Eu",
          "Gd",
          "Tb",
          "Dy",
          "Ho",
          "Er",
          "Yb",
          "Lu"
         ],
         "y": [
          0.8326388974957324,
          0.9858207192189087,
          1.202318470761707,
          1.3453368250936768,
          1.614137195263473,
          2.186759676792548,
          1.8014301701655142,
          1.97382370235325,
          2.156641771053163,
          2.187241018573471,
          2.193769706162402,
          2.3085103944759986,
          2.5579523833927365
         ]
        },
        {
         "hoverinfo": "text",
         "line": {
          "color": "rgba(127, 127, 127, 0.5)"
         },
         "mode": "lines+markers",
         "name": "Sample 14",
         "showlegend": false,
         "text": "λ0: 2.40<br>λ1: -14.58<br>λ2: -3.73<br>λ3: -221.19<br>Eu/Eu*: 3.42",
         "type": "scatter",
         "x": [
          "La",
          "Ce",
          "Pr",
          "Nd",
          "Sm",
          "Eu",
          "Gd",
          "Tb",
          "Dy",
          "Ho",
          "Er",
          "Yb",
          "Lu"
         ],
         "y": [
          0.7613844073047814,
          0.867585003956886,
          1.0760592552865955,
          1.14195024932498,
          1.529351046121003,
          1.9625775730161306,
          1.6242316402845096,
          1.8342411669258505,
          1.9613651079111816,
          2.0338971374845722,
          1.9568593598219544,
          2.1070384351408613,
          2.1899592560696193
         ]
        },
        {
         "hoverinfo": "text",
         "line": {
          "color": "rgba(127, 127, 127, 0.5)"
         },
         "mode": "lines+markers",
         "name": "Sample 15",
         "showlegend": false,
         "text": "λ0: 2.49<br>λ1: -14.47<br>λ2: -4.21<br>λ3: -283.11<br>Eu/Eu*: 3.20",
         "type": "scatter",
         "x": [
          "La",
          "Ce",
          "Pr",
          "Nd",
          "Sm",
          "Eu",
          "Gd",
          "Tb",
          "Dy",
          "Ho",
          "Er",
          "Yb",
          "Lu"
         ],
         "y": [
          0.8260393352002702,
          0.9544863642830935,
          1.1785290864120483,
          1.3308599933264433,
          1.613465427591606,
          2.0119739544751334,
          1.8244492654789928,
          1.959293758563485,
          2.1037399525390215,
          2.1303936296668167,
          2.2350556515842177,
          2.244684278694269,
          2.3955502601366296
         ]
        },
        {
         "hoverinfo": "text",
         "line": {
          "color": "rgba(127, 127, 127, 0.5)"
         },
         "mode": "lines+markers",
         "name": "Sample 16",
         "showlegend": false,
         "text": "λ0: 2.42<br>λ1: -14.63<br>λ2: 1.28<br>λ3: -252.60<br>Eu/Eu*: 3.42",
         "type": "scatter",
         "x": [
          "La",
          "Ce",
          "Pr",
          "Nd",
          "Sm",
          "Eu",
          "Gd",
          "Tb",
          "Dy",
          "Ho",
          "Er",
          "Yb",
          "Lu"
         ],
         "y": [
          0.7838185569449507,
          0.8662523286791723,
          1.1480508367315154,
          1.18600118797227,
          1.4363194787965265,
          1.9686454836124243,
          1.696611468084912,
          1.7896928960100487,
          1.9307803611248766,
          2.0498560834076227,
          2.151691820027834,
          2.1054843759589112,
          2.3165411332340757
         ]
        },
        {
         "hoverinfo": "text",
         "line": {
          "color": "rgba(127, 127, 127, 0.5)"
         },
         "mode": "lines+markers",
         "name": "Sample 17",
         "showlegend": false,
         "text": "λ0: 2.43<br>λ1: -14.35<br>λ2: 0.48<br>λ3: -271.92<br>Eu/Eu*: 3.34",
         "type": "scatter",
         "x": [
          "La",
          "Ce",
          "Pr",
          "Nd",
          "Sm",
          "Eu",
          "Gd",
          "Tb",
          "Dy",
          "Ho",
          "Er",
          "Yb",
          "Lu"
         ],
         "y": [
          0.8273752395599018,
          0.8759482540851671,
          1.1461148559531726,
          1.2151511820533543,
          1.5479243394788982,
          1.9497536657582015,
          1.7002044355240922,
          1.8180861185551564,
          1.902194322211205,
          2.0183465231740487,
          2.0637949982430315,
          2.1474792218620284,
          2.2750942638374827
         ]
        },
        {
         "hoverinfo": "text",
         "line": {
          "color": "rgba(127, 127, 127, 0.5)"
         },
         "mode": "lines+markers",
         "name": "Sample 18",
         "showlegend": false,
         "text": "λ0: 2.45<br>λ1: -14.49<br>λ2: -2.91<br>λ3: -281.27<br>Eu/Eu*: 3.45",
         "type": "scatter",
         "x": [
          "La",
          "Ce",
          "Pr",
          "Nd",
          "Sm",
          "Eu",
          "Gd",
          "Tb",
          "Dy",
          "Ho",
          "Er",
          "Yb",
          "Lu"
         ],
         "y": [
          0.8150123562388656,
          0.8817865108580675,
          1.1232048082883435,
          1.2496349649196428,
          1.612711532112112,
          2.068288993305051,
          1.7453132232631479,
          1.8432098093759302,
          1.9921955124684572,
          2.0318595006527227,
          2.137046826967006,
          2.142220614989755,
          2.3437978095817127
         ]
        },
        {
         "hoverinfo": "text",
         "line": {
          "color": "rgba(127, 127, 127, 0.5)"
         },
         "mode": "lines+markers",
         "name": "Sample 19",
         "showlegend": false,
         "text": "λ0: 2.45<br>λ1: -14.39<br>λ2: -6.95<br>λ3: -354.17<br>Eu/Eu*: 3.26",
         "type": "scatter",
         "x": [
          "La",
          "Ce",
          "Pr",
          "Nd",
          "Sm",
          "Eu",
          "Gd",
          "Tb",
          "Dy",
          "Ho",
          "Er",
          "Yb",
          "Lu"
         ],
         "y": [
          0.7911640890057199,
          0.8790044553393593,
          1.1724169011978138,
          1.2951644866492547,
          1.5906657658166612,
          1.9897622895649874,
          1.7708315130462517,
          1.929527123073088,
          1.9319828571684998,
          2.027271339270542,
          2.0807402163767184,
          2.162497580657918,
          2.288352268140797
         ]
        },
        {
         "hoverinfo": "text",
         "line": {
          "color": "rgba(127, 127, 127, 0.5)"
         },
         "mode": "lines+markers",
         "name": "Sample 20",
         "showlegend": false,
         "text": "λ0: 2.41<br>λ1: -14.54<br>λ2: -4.57<br>λ3: -303.67<br>Eu/Eu*: 3.46",
         "type": "scatter",
         "x": [
          "La",
          "Ce",
          "Pr",
          "Nd",
          "Sm",
          "Eu",
          "Gd",
          "Tb",
          "Dy",
          "Ho",
          "Er",
          "Yb",
          "Lu"
         ],
         "y": [
          0.7454060039307338,
          0.8708281459922534,
          1.1008144705089247,
          1.1719774960012093,
          1.5020525312735078,
          2.0008653334488495,
          1.6743109040652815,
          1.8322861943519058,
          1.9161931696905825,
          2.0224303869023306,
          1.9094131630916553,
          2.1237930161138063,
          2.214626667646928
         ]
        },
        {
         "hoverinfo": "text",
         "line": {
          "color": "rgba(127, 127, 127, 0.5)"
         },
         "mode": "lines+markers",
         "name": "Sample 21",
         "showlegend": false,
         "text": "λ0: 2.43<br>λ1: -14.50<br>λ2: 1.70<br>λ3: -389.75<br>Eu/Eu*: 3.34",
         "type": "scatter",
         "x": [
          "La",
          "Ce",
          "Pr",
          "Nd",
          "Sm",
          "Eu",
          "Gd",
          "Tb",
          "Dy",
          "Ho",
          "Er",
          "Yb",
          "Lu"
         ],
         "y": [
          0.7875510265997222,
          0.8752004420583718,
          1.1730968261066235,
          1.2257479867787233,
          1.5509273737488594,
          1.9398770328120805,
          1.676902967907663,
          1.7160564472914197,
          1.9001814839122106,
          2.0262085782738657,
          2.0785905422459607,
          2.2096431373171805,
          2.325668541398084
         ]
        },
        {
         "hoverinfo": "text",
         "line": {
          "color": "rgba(127, 127, 127, 0.5)"
         },
         "mode": "lines+markers",
         "name": "Sample 22",
         "showlegend": false,
         "text": "λ0: 2.46<br>λ1: -14.78<br>λ2: -4.57<br>λ3: -299.82<br>Eu/Eu*: 3.55",
         "type": "scatter",
         "x": [
          "La",
          "Ce",
          "Pr",
          "Nd",
          "Sm",
          "Eu",
          "Gd",
          "Tb",
          "Dy",
          "Ho",
          "Er",
          "Yb",
          "Lu"
         ],
         "y": [
          0.7895108971279845,
          0.87063765274787,
          1.138666209451059,
          1.2410593408821384,
          1.593828490823476,
          2.1645175426388388,
          1.8127605819416823,
          1.9068196113131968,
          2.089249323222788,
          2.085728620992349,
          2.1172215111452357,
          2.162521050682708,
          2.4921700661251815
         ]
        },
        {
         "hoverinfo": "text",
         "line": {
          "color": "rgba(127, 127, 127, 0.5)"
         },
         "mode": "lines+markers",
         "name": "Sample 23",
         "showlegend": false,
         "text": "λ0: 2.41<br>λ1: -14.49<br>λ2: -5.16<br>λ3: -343.55<br>Eu/Eu*: 3.27",
         "type": "scatter",
         "x": [
          "La",
          "Ce",
          "Pr",
          "Nd",
          "Sm",
          "Eu",
          "Gd",
          "Tb",
          "Dy",
          "Ho",
          "Er",
          "Yb",
          "Lu"
         ],
         "y": [
          0.7502228032433992,
          0.8729571140267012,
          1.1123693133272008,
          1.2088668306429284,
          1.566312129166996,
          1.9102794433815555,
          1.6827327149920523,
          1.7815917098986978,
          1.905272448410082,
          1.9309358628014346,
          2.091003915715088,
          2.143591574973272,
          2.186342750017626
         ]
        },
        {
         "hoverinfo": "text",
         "line": {
          "color": "rgba(127, 127, 127, 0.5)"
         },
         "mode": "lines+markers",
         "name": "Sample 24",
         "showlegend": false,
         "text": "λ0: 2.44<br>λ1: -14.46<br>λ2: -4.06<br>λ3: -170.25<br>Eu/Eu*: 3.30",
         "type": "scatter",
         "x": [
          "La",
          "Ce",
          "Pr",
          "Nd",
          "Sm",
          "Eu",
          "Gd",
          "Tb",
          "Dy",
          "Ho",
          "Er",
          "Yb",
          "Lu"
         ],
         "y": [
          0.8117693533146428,
          0.8821197298586987,
          1.1077636219558122,
          1.2083332349110139,
          1.5928512337544227,
          1.9585594361261598,
          1.6211779876449832,
          1.9091563336922925,
          2.029795679920444,
          2.0680047382464677,
          2.120459694605662,
          2.1342228658827804,
          2.189894024952954
         ]
        },
        {
         "hoverinfo": "text",
         "line": {
          "color": "rgba(127, 127, 127, 0.5)"
         },
         "mode": "lines+markers",
         "name": "Sample 25",
         "showlegend": false,
         "text": "λ0: 2.32<br>λ1: -14.28<br>λ2: -2.62<br>λ3: -207.36<br>Eu/Eu*: 3.39",
         "type": "scatter",
         "x": [
          "La",
          "Ce",
          "Pr",
          "Nd",
          "Sm",
          "Eu",
          "Gd",
          "Tb",
          "Dy",
          "Ho",
          "Er",
          "Yb",
          "Lu"
         ],
         "y": [
          0.7362380916684679,
          0.7878826213398824,
          1.0120207044168235,
          1.078391673991784,
          1.3651577367744345,
          1.7757623116804084,
          1.5495567428712813,
          1.6481182510051775,
          1.7210582733458408,
          1.7911807830050264,
          1.8655814837964118,
          1.849133797201129,
          1.9747588812728911
         ]
        },
        {
         "hoverinfo": "text",
         "line": {
          "color": "rgba(127, 127, 127, 0.5)"
         },
         "mode": "lines+markers",
         "name": "Sample 26",
         "showlegend": false,
         "text": "λ0: 2.50<br>λ1: -14.44<br>λ2: -4.40<br>λ3: -296.00<br>Eu/Eu*: 3.34",
         "type": "scatter",
         "x": [
          "La",
          "Ce",
          "Pr",
          "Nd",
          "Sm",
          "Eu",
          "Gd",
          "Tb",
          "Dy",
          "Ho",
          "Er",
          "Yb",
          "Lu"
         ],
         "y": [
          0.8263453076945141,
          0.9509814083724597,
          1.2337097855525436,
          1.3143235941181979,
          1.6148404609306268,
          2.116567212072358,
          1.7989094779982149,
          2.0060432025214294,
          2.1326515517564126,
          2.1301962619585,
          2.2125153569895653,
          2.2585155399263446,
          2.4011836213759556
         ]
        },
        {
         "hoverinfo": "text",
         "line": {
          "color": "rgba(127, 127, 127, 0.5)"
         },
         "mode": "lines+markers",
         "name": "Sample 27",
         "showlegend": false,
         "text": "λ0: 2.37<br>λ1: -14.47<br>λ2: -4.64<br>λ3: -260.99<br>Eu/Eu*: 3.22",
         "type": "scatter",
         "x": [
          "La",
          "Ce",
          "Pr",
          "Nd",
          "Sm",
          "Eu",
          "Gd",
          "Tb",
          "Dy",
          "Ho",
          "Er",
          "Yb",
          "Lu"
         ],
         "y": [
          0.7391858551151593,
          0.8442051271292301,
          1.026413177997894,
          1.1484890054260617,
          1.5097464760185353,
          1.79534644240617,
          1.5913477899365829,
          1.7347187412254317,
          1.8391257594385593,
          1.9039117568746189,
          1.9810323037878812,
          2.010621719381914,
          2.0927161216422245
         ]
        },
        {
         "hoverinfo": "text",
         "line": {
          "color": "rgba(127, 127, 127, 0.5)"
         },
         "mode": "lines+markers",
         "name": "Sample 28",
         "showlegend": false,
         "text": "λ0: 2.35<br>λ1: -14.52<br>λ2: 0.25<br>λ3: -263.34<br>Eu/Eu*: 3.26",
         "type": "scatter",
         "x": [
          "La",
          "Ce",
          "Pr",
          "Nd",
          "Sm",
          "Eu",
          "Gd",
          "Tb",
          "Dy",
          "Ho",
          "Er",
          "Yb",
          "Lu"
         ],
         "y": [
          0.7396428438191317,
          0.8074120367524888,
          1.0593252443164658,
          1.0990108819840847,
          1.4194352187814678,
          1.7508825942674355,
          1.5675992204167213,
          1.5828491362485353,
          1.8449081972398584,
          1.96981094851456,
          1.8673880972991577,
          2.0025411941025903,
          2.108901831106357
         ]
        },
        {
         "hoverinfo": "text",
         "line": {
          "color": "rgba(127, 127, 127, 0.5)"
         },
         "mode": "lines+markers",
         "name": "Sample 29",
         "showlegend": false,
         "text": "λ0: 2.33<br>λ1: -14.60<br>λ2: -4.72<br>λ3: -300.84<br>Eu/Eu*: 3.31",
         "type": "scatter",
         "x": [
          "La",
          "Ce",
          "Pr",
          "Nd",
          "Sm",
          "Eu",
          "Gd",
          "Tb",
          "Dy",
          "Ho",
          "Er",
          "Yb",
          "Lu"
         ],
         "y": [
          0.6977651481153173,
          0.7787736629697246,
          1.0079808014377163,
          1.1137208041000863,
          1.4259029998267625,
          1.7729788879066102,
          1.5275473971237443,
          1.65069301763687,
          1.7787971882275746,
          1.8000612566191072,
          1.954329487332687,
          1.9296070322932173,
          2.0490815428081746
         ]
        },
        {
         "hoverinfo": "text",
         "line": {
          "color": "rgba(127, 127, 127, 0.5)"
         },
         "mode": "lines+markers",
         "name": "Sample 30",
         "showlegend": false,
         "text": "λ0: 2.40<br>λ1: -14.68<br>λ2: -2.84<br>λ3: -258.37<br>Eu/Eu*: 3.46",
         "type": "scatter",
         "x": [
          "La",
          "Ce",
          "Pr",
          "Nd",
          "Sm",
          "Eu",
          "Gd",
          "Tb",
          "Dy",
          "Ho",
          "Er",
          "Yb",
          "Lu"
         ],
         "y": [
          0.7378654447259482,
          0.8499836031724782,
          1.1068579111517012,
          1.1597274457050324,
          1.4146338697674272,
          1.9712627954378061,
          1.6926147835919014,
          1.7944595410035544,
          1.8513781792866937,
          2.0141074491038498,
          2.117536882743222,
          2.039759031571962,
          2.2254776363167568
         ]
        },
        {
         "hoverinfo": "text",
         "line": {
          "color": "rgba(127, 127, 127, 0.5)"
         },
         "mode": "lines+markers",
         "name": "Sample 31",
         "showlegend": false,
         "text": "λ0: 2.42<br>λ1: -14.44<br>λ2: -7.92<br>λ3: -295.58<br>Eu/Eu*: 3.29",
         "type": "scatter",
         "x": [
          "La",
          "Ce",
          "Pr",
          "Nd",
          "Sm",
          "Eu",
          "Gd",
          "Tb",
          "Dy",
          "Ho",
          "Er",
          "Yb",
          "Lu"
         ],
         "y": [
          0.7396623463884007,
          0.9048598597779495,
          1.1164994962117887,
          1.1741552134617514,
          1.538477490408179,
          1.9434524180961892,
          1.7335062129801722,
          1.8750747250498443,
          1.9252921712004512,
          1.9346881111062866,
          2.074291723726382,
          2.0209496967479783,
          2.214483704603154
         ]
        },
        {
         "hoverinfo": "text",
         "line": {
          "color": "rgba(127, 127, 127, 0.5)"
         },
         "mode": "lines+markers",
         "name": "Sample 32",
         "showlegend": false,
         "text": "λ0: 2.36<br>λ1: -14.38<br>λ2: -0.10<br>λ3: -337.98<br>Eu/Eu*: 3.61",
         "type": "scatter",
         "x": [
          "La",
          "Ce",
          "Pr",
          "Nd",
          "Sm",
          "Eu",
          "Gd",
          "Tb",
          "Dy",
          "Ho",
          "Er",
          "Yb",
          "Lu"
         ],
         "y": [
          0.7387815662007162,
          0.8198521421996692,
          1.0859627977484188,
          1.1514463855403783,
          1.4356317233030438,
          1.959064198030438,
          1.4580097779955918,
          1.704900417054407,
          1.8563877905174,
          1.8600185517528014,
          1.9124986849722463,
          1.9256968155601009,
          2.1711351333973394
         ]
        },
        {
         "hoverinfo": "text",
         "line": {
          "color": "rgba(127, 127, 127, 0.5)"
         },
         "mode": "lines+markers",
         "name": "Sample 33",
         "showlegend": false,
         "text": "λ0: 2.37<br>λ1: -14.45<br>λ2: 1.02<br>λ3: -359.98<br>Eu/Eu*: 3.35",
         "type": "scatter",
         "x": [
          "La",
          "Ce",
          "Pr",
          "Nd",
          "Sm",
          "Eu",
          "Gd",
          "Tb",
          "Dy",
          "Ho",
          "Er",
          "Yb",
          "Lu"
         ],
         "y": [
          0.7401636304213466,
          0.8527375497420866,
          1.076395942582576,
          1.1604808728564955,
          1.4265279148475432,
          1.8369032666844431,
          1.6288287210293781,
          1.6700703450259238,
          1.7779576881837489,
          1.8173343834138924,
          2.0420845401837955,
          2.0301876839896416,
          2.1892455188600364
         ]
        },
        {
         "hoverinfo": "text",
         "line": {
          "color": "rgba(127, 127, 127, 0.5)"
         },
         "mode": "lines+markers",
         "name": "Sample 34",
         "showlegend": false,
         "text": "λ0: 2.48<br>λ1: -14.38<br>λ2: -3.27<br>λ3: -265.34<br>Eu/Eu*: 3.35",
         "type": "scatter",
         "x": [
          "La",
          "Ce",
          "Pr",
          "Nd",
          "Sm",
          "Eu",
          "Gd",
          "Tb",
          "Dy",
          "Ho",
          "Er",
          "Yb",
          "Lu"
         ],
         "y": [
          0.8186825525238026,
          0.9677830397731118,
          1.2383693174852974,
          1.2112008358535673,
          1.6270888866367232,
          2.081599892789558,
          1.8169956229192867,
          1.931940507540632,
          2.054109750918362,
          2.1320684028832293,
          2.219955578843757,
          2.1416835700049277,
          2.404172700240027
         ]
        },
        {
         "hoverinfo": "text",
         "line": {
          "color": "rgba(127, 127, 127, 0.5)"
         },
         "mode": "lines+markers",
         "name": "Sample 35",
         "showlegend": false,
         "text": "λ0: 2.34<br>λ1: -14.45<br>λ2: -0.87<br>λ3: -265.48<br>Eu/Eu*: 3.39",
         "type": "scatter",
         "x": [
          "La",
          "Ce",
          "Pr",
          "Nd",
          "Sm",
          "Eu",
          "Gd",
          "Tb",
          "Dy",
          "Ho",
          "Er",
          "Yb",
          "Lu"
         ],
         "y": [
          0.7334037845962227,
          0.822324212960648,
          1.0321655923965187,
          1.11038844596558,
          1.3805461217842998,
          1.8166800699963732,
          1.5579158772101342,
          1.7297849734229442,
          1.7454006731108729,
          1.9105668245841996,
          1.8815468357207146,
          1.8528580523889757,
          2.1791092581001563
         ]
        },
        {
         "hoverinfo": "text",
         "line": {
          "color": "rgba(127, 127, 127, 0.5)"
         },
         "mode": "lines+markers",
         "name": "Sample 36",
         "showlegend": false,
         "text": "λ0: 2.52<br>λ1: -14.56<br>λ2: 0.30<br>λ3: -325.76<br>Eu/Eu*: 3.39",
         "type": "scatter",
         "x": [
          "La",
          "Ce",
          "Pr",
          "Nd",
          "Sm",
          "Eu",
          "Gd",
          "Tb",
          "Dy",
          "Ho",
          "Er",
          "Yb",
          "Lu"
         ],
         "y": [
          0.8602538394826739,
          0.961972677030826,
          1.2304299412834188,
          1.3490422120734054,
          1.653859189406911,
          2.15751374634797,
          1.841960215236278,
          1.9853917436377648,
          2.0822957749810267,
          2.2622186755355034,
          2.231562470888607,
          2.3836492317504465,
          2.548479134131553
         ]
        },
        {
         "hoverinfo": "text",
         "line": {
          "color": "rgba(127, 127, 127, 0.5)"
         },
         "mode": "lines+markers",
         "name": "Sample 37",
         "showlegend": false,
         "text": "λ0: 2.45<br>λ1: -14.63<br>λ2: -2.93<br>λ3: -285.23<br>Eu/Eu*: 3.36",
         "type": "scatter",
         "x": [
          "La",
          "Ce",
          "Pr",
          "Nd",
          "Sm",
          "Eu",
          "Gd",
          "Tb",
          "Dy",
          "Ho",
          "Er",
          "Yb",
          "Lu"
         ],
         "y": [
          0.7959014865184135,
          0.8871076054091536,
          1.1408885550924313,
          1.2326161800376367,
          1.5723939875708994,
          2.0218064539837,
          1.7801520694616217,
          1.850686855654013,
          2.020765814450431,
          2.1029237846185587,
          2.08095898248636,
          2.2227843347360894,
          2.3534965497440674
         ]
        },
        {
         "hoverinfo": "text",
         "line": {
          "color": "rgba(127, 127, 127, 0.5)"
         },
         "mode": "lines+markers",
         "name": "Sample 38",
         "showlegend": false,
         "text": "λ0: 2.37<br>λ1: -14.44<br>λ2: -1.75<br>λ3: -341.14<br>Eu/Eu*: 3.44",
         "type": "scatter",
         "x": [
          "La",
          "Ce",
          "Pr",
          "Nd",
          "Sm",
          "Eu",
          "Gd",
          "Tb",
          "Dy",
          "Ho",
          "Er",
          "Yb",
          "Lu"
         ],
         "y": [
          0.7305268177440111,
          0.8566329954619543,
          1.0657647692447092,
          1.1550652083146582,
          1.4274707871118903,
          1.900319358065952,
          1.6078388812841267,
          1.7593701813383658,
          1.8230395450273096,
          1.8200212288540303,
          1.9303240078446757,
          2.038680824305942,
          2.156927268379435
         ]
        },
        {
         "hoverinfo": "text",
         "line": {
          "color": "rgba(127, 127, 127, 0.5)"
         },
         "mode": "lines+markers",
         "name": "Sample 39",
         "showlegend": false,
         "text": "λ0: 2.41<br>λ1: -14.35<br>λ2: -0.22<br>λ3: -285.97<br>Eu/Eu*: 3.33",
         "type": "scatter",
         "x": [
          "La",
          "Ce",
          "Pr",
          "Nd",
          "Sm",
          "Eu",
          "Gd",
          "Tb",
          "Dy",
          "Ho",
          "Er",
          "Yb",
          "Lu"
         ],
         "y": [
          0.7839627792224478,
          0.9007428583893545,
          1.1521983432087097,
          1.1447971688240062,
          1.5081124162417725,
          1.9148015192621697,
          1.6914790254295005,
          1.7944266317842763,
          1.902139788001859,
          1.9499850224834703,
          2.035328251035266,
          2.071756874911598,
          2.2568431577041266
         ]
        },
        {
         "hoverinfo": "text",
         "line": {
          "color": "rgba(127, 127, 127, 0.5)"
         },
         "mode": "lines+markers",
         "name": "Sample 40",
         "showlegend": false,
         "text": "λ0: 2.55<br>λ1: -14.39<br>λ2: -3.89<br>λ3: -320.07<br>Eu/Eu*: 3.33",
         "type": "scatter",
         "x": [
          "La",
          "Ce",
          "Pr",
          "Nd",
          "Sm",
          "Eu",
          "Gd",
          "Tb",
          "Dy",
          "Ho",
          "Er",
          "Yb",
          "Lu"
         ],
         "y": [
          0.8919321539743664,
          0.9791077260114346,
          1.3237021395460586,
          1.3804708584748118,
          1.7594489156350759,
          2.225939810325721,
          1.9672807919594784,
          2.0271071228373443,
          2.1298381371493793,
          2.353942001227621,
          2.2904743466971587,
          2.4211479449105684,
          2.5279017440765754
         ]
        },
        {
         "hoverinfo": "text",
         "line": {
          "color": "rgba(127, 127, 127, 0.5)"
         },
         "mode": "lines+markers",
         "name": "Sample 41",
         "showlegend": false,
         "text": "λ0: 2.47<br>λ1: -14.46<br>λ2: 0.32<br>λ3: -412.80<br>Eu/Eu*: 3.47",
         "type": "scatter",
         "x": [
          "La",
          "Ce",
          "Pr",
          "Nd",
          "Sm",
          "Eu",
          "Gd",
          "Tb",
          "Dy",
          "Ho",
          "Er",
          "Yb",
          "Lu"
         ],
         "y": [
          0.8113870104760141,
          0.9488846025227128,
          1.183693506169236,
          1.2778255083391885,
          1.6767888489515006,
          2.1149779307508467,
          1.7530257693782323,
          1.8175575981662204,
          2.009924550928273,
          2.065505746804967,
          2.1049706103311783,
          2.327550530258863,
          2.4288322057416174
         ]
        },
        {
         "hoverinfo": "text",
         "line": {
          "color": "rgba(127, 127, 127, 0.5)"
         },
         "mode": "lines+markers",
         "name": "Sample 42",
         "showlegend": false,
         "text": "λ0: 2.46<br>λ1: -14.64<br>λ2: -1.57<br>λ3: -303.48<br>Eu/Eu*: 3.44",
         "type": "scatter",
         "x": [
          "La",
          "Ce",
          "Pr",
          "Nd",
          "Sm",
          "Eu",
          "Gd",
          "Tb",
          "Dy",
          "Ho",
          "Er",
          "Yb",
          "Lu"
         ],
         "y": [
          0.7899780359650858,
          0.9298135996947846,
          1.1379166428976486,
          1.2378934116641713,
          1.6030163482402555,
          2.0800552924558704,
          1.708815368736049,
          1.889473300013738,
          2.0845902813153305,
          2.042810450064682,
          2.1729302424958896,
          2.2222412365705275,
          2.403687075982524
         ]
        },
        {
         "hoverinfo": "text",
         "line": {
          "color": "rgba(127, 127, 127, 0.5)"
         },
         "mode": "lines+markers",
         "name": "Sample 43",
         "showlegend": false,
         "text": "λ0: 2.50<br>λ1: -14.50<br>λ2: -1.68<br>λ3: -219.34<br>Eu/Eu*: 3.43",
         "type": "scatter",
         "x": [
          "La",
          "Ce",
          "Pr",
          "Nd",
          "Sm",
          "Eu",
          "Gd",
          "Tb",
          "Dy",
          "Ho",
          "Er",
          "Yb",
          "Lu"
         ],
         "y": [
          0.8704626734177583,
          0.9376441765871664,
          1.1910099155012284,
          1.2597518459806019,
          1.680099264963734,
          2.152698467760817,
          1.8870109394044847,
          1.9363397314572302,
          2.064883811147502,
          2.200409901494293,
          2.2265184259664395,
          2.3054058310851344,
          2.42343315465688
         ]
        },
        {
         "hoverinfo": "text",
         "line": {
          "color": "rgba(127, 127, 127, 0.5)"
         },
         "mode": "lines+markers",
         "name": "Sample 44",
         "showlegend": false,
         "text": "λ0: 2.46<br>λ1: -14.65<br>λ2: -3.65<br>λ3: -305.37<br>Eu/Eu*: 3.39",
         "type": "scatter",
         "x": [
          "La",
          "Ce",
          "Pr",
          "Nd",
          "Sm",
          "Eu",
          "Gd",
          "Tb",
          "Dy",
          "Ho",
          "Er",
          "Yb",
          "Lu"
         ],
         "y": [
          0.8115254604038613,
          0.8645471622312609,
          1.1526413859304554,
          1.2470267683534175,
          1.6359988394661689,
          2.0614341857795475,
          1.7761635635222135,
          1.902747073022559,
          2.033870784169666,
          2.057463827458823,
          2.101625194180212,
          2.2589809711626723,
          2.3868440508540405
         ]
        },
        {
         "hoverinfo": "text",
         "line": {
          "color": "rgba(127, 127, 127, 0.5)"
         },
         "mode": "lines+markers",
         "name": "Sample 45",
         "showlegend": false,
         "text": "λ0: 2.47<br>λ1: -14.58<br>λ2: -1.63<br>λ3: -352.99<br>Eu/Eu*: 3.21",
         "type": "scatter",
         "x": [
          "La",
          "Ce",
          "Pr",
          "Nd",
          "Sm",
          "Eu",
          "Gd",
          "Tb",
          "Dy",
          "Ho",
          "Er",
          "Yb",
          "Lu"
         ],
         "y": [
          0.7900949811786034,
          0.9286642424924214,
          1.1942803900173058,
          1.2628401081152028,
          1.566204137655506,
          1.95920099100085,
          1.7988160669843116,
          1.875627603988914,
          2.0036596113852596,
          2.0353498795307474,
          2.2096037048208896,
          2.2941868630346236,
          2.3717407842368123
         ]
        },
        {
         "hoverinfo": "text",
         "line": {
          "color": "rgba(127, 127, 127, 0.5)"
         },
         "mode": "lines+markers",
         "name": "Sample 46",
         "showlegend": false,
         "text": "λ0: 2.49<br>λ1: -14.47<br>λ2: -3.91<br>λ3: -286.95<br>Eu/Eu*: 3.20",
         "type": "scatter",
         "x": [
          "La",
          "Ce",
          "Pr",
          "Nd",
          "Sm",
          "Eu",
          "Gd",
          "Tb",
          "Dy",
          "Ho",
          "Er",
          "Yb",
          "Lu"
         ],
         "y": [
          0.8307609388510981,
          0.9386814578065839,
          1.2225543375132235,
          1.286521265039363,
          1.6442538616714741,
          2.0171697248890306,
          1.841743228628892,
          1.9411867607178592,
          2.0530029767544704,
          2.144785302707574,
          2.291466538644173,
          2.205768148169543,
          2.424432736714729
         ]
        },
        {
         "hoverinfo": "text",
         "line": {
          "color": "rgba(127, 127, 127, 0.5)"
         },
         "mode": "lines+markers",
         "name": "Sample 47",
         "showlegend": false,
         "text": "λ0: 2.31<br>λ1: -14.52<br>λ2: 0.69<br>λ3: -253.56<br>Eu/Eu*: 3.39",
         "type": "scatter",
         "x": [
          "La",
          "Ce",
          "Pr",
          "Nd",
          "Sm",
          "Eu",
          "Gd",
          "Tb",
          "Dy",
          "Ho",
          "Er",
          "Yb",
          "Lu"
         ],
         "y": [
          0.6970811128408217,
          0.7946066586095378,
          1.0144025777075063,
          1.0462856837897425,
          1.3193814281485952,
          1.7364725976399986,
          1.497381259682844,
          1.5606457692292521,
          1.7521123494734263,
          1.7999986531618302,
          1.844087708177151,
          1.9934151328118082,
          1.9460991535037742
         ]
        },
        {
         "hoverinfo": "text",
         "line": {
          "color": "rgba(127, 127, 127, 0.5)"
         },
         "mode": "lines+markers",
         "name": "Sample 48",
         "showlegend": false,
         "text": "λ0: 2.51<br>λ1: -14.65<br>λ2: -2.47<br>λ3: -319.25<br>Eu/Eu*: 3.36",
         "type": "scatter",
         "x": [
          "La",
          "Ce",
          "Pr",
          "Nd",
          "Sm",
          "Eu",
          "Gd",
          "Tb",
          "Dy",
          "Ho",
          "Er",
          "Yb",
          "Lu"
         ],
         "y": [
          0.8408965327834952,
          0.9432252914734911,
          1.187856423493557,
          1.334036578973296,
          1.7114484822578275,
          2.1454422167778326,
          1.7759184026706227,
          2.017284716173413,
          2.2086231843854662,
          2.1458681040069174,
          2.2142227472012865,
          2.3723070328880556,
          2.5312095219017805
         ]
        },
        {
         "hoverinfo": "text",
         "line": {
          "color": "rgba(127, 127, 127, 0.5)"
         },
         "mode": "lines+markers",
         "name": "Sample 49",
         "showlegend": false,
         "text": "λ0: 2.54<br>λ1: -14.34<br>λ2: 0.87<br>λ3: -193.10<br>Eu/Eu*: 3.24",
         "type": "scatter",
         "x": [
          "La",
          "Ce",
          "Pr",
          "Nd",
          "Sm",
          "Eu",
          "Gd",
          "Tb",
          "Dy",
          "Ho",
          "Er",
          "Yb",
          "Lu"
         ],
         "y": [
          0.9080195111674452,
          1.0455192212438953,
          1.270131843689355,
          1.2840250891376548,
          1.704582224909897,
          2.100255433081301,
          1.87129799960786,
          2.059619422881362,
          2.1620094405796006,
          2.30875010433761,
          2.320688632158012,
          2.347846477297053,
          2.5034393667240207
         ]
        },
        {
         "hoverinfo": "text",
         "line": {
          "color": "rgba(127, 127, 127, 0.5)"
         },
         "mode": "lines+markers",
         "name": "Sample 50",
         "showlegend": false,
         "text": "λ0: 2.39<br>λ1: -14.36<br>λ2: -8.11<br>λ3: -318.47<br>Eu/Eu*: 3.33",
         "type": "scatter",
         "x": [
          "La",
          "Ce",
          "Pr",
          "Nd",
          "Sm",
          "Eu",
          "Gd",
          "Tb",
          "Dy",
          "Ho",
          "Er",
          "Yb",
          "Lu"
         ],
         "y": [
          0.7411977081449916,
          0.8504487772332356,
          1.096155245710597,
          1.182804826250913,
          1.5602413117255258,
          1.9249514935129992,
          1.6338393273048253,
          1.815773877817717,
          1.8415589491041897,
          1.9543283450473194,
          1.9608522918126075,
          2.0250418746397174,
          2.1186781223561515
         ]
        },
        {
         "hoverinfo": "text",
         "line": {
          "color": "rgba(127, 127, 127, 0.5)"
         },
         "mode": "lines+markers",
         "name": "Sample 51",
         "showlegend": false,
         "text": "λ0: 2.36<br>λ1: -14.58<br>λ2: 1.89<br>λ3: -362.31<br>Eu/Eu*: 3.44",
         "type": "scatter",
         "x": [
          "La",
          "Ce",
          "Pr",
          "Nd",
          "Sm",
          "Eu",
          "Gd",
          "Tb",
          "Dy",
          "Ho",
          "Er",
          "Yb",
          "Lu"
         ],
         "y": [
          0.7257295897820094,
          0.8341181505446068,
          1.0441953673836462,
          1.116640338748626,
          1.4349600247192191,
          1.849951077927184,
          1.5933222239901916,
          1.627253048941693,
          1.7643338060508325,
          1.8399923967722531,
          1.99015287516334,
          1.9488361450744216,
          2.2607137480954527
         ]
        },
        {
         "hoverinfo": "text",
         "line": {
          "color": "rgba(127, 127, 127, 0.5)"
         },
         "mode": "lines+markers",
         "name": "Sample 52",
         "showlegend": false,
         "text": "λ0: 2.45<br>λ1: -14.65<br>λ2: 1.34<br>λ3: -266.88<br>Eu/Eu*: 3.41",
         "type": "scatter",
         "x": [
          "La",
          "Ce",
          "Pr",
          "Nd",
          "Sm",
          "Eu",
          "Gd",
          "Tb",
          "Dy",
          "Ho",
          "Er",
          "Yb",
          "Lu"
         ],
         "y": [
          0.7936665829766429,
          0.9225431604123063,
          1.1305181116232357,
          1.2215522387432858,
          1.480434083558977,
          2.012082266824316,
          1.7575836051655622,
          1.8502733800657511,
          2.0252299569876775,
          2.0367041948778195,
          2.1343537429908315,
          2.253502351740821,
          2.3557856769477454
         ]
        },
        {
         "hoverinfo": "text",
         "line": {
          "color": "rgba(127, 127, 127, 0.5)"
         },
         "mode": "lines+markers",
         "name": "Sample 53",
         "showlegend": false,
         "text": "λ0: 2.41<br>λ1: -14.71<br>λ2: -0.81<br>λ3: -285.85<br>Eu/Eu*: 3.61",
         "type": "scatter",
         "x": [
          "La",
          "Ce",
          "Pr",
          "Nd",
          "Sm",
          "Eu",
          "Gd",
          "Tb",
          "Dy",
          "Ho",
          "Er",
          "Yb",
          "Lu"
         ],
         "y": [
          0.760978411586743,
          0.8417537544359818,
          1.1297167405614936,
          1.1595756230556789,
          1.489068473300882,
          2.066854863803675,
          1.6663573888220682,
          1.7470212863259746,
          1.936500752590795,
          2.0382225520191297,
          2.095364672057931,
          2.0670301863743687,
          2.322730011508544
         ]
        },
        {
         "hoverinfo": "text",
         "line": {
          "color": "rgba(127, 127, 127, 0.5)"
         },
         "mode": "lines+markers",
         "name": "Sample 54",
         "showlegend": false,
         "text": "λ0: 2.44<br>λ1: -14.58<br>λ2: -3.43<br>λ3: -282.47<br>Eu/Eu*: 3.31",
         "type": "scatter",
         "x": [
          "La",
          "Ce",
          "Pr",
          "Nd",
          "Sm",
          "Eu",
          "Gd",
          "Tb",
          "Dy",
          "Ho",
          "Er",
          "Yb",
          "Lu"
         ],
         "y": [
          0.7746525040721938,
          0.8907310994854926,
          1.1400443451364002,
          1.185024001340506,
          1.546106857721241,
          1.962167323605499,
          1.7518083164556362,
          1.8416571086593074,
          1.9940807697064207,
          2.0347319199631606,
          2.0512982329030787,
          2.183030184933891,
          2.2898244856386554
         ]
        },
        {
         "hoverinfo": "text",
         "line": {
          "color": "rgba(127, 127, 127, 0.5)"
         },
         "mode": "lines+markers",
         "name": "Sample 55",
         "showlegend": false,
         "text": "λ0: 2.51<br>λ1: -14.55<br>λ2: -2.06<br>λ3: -280.80<br>Eu/Eu*: 3.22",
         "type": "scatter",
         "x": [
          "La",
          "Ce",
          "Pr",
          "Nd",
          "Sm",
          "Eu",
          "Gd",
          "Tb",
          "Dy",
          "Ho",
          "Er",
          "Yb",
          "Lu"
         ],
         "y": [
          0.8492035028299653,
          0.9302366317419124,
          1.2947463731458297,
          1.2973147199022,
          1.6363053191730075,
          2.0535378355561527,
          1.8148913276715397,
          1.9764165043921127,
          2.154003501344026,
          2.2150481653359995,
          2.2804870417410092,
          2.3776022123502574,
          2.4236169260836165
         ]
        },
        {
         "hoverinfo": "text",
         "line": {
          "color": "rgba(127, 127, 127, 0.5)"
         },
         "mode": "lines+markers",
         "name": "Sample 56",
         "showlegend": false,
         "text": "λ0: 2.40<br>λ1: -14.62<br>λ2: -0.56<br>λ3: -338.35<br>Eu/Eu*: 3.36",
         "type": "scatter",
         "x": [
          "La",
          "Ce",
          "Pr",
          "Nd",
          "Sm",
          "Eu",
          "Gd",
          "Tb",
          "Dy",
          "Ho",
          "Er",
          "Yb",
          "Lu"
         ],
         "y": [
          0.7489137494577929,
          0.8506933598329222,
          1.0891834987484348,
          1.171783628686606,
          1.497268528880464,
          1.8992949226878404,
          1.6146042225124813,
          1.755991956115798,
          1.8851923953871699,
          1.949599706480879,
          1.9943733827377321,
          2.119637228748333,
          2.258976895255876
         ]
        },
        {
         "hoverinfo": "text",
         "line": {
          "color": "rgba(127, 127, 127, 0.5)"
         },
         "mode": "lines+markers",
         "name": "Sample 57",
         "showlegend": false,
         "text": "λ0: 2.45<br>λ1: -14.54<br>λ2: -2.82<br>λ3: -356.51<br>Eu/Eu*: 3.46",
         "type": "scatter",
         "x": [
          "La",
          "Ce",
          "Pr",
          "Nd",
          "Sm",
          "Eu",
          "Gd",
          "Tb",
          "Dy",
          "Ho",
          "Er",
          "Yb",
          "Lu"
         ],
         "y": [
          0.7712269020256967,
          0.9311236467130463,
          1.1331940905923081,
          1.2382891275298005,
          1.6349224155117406,
          2.076747458743895,
          1.687266608118765,
          1.7892533757449687,
          2.0602886242831557,
          2.0277519298949187,
          2.1150913619660106,
          2.1976507267635297,
          2.3420768572945834
         ]
        },
        {
         "hoverinfo": "text",
         "line": {
          "color": "rgba(127, 127, 127, 0.5)"
         },
         "mode": "lines+markers",
         "name": "Sample 58",
         "showlegend": false,
         "text": "λ0: 2.51<br>λ1: -14.75<br>λ2: 0.16<br>λ3: -333.59<br>Eu/Eu*: 3.35",
         "type": "scatter",
         "x": [
          "La",
          "Ce",
          "Pr",
          "Nd",
          "Sm",
          "Eu",
          "Gd",
          "Tb",
          "Dy",
          "Ho",
          "Er",
          "Yb",
          "Lu"
         ],
         "y": [
          0.8220329387969902,
          0.9601886826144395,
          1.224219373772305,
          1.306534824408347,
          1.577933762026606,
          2.112826550046051,
          1.9626656807826799,
          1.8929129242907679,
          2.083038076991893,
          2.2174247153914948,
          2.269906031657817,
          2.4283092971534614,
          2.5347985092037093
         ]
        },
        {
         "hoverinfo": "text",
         "line": {
          "color": "rgba(127, 127, 127, 0.5)"
         },
         "mode": "lines+markers",
         "name": "Sample 59",
         "showlegend": false,
         "text": "λ0: 2.37<br>λ1: -14.58<br>λ2: -6.75<br>λ3: -304.82<br>Eu/Eu*: 3.48",
         "type": "scatter",
         "x": [
          "La",
          "Ce",
          "Pr",
          "Nd",
          "Sm",
          "Eu",
          "Gd",
          "Tb",
          "Dy",
          "Ho",
          "Er",
          "Yb",
          "Lu"
         ],
         "y": [
          0.7063865553022968,
          0.8281003662348893,
          1.0852465255884092,
          1.152109383590618,
          1.4007949619476696,
          1.9599704681386176,
          1.6592079366221713,
          1.7908449775138395,
          1.8540189734440824,
          1.9068787437629182,
          1.955018794568146,
          1.9831723435806496,
          2.1438819568360143
         ]
        },
        {
         "hoverinfo": "text",
         "line": {
          "color": "rgba(127, 127, 127, 0.5)"
         },
         "mode": "lines+markers",
         "name": "Sample 60",
         "showlegend": false,
         "text": "λ0: 2.43<br>λ1: -14.64<br>λ2: 1.16<br>λ3: -360.78<br>Eu/Eu*: 3.30",
         "type": "scatter",
         "x": [
          "La",
          "Ce",
          "Pr",
          "Nd",
          "Sm",
          "Eu",
          "Gd",
          "Tb",
          "Dy",
          "Ho",
          "Er",
          "Yb",
          "Lu"
         ],
         "y": [
          0.7705940880419748,
          0.9141217480628585,
          1.0739326907880746,
          1.197087140800773,
          1.5550267733508667,
          1.9098005500663988,
          1.6941205821860772,
          1.818992594431755,
          1.9255473734435382,
          1.993953573585636,
          2.012976370994423,
          2.0986400395826514,
          2.478435208444109
         ]
        },
        {
         "hoverinfo": "text",
         "line": {
          "color": "rgba(127, 127, 127, 0.5)"
         },
         "mode": "lines+markers",
         "name": "Sample 61",
         "showlegend": false,
         "text": "λ0: 2.47<br>λ1: -14.59<br>λ2: 4.95<br>λ3: -282.50<br>Eu/Eu*: 3.58",
         "type": "scatter",
         "x": [
          "La",
          "Ce",
          "Pr",
          "Nd",
          "Sm",
          "Eu",
          "Gd",
          "Tb",
          "Dy",
          "Ho",
          "Er",
          "Yb",
          "Lu"
         ],
         "y": [
          0.8523319057683346,
          0.9187408521862007,
          1.1381592545438022,
          1.2836811537971187,
          1.5711448915199533,
          2.135011328550634,
          1.7105213109791988,
          1.8788335417457662,
          1.9794670715796434,
          2.093198131975857,
          2.2180535311674685,
          2.3266425203758216,
          2.434141570187156
         ]
        },
        {
         "hoverinfo": "text",
         "line": {
          "color": "rgba(127, 127, 127, 0.5)"
         },
         "mode": "lines+markers",
         "name": "Sample 62",
         "showlegend": false,
         "text": "λ0: 2.49<br>λ1: -14.50<br>λ2: -2.13<br>λ3: -268.64<br>Eu/Eu*: 3.36",
         "type": "scatter",
         "x": [
          "La",
          "Ce",
          "Pr",
          "Nd",
          "Sm",
          "Eu",
          "Gd",
          "Tb",
          "Dy",
          "Ho",
          "Er",
          "Yb",
          "Lu"
         ],
         "y": [
          0.8323867564907985,
          0.9488926871094404,
          1.1861343633647634,
          1.2954668165067658,
          1.5865846833179662,
          2.0905338172702854,
          1.8317205182404597,
          1.9971681364781784,
          2.013559925064387,
          2.1179737616734013,
          2.231763087842479,
          2.3274958592052006,
          2.3594782379608885
         ]
        },
        {
         "hoverinfo": "text",
         "line": {
          "color": "rgba(127, 127, 127, 0.5)"
         },
         "mode": "lines+markers",
         "name": "Sample 63",
         "showlegend": false,
         "text": "λ0: 2.47<br>λ1: -14.55<br>λ2: -2.89<br>λ3: -256.76<br>Eu/Eu*: 3.27",
         "type": "scatter",
         "x": [
          "La",
          "Ce",
          "Pr",
          "Nd",
          "Sm",
          "Eu",
          "Gd",
          "Tb",
          "Dy",
          "Ho",
          "Er",
          "Yb",
          "Lu"
         ],
         "y": [
          0.8288317200423168,
          0.9015353731500985,
          1.1714670369889861,
          1.2674177336033339,
          1.6044740678786085,
          2.0093972945415954,
          1.7892525599957163,
          1.9245024900704528,
          2.0529613654689576,
          2.0977617070979533,
          2.212050228319273,
          2.2045021269079617,
          2.388862740905946
         ]
        },
        {
         "hoverinfo": "text",
         "line": {
          "color": "rgba(127, 127, 127, 0.5)"
         },
         "mode": "lines+markers",
         "name": "Sample 64",
         "showlegend": false,
         "text": "λ0: 2.46<br>λ1: -14.39<br>λ2: -3.63<br>λ3: -205.90<br>Eu/Eu*: 3.24",
         "type": "scatter",
         "x": [
          "La",
          "Ce",
          "Pr",
          "Nd",
          "Sm",
          "Eu",
          "Gd",
          "Tb",
          "Dy",
          "Ho",
          "Er",
          "Yb",
          "Lu"
         ],
         "y": [
          0.8451585173393165,
          0.8825495779707532,
          1.1854739982687106,
          1.2283081487442362,
          1.5799888521119632,
          1.9730087596751444,
          1.8306731086139139,
          1.8856298613962559,
          2.046533253139139,
          2.0257760199089625,
          2.183120317457838,
          2.153461274233396,
          2.2961158743321093
         ]
        },
        {
         "hoverinfo": "text",
         "line": {
          "color": "rgba(127, 127, 127, 0.5)"
         },
         "mode": "lines+markers",
         "name": "Sample 65",
         "showlegend": false,
         "text": "λ0: 2.50<br>λ1: -14.58<br>λ2: 0.41<br>λ3: -247.67<br>Eu/Eu*: 3.36",
         "type": "scatter",
         "x": [
          "La",
          "Ce",
          "Pr",
          "Nd",
          "Sm",
          "Eu",
          "Gd",
          "Tb",
          "Dy",
          "Ho",
          "Er",
          "Yb",
          "Lu"
         ],
         "y": [
          0.8674933367627868,
          0.9402399514239305,
          1.1834754495145003,
          1.314207816533768,
          1.6183548919221942,
          2.1051380514600933,
          1.8171139504415006,
          2.007733776792999,
          2.071117655458851,
          2.218278809969181,
          2.226017358597964,
          2.3226872599514397,
          2.4969654059887882
         ]
        },
        {
         "hoverinfo": "text",
         "line": {
          "color": "rgba(127, 127, 127, 0.5)"
         },
         "mode": "lines+markers",
         "name": "Sample 66",
         "showlegend": false,
         "text": "λ0: 2.44<br>λ1: -14.56<br>λ2: -1.21<br>λ3: -275.68<br>Eu/Eu*: 3.32",
         "type": "scatter",
         "x": [
          "La",
          "Ce",
          "Pr",
          "Nd",
          "Sm",
          "Eu",
          "Gd",
          "Tb",
          "Dy",
          "Ho",
          "Er",
          "Yb",
          "Lu"
         ],
         "y": [
          0.8019990542904206,
          0.8828142195384596,
          1.1276199454217204,
          1.2458860407280707,
          1.4885217039191938,
          1.9613445211597262,
          1.7761198085242471,
          1.8351809853569148,
          2.02079105763956,
          2.0604868478339373,
          2.0353486450157567,
          2.1524970669324888,
          2.369162450492388
         ]
        },
        {
         "hoverinfo": "text",
         "line": {
          "color": "rgba(127, 127, 127, 0.5)"
         },
         "mode": "lines+markers",
         "name": "Sample 67",
         "showlegend": false,
         "text": "λ0: 2.35<br>λ1: -14.50<br>λ2: -1.62<br>λ3: -355.78<br>Eu/Eu*: 3.41",
         "type": "scatter",
         "x": [
          "La",
          "Ce",
          "Pr",
          "Nd",
          "Sm",
          "Eu",
          "Gd",
          "Tb",
          "Dy",
          "Ho",
          "Er",
          "Yb",
          "Lu"
         ],
         "y": [
          0.727130146279401,
          0.7890492252681701,
          1.0652263806636046,
          1.13515438051755,
          1.4326243020002767,
          1.845857792681933,
          1.6002986812757565,
          1.6131648257223197,
          1.7667426644637214,
          1.841333586169024,
          1.9555235236538075,
          1.9230576785914408,
          2.1758823706321135
         ]
        },
        {
         "hoverinfo": "text",
         "line": {
          "color": "rgba(127, 127, 127, 0.5)"
         },
         "mode": "lines+markers",
         "name": "Sample 68",
         "showlegend": false,
         "text": "λ0: 2.40<br>λ1: -14.37<br>λ2: -4.70<br>λ3: -304.18<br>Eu/Eu*: 3.27",
         "type": "scatter",
         "x": [
          "La",
          "Ce",
          "Pr",
          "Nd",
          "Sm",
          "Eu",
          "Gd",
          "Tb",
          "Dy",
          "Ho",
          "Er",
          "Yb",
          "Lu"
         ],
         "y": [
          0.7608270551761914,
          0.8714370817110885,
          1.1187042835832703,
          1.1706252070916194,
          1.5123519282235525,
          1.8890839503868688,
          1.7194339629643978,
          1.774744609978233,
          1.8962812362386656,
          1.9348821570960437,
          2.0016537459898145,
          2.0066914670650515,
          2.222563524828127
         ]
        },
        {
         "hoverinfo": "text",
         "line": {
          "color": "rgba(127, 127, 127, 0.5)"
         },
         "mode": "lines+markers",
         "name": "Sample 69",
         "showlegend": false,
         "text": "λ0: 2.50<br>λ1: -14.71<br>λ2: -1.48<br>λ3: -292.10<br>Eu/Eu*: 3.46",
         "type": "scatter",
         "x": [
          "La",
          "Ce",
          "Pr",
          "Nd",
          "Sm",
          "Eu",
          "Gd",
          "Tb",
          "Dy",
          "Ho",
          "Er",
          "Yb",
          "Lu"
         ],
         "y": [
          0.8360321068094693,
          0.921220481799684,
          1.1852039908516727,
          1.3120219057146134,
          1.6483616225464526,
          2.173571862903638,
          1.8685658434423882,
          1.8826253286559889,
          2.0837285435434256,
          2.1679343709369223,
          2.355531026305749,
          2.3237600305102064,
          2.4831310092260384
         ]
        },
        {
         "hoverinfo": "text",
         "line": {
          "color": "rgba(127, 127, 127, 0.5)"
         },
         "mode": "lines+markers",
         "name": "Sample 70",
         "showlegend": false,
         "text": "λ0: 2.51<br>λ1: -14.51<br>λ2: -3.50<br>λ3: -300.63<br>Eu/Eu*: 3.40",
         "type": "scatter",
         "x": [
          "La",
          "Ce",
          "Pr",
          "Nd",
          "Sm",
          "Eu",
          "Gd",
          "Tb",
          "Dy",
          "Ho",
          "Er",
          "Yb",
          "Lu"
         ],
         "y": [
          0.8610529476460124,
          0.9292086534633283,
          1.2362675877349492,
          1.3133071061015738,
          1.713908893216199,
          2.178745644599639,
          1.8878289143737879,
          1.9500678290792959,
          2.148513398438051,
          2.143140553546446,
          2.2682638540177993,
          2.3047705401806167,
          2.4953424692023423
         ]
        },
        {
         "hoverinfo": "text",
         "line": {
          "color": "rgba(127, 127, 127, 0.5)"
         },
         "mode": "lines+markers",
         "name": "Sample 71",
         "showlegend": false,
         "text": "λ0: 2.48<br>λ1: -14.68<br>λ2: 0.37<br>λ3: -235.70<br>Eu/Eu*: 3.41",
         "type": "scatter",
         "x": [
          "La",
          "Ce",
          "Pr",
          "Nd",
          "Sm",
          "Eu",
          "Gd",
          "Tb",
          "Dy",
          "Ho",
          "Er",
          "Yb",
          "Lu"
         ],
         "y": [
          0.8391474947312485,
          0.9063419108226314,
          1.1640569882427247,
          1.21179187865558,
          1.591057693242706,
          2.072098755252787,
          1.7951376589389596,
          1.9784200188406786,
          2.060424671431591,
          2.1455340588022693,
          2.1146817063934904,
          2.22026554886088,
          2.5203866804355792
         ]
        },
        {
         "hoverinfo": "text",
         "line": {
          "color": "rgba(127, 127, 127, 0.5)"
         },
         "mode": "lines+markers",
         "name": "Sample 72",
         "showlegend": false,
         "text": "λ0: 2.50<br>λ1: -14.48<br>λ2: -7.43<br>λ3: -338.41<br>Eu/Eu*: 3.36",
         "type": "scatter",
         "x": [
          "La",
          "Ce",
          "Pr",
          "Nd",
          "Sm",
          "Eu",
          "Gd",
          "Tb",
          "Dy",
          "Ho",
          "Er",
          "Yb",
          "Lu"
         ],
         "y": [
          0.8075475364829857,
          0.9409679478791327,
          1.2183431030826637,
          1.3295520799147127,
          1.6571152219731193,
          2.154359053801913,
          1.865024787274764,
          1.9654781806416155,
          2.1143255249023265,
          2.1571067787486458,
          2.168193631809167,
          2.2658683490015346,
          2.402291723279914
         ]
        },
        {
         "hoverinfo": "text",
         "line": {
          "color": "rgba(127, 127, 127, 0.5)"
         },
         "mode": "lines+markers",
         "name": "Sample 73",
         "showlegend": false,
         "text": "λ0: 2.46<br>λ1: -14.53<br>λ2: -2.01<br>λ3: -209.73<br>Eu/Eu*: 3.40",
         "type": "scatter",
         "x": [
          "La",
          "Ce",
          "Pr",
          "Nd",
          "Sm",
          "Eu",
          "Gd",
          "Tb",
          "Dy",
          "Ho",
          "Er",
          "Yb",
          "Lu"
         ],
         "y": [
          0.8303807756051882,
          0.9158644313503034,
          1.0966649953863166,
          1.266541882086143,
          1.6007271490790975,
          2.056350780642375,
          1.767748114359859,
          1.8407587696151613,
          2.027273102280341,
          2.185112769457312,
          2.1447263250625523,
          2.1714952708392263,
          2.3447377930855433
         ]
        },
        {
         "hoverinfo": "text",
         "line": {
          "color": "rgba(127, 127, 127, 0.5)"
         },
         "mode": "lines+markers",
         "name": "Sample 74",
         "showlegend": false,
         "text": "λ0: 2.41<br>λ1: -14.50<br>λ2: -3.23<br>λ3: -267.90<br>Eu/Eu*: 3.32",
         "type": "scatter",
         "x": [
          "La",
          "Ce",
          "Pr",
          "Nd",
          "Sm",
          "Eu",
          "Gd",
          "Tb",
          "Dy",
          "Ho",
          "Er",
          "Yb",
          "Lu"
         ],
         "y": [
          0.752627719610911,
          0.8861254445324508,
          1.1318692166827011,
          1.1447597885511036,
          1.5009462617413327,
          1.9130630300902598,
          1.6558688866704443,
          1.805457148097621,
          1.9180180846729509,
          2.0253825260870344,
          2.0404732311019975,
          2.0502510368398004,
          2.222208494271302
         ]
        },
        {
         "hoverinfo": "text",
         "line": {
          "color": "rgba(127, 127, 127, 0.5)"
         },
         "mode": "lines+markers",
         "name": "Sample 75",
         "showlegend": false,
         "text": "λ0: 2.44<br>λ1: -14.50<br>λ2: -5.08<br>λ3: -235.87<br>Eu/Eu*: 3.30",
         "type": "scatter",
         "x": [
          "La",
          "Ce",
          "Pr",
          "Nd",
          "Sm",
          "Eu",
          "Gd",
          "Tb",
          "Dy",
          "Ho",
          "Er",
          "Yb",
          "Lu"
         ],
         "y": [
          0.7922086471788232,
          0.8887825449956944,
          1.1308305345191134,
          1.178823976269298,
          1.5753185636761522,
          1.9685360109080334,
          1.7576203539050492,
          1.8933955340269504,
          2.0301035003675434,
          2.0113781091927785,
          2.0605132138989406,
          2.0786997527132414,
          2.314980367633326
         ]
        },
        {
         "hoverinfo": "text",
         "line": {
          "color": "rgba(127, 127, 127, 0.5)"
         },
         "mode": "lines+markers",
         "name": "Sample 76",
         "showlegend": false,
         "text": "λ0: 2.42<br>λ1: -14.62<br>λ2: -2.18<br>λ3: -282.17<br>Eu/Eu*: 3.23",
         "type": "scatter",
         "x": [
          "La",
          "Ce",
          "Pr",
          "Nd",
          "Sm",
          "Eu",
          "Gd",
          "Tb",
          "Dy",
          "Ho",
          "Er",
          "Yb",
          "Lu"
         ],
         "y": [
          0.763409850786329,
          0.8790433084097077,
          1.1053024752841059,
          1.2235420601610965,
          1.4865365741879673,
          1.8787142649551447,
          1.646079883339346,
          1.861833464034473,
          1.940220060484285,
          1.9890103371953576,
          2.136998180753034,
          2.146899919515663,
          2.2480547788120617
         ]
        },
        {
         "hoverinfo": "text",
         "line": {
          "color": "rgba(127, 127, 127, 0.5)"
         },
         "mode": "lines+markers",
         "name": "Sample 77",
         "showlegend": false,
         "text": "λ0: 2.44<br>λ1: -14.76<br>λ2: -3.29<br>λ3: -289.96<br>Eu/Eu*: 3.24",
         "type": "scatter",
         "x": [
          "La",
          "Ce",
          "Pr",
          "Nd",
          "Sm",
          "Eu",
          "Gd",
          "Tb",
          "Dy",
          "Ho",
          "Er",
          "Yb",
          "Lu"
         ],
         "y": [
          0.7752805480488377,
          0.8440500691438928,
          1.1476482957125342,
          1.1799555493824745,
          1.5812542884536578,
          1.9175095611514898,
          1.7198006371458896,
          1.8067226349435026,
          2.028796912115319,
          2.074273804652457,
          2.1154432160523147,
          2.1119557088516836,
          2.3993853654630737
         ]
        },
        {
         "hoverinfo": "text",
         "line": {
          "color": "rgba(127, 127, 127, 0.5)"
         },
         "mode": "lines+markers",
         "name": "Sample 78",
         "showlegend": false,
         "text": "λ0: 2.47<br>λ1: -14.42<br>λ2: -3.30<br>λ3: -337.59<br>Eu/Eu*: 3.39",
         "type": "scatter",
         "x": [
          "La",
          "Ce",
          "Pr",
          "Nd",
          "Sm",
          "Eu",
          "Gd",
          "Tb",
          "Dy",
          "Ho",
          "Er",
          "Yb",
          "Lu"
         ],
         "y": [
          0.8096366401908563,
          0.9136009058135041,
          1.2348311183005771,
          1.2294109353617595,
          1.6247187956366937,
          2.0788361131700563,
          1.8488370275634176,
          1.8177050512916468,
          2.0106956261458886,
          2.0745247653651173,
          2.13662680290673,
          2.2473248206460092,
          2.3410555815334795
         ]
        },
        {
         "hoverinfo": "text",
         "line": {
          "color": "rgba(127, 127, 127, 0.5)"
         },
         "mode": "lines+markers",
         "name": "Sample 79",
         "showlegend": false,
         "text": "λ0: 2.40<br>λ1: -14.47<br>λ2: -2.45<br>λ3: -278.57<br>Eu/Eu*: 3.51",
         "type": "scatter",
         "x": [
          "La",
          "Ce",
          "Pr",
          "Nd",
          "Sm",
          "Eu",
          "Gd",
          "Tb",
          "Dy",
          "Ho",
          "Er",
          "Yb",
          "Lu"
         ],
         "y": [
          0.7789139604494516,
          0.8288141852731976,
          1.11655331108911,
          1.1613796093784625,
          1.5054682079841026,
          1.9974594173219355,
          1.6851630578196894,
          1.7945839611741883,
          1.836819997905005,
          1.9404194804688741,
          1.9976376648461012,
          2.137100727313943,
          2.163200896286883
         ]
        },
        {
         "hoverinfo": "text",
         "line": {
          "color": "rgba(127, 127, 127, 0.5)"
         },
         "mode": "lines+markers",
         "name": "Sample 80",
         "showlegend": false,
         "text": "λ0: 2.43<br>λ1: -14.71<br>λ2: 0.67<br>λ3: -273.38<br>Eu/Eu*: 3.45",
         "type": "scatter",
         "x": [
          "La",
          "Ce",
          "Pr",
          "Nd",
          "Sm",
          "Eu",
          "Gd",
          "Tb",
          "Dy",
          "Ho",
          "Er",
          "Yb",
          "Lu"
         ],
         "y": [
          0.7801643277719087,
          0.8833179647726129,
          1.1147749783883485,
          1.2142242376871784,
          1.4807421434757622,
          2.00509471519092,
          1.6407679910928106,
          1.875682117827116,
          1.9839919588490307,
          2.1419981412327544,
          2.038676525489803,
          2.1142272092399303,
          2.4161642033566646
         ]
        },
        {
         "hoverinfo": "text",
         "line": {
          "color": "rgba(127, 127, 127, 0.5)"
         },
         "mode": "lines+markers",
         "name": "Sample 81",
         "showlegend": false,
         "text": "λ0: 2.42<br>λ1: -14.57<br>λ2: -3.59<br>λ3: -238.62<br>Eu/Eu*: 3.34",
         "type": "scatter",
         "x": [
          "La",
          "Ce",
          "Pr",
          "Nd",
          "Sm",
          "Eu",
          "Gd",
          "Tb",
          "Dy",
          "Ho",
          "Er",
          "Yb",
          "Lu"
         ],
         "y": [
          0.7869775189582018,
          0.8385568360217801,
          1.0819037759694652,
          1.2046849679211937,
          1.5519589482093659,
          1.9364209036033377,
          1.643153307459518,
          1.846102195005203,
          1.951098355528182,
          1.9429436601292458,
          2.0973557102078417,
          2.16162233111244,
          2.181205760870119
         ]
        },
        {
         "hoverinfo": "text",
         "line": {
          "color": "rgba(127, 127, 127, 0.5)"
         },
         "mode": "lines+markers",
         "name": "Sample 82",
         "showlegend": false,
         "text": "λ0: 2.44<br>λ1: -14.61<br>λ2: -4.04<br>λ3: -234.16<br>Eu/Eu*: 3.31",
         "type": "scatter",
         "x": [
          "La",
          "Ce",
          "Pr",
          "Nd",
          "Sm",
          "Eu",
          "Gd",
          "Tb",
          "Dy",
          "Ho",
          "Er",
          "Yb",
          "Lu"
         ],
         "y": [
          0.784190097023971,
          0.8955007225817697,
          1.1094764774927977,
          1.2190599440269438,
          1.5036871748723073,
          1.9771225980275264,
          1.800552271520526,
          1.881324806591136,
          2.0304911716190506,
          2.0023202206542363,
          2.139001702332541,
          2.1279492078755577,
          2.317037805360743
         ]
        },
        {
         "hoverinfo": "text",
         "line": {
          "color": "rgba(127, 127, 127, 0.5)"
         },
         "mode": "lines+markers",
         "name": "Sample 83",
         "showlegend": false,
         "text": "λ0: 2.48<br>λ1: -14.40<br>λ2: -5.78<br>λ3: -308.02<br>Eu/Eu*: 3.47",
         "type": "scatter",
         "x": [
          "La",
          "Ce",
          "Pr",
          "Nd",
          "Sm",
          "Eu",
          "Gd",
          "Tb",
          "Dy",
          "Ho",
          "Er",
          "Yb",
          "Lu"
         ],
         "y": [
          0.8140282762367852,
          0.9415861771963576,
          1.1887425457780043,
          1.3091692545191356,
          1.6437474659670805,
          2.176128700869526,
          1.8055858371048221,
          1.9215245317180139,
          2.0765490146915173,
          2.09050045914416,
          2.2677628170676463,
          2.0979532062498465,
          2.424499987896187
         ]
        },
        {
         "hoverinfo": "text",
         "line": {
          "color": "rgba(127, 127, 127, 0.5)"
         },
         "mode": "lines+markers",
         "name": "Sample 84",
         "showlegend": false,
         "text": "λ0: 2.37<br>λ1: -14.34<br>λ2: -2.53<br>λ3: -302.62<br>Eu/Eu*: 3.16",
         "type": "scatter",
         "x": [
          "La",
          "Ce",
          "Pr",
          "Nd",
          "Sm",
          "Eu",
          "Gd",
          "Tb",
          "Dy",
          "Ho",
          "Er",
          "Yb",
          "Lu"
         ],
         "y": [
          0.7530632043942554,
          0.8187785138933236,
          1.109947126289331,
          1.1016932619541187,
          1.5023950426687858,
          1.7418679980546796,
          1.580415287653827,
          1.726852821918804,
          1.8118494919158583,
          1.82462074194491,
          1.9538302031526626,
          1.989294442611548,
          2.1146075432928657
         ]
        },
        {
         "hoverinfo": "text",
         "line": {
          "color": "rgba(127, 127, 127, 0.5)"
         },
         "mode": "lines+markers",
         "name": "Sample 85",
         "showlegend": false,
         "text": "λ0: 2.46<br>λ1: -14.44<br>λ2: -3.28<br>λ3: -299.88<br>Eu/Eu*: 3.34",
         "type": "scatter",
         "x": [
          "La",
          "Ce",
          "Pr",
          "Nd",
          "Sm",
          "Eu",
          "Gd",
          "Tb",
          "Dy",
          "Ho",
          "Er",
          "Yb",
          "Lu"
         ],
         "y": [
          0.8051498135913843,
          0.9148536451270588,
          1.1912170986796249,
          1.2897187311091962,
          1.5428093999787418,
          2.0381890681145096,
          1.7648605810091869,
          1.8783561499944639,
          2.0344388997103873,
          2.0706332466250896,
          2.2179837329343415,
          2.1298741519280022,
          2.358446537088385
         ]
        },
        {
         "hoverinfo": "text",
         "line": {
          "color": "rgba(127, 127, 127, 0.5)"
         },
         "mode": "lines+markers",
         "name": "Sample 86",
         "showlegend": false,
         "text": "λ0: 2.44<br>λ1: -14.50<br>λ2: -5.51<br>λ3: -292.45<br>Eu/Eu*: 3.40",
         "type": "scatter",
         "x": [
          "La",
          "Ce",
          "Pr",
          "Nd",
          "Sm",
          "Eu",
          "Gd",
          "Tb",
          "Dy",
          "Ho",
          "Er",
          "Yb",
          "Lu"
         ],
         "y": [
          0.7524524338616385,
          0.9500001455016918,
          1.1353867195957799,
          1.2345278444021905,
          1.5173083320461576,
          2.0470217603077097,
          1.7765672898198746,
          1.8478130213080752,
          1.9818703825822035,
          2.083483054523432,
          2.139274467043438,
          2.145041303148128,
          2.252294982817701
         ]
        },
        {
         "hoverinfo": "text",
         "line": {
          "color": "rgba(127, 127, 127, 0.5)"
         },
         "mode": "lines+markers",
         "name": "Sample 87",
         "showlegend": false,
         "text": "λ0: 2.43<br>λ1: -14.45<br>λ2: 0.62<br>λ3: -240.03<br>Eu/Eu*: 3.52",
         "type": "scatter",
         "x": [
          "La",
          "Ce",
          "Pr",
          "Nd",
          "Sm",
          "Eu",
          "Gd",
          "Tb",
          "Dy",
          "Ho",
          "Er",
          "Yb",
          "Lu"
         ],
         "y": [
          0.8137048486372501,
          0.8825726615441445,
          1.1288745177698751,
          1.1948166219238172,
          1.5281006392118017,
          2.0407201614949564,
          1.6548558628369672,
          1.871973808268439,
          1.9032564326125274,
          2.0278507051664882,
          2.0841053418410134,
          2.1618045198217284,
          2.256325483798493
         ]
        },
        {
         "hoverinfo": "text",
         "line": {
          "color": "rgba(127, 127, 127, 0.5)"
         },
         "mode": "lines+markers",
         "name": "Sample 88",
         "showlegend": false,
         "text": "λ0: 2.50<br>λ1: -14.37<br>λ2: -0.53<br>λ3: -324.57<br>Eu/Eu*: 3.34",
         "type": "scatter",
         "x": [
          "La",
          "Ce",
          "Pr",
          "Nd",
          "Sm",
          "Eu",
          "Gd",
          "Tb",
          "Dy",
          "Ho",
          "Er",
          "Yb",
          "Lu"
         ],
         "y": [
          0.8484800428559534,
          0.9546513730317228,
          1.2762437565501128,
          1.3132965076004723,
          1.6288102489330338,
          2.0967227473097685,
          1.7649897901885074,
          1.974061078770544,
          2.030776301314292,
          2.1535293869858783,
          2.28546587324687,
          2.298509960121737,
          2.4146037683795067
         ]
        },
        {
         "hoverinfo": "text",
         "line": {
          "color": "rgba(127, 127, 127, 0.5)"
         },
         "mode": "lines+markers",
         "name": "Sample 89",
         "showlegend": false,
         "text": "λ0: 2.35<br>λ1: -14.37<br>λ2: -0.18<br>λ3: -318.78<br>Eu/Eu*: 3.23",
         "type": "scatter",
         "x": [
          "La",
          "Ce",
          "Pr",
          "Nd",
          "Sm",
          "Eu",
          "Gd",
          "Tb",
          "Dy",
          "Ho",
          "Er",
          "Yb",
          "Lu"
         ],
         "y": [
          0.7442885802927899,
          0.8142999205946032,
          1.0364699959110546,
          1.1947052613807936,
          1.3719970785573277,
          1.7425604027815775,
          1.567432956179778,
          1.630714811170275,
          1.7876404254607559,
          1.9263542477900306,
          1.834183113538985,
          1.9940608727506552,
          2.100148898497856
         ]
        },
        {
         "hoverinfo": "text",
         "line": {
          "color": "rgba(127, 127, 127, 0.5)"
         },
         "mode": "lines+markers",
         "name": "Sample 90",
         "showlegend": false,
         "text": "λ0: 2.47<br>λ1: -14.43<br>λ2: -1.54<br>λ3: -370.79<br>Eu/Eu*: 3.37",
         "type": "scatter",
         "x": [
          "La",
          "Ce",
          "Pr",
          "Nd",
          "Sm",
          "Eu",
          "Gd",
          "Tb",
          "Dy",
          "Ho",
          "Er",
          "Yb",
          "Lu"
         ],
         "y": [
          0.8431785726947978,
          0.884399685038191,
          1.2046199884413882,
          1.2934356365027833,
          1.6473892808462272,
          2.070894555702022,
          1.8334258834925796,
          1.8475952876812223,
          2.022572309254,
          2.0644091565287375,
          2.086220637575513,
          2.2172498251430413,
          2.482931010271085
         ]
        },
        {
         "hoverinfo": "text",
         "line": {
          "color": "rgba(127, 127, 127, 0.5)"
         },
         "mode": "lines+markers",
         "name": "Sample 91",
         "showlegend": false,
         "text": "λ0: 2.38<br>λ1: -14.50<br>λ2: -0.90<br>λ3: -252.55<br>Eu/Eu*: 3.46",
         "type": "scatter",
         "x": [
          "La",
          "Ce",
          "Pr",
          "Nd",
          "Sm",
          "Eu",
          "Gd",
          "Tb",
          "Dy",
          "Ho",
          "Er",
          "Yb",
          "Lu"
         ],
         "y": [
          0.7632951114364288,
          0.8515668133806781,
          1.0345125661013994,
          1.1600017829003233,
          1.464630451506419,
          1.9259751904522195,
          1.630091939517455,
          1.7359879607831858,
          1.8903106914029797,
          1.8687343135887158,
          1.990474845302537,
          2.0722799992172187,
          2.157739200738724
         ]
        },
        {
         "hoverinfo": "text",
         "line": {
          "color": "rgba(127, 127, 127, 0.5)"
         },
         "mode": "lines+markers",
         "name": "Sample 92",
         "showlegend": false,
         "text": "λ0: 2.47<br>λ1: -14.64<br>λ2: -1.84<br>λ3: -259.78<br>Eu/Eu*: 3.33",
         "type": "scatter",
         "x": [
          "La",
          "Ce",
          "Pr",
          "Nd",
          "Sm",
          "Eu",
          "Gd",
          "Tb",
          "Dy",
          "Ho",
          "Er",
          "Yb",
          "Lu"
         ],
         "y": [
          0.8062452048502848,
          0.8986525780442058,
          1.1836940643630924,
          1.2243328455390365,
          1.5694471139741983,
          2.0149006760892885,
          1.757350693493321,
          1.8888620883999914,
          2.0408645540976456,
          2.16194576279528,
          2.1390433481848734,
          2.2549967014793553,
          2.358541568624519
         ]
        },
        {
         "hoverinfo": "text",
         "line": {
          "color": "rgba(127, 127, 127, 0.5)"
         },
         "mode": "lines+markers",
         "name": "Sample 93",
         "showlegend": false,
         "text": "λ0: 2.35<br>λ1: -14.89<br>λ2: 0.66<br>λ3: -193.28<br>Eu/Eu*: 3.34",
         "type": "scatter",
         "x": [
          "La",
          "Ce",
          "Pr",
          "Nd",
          "Sm",
          "Eu",
          "Gd",
          "Tb",
          "Dy",
          "Ho",
          "Er",
          "Yb",
          "Lu"
         ],
         "y": [
          0.7235719940018411,
          0.7987261451240513,
          0.9610112146952194,
          1.1120619168432393,
          1.3534671885006921,
          1.7804439610746268,
          1.5521229547164699,
          1.7266346468891902,
          1.8305357822129038,
          1.9683553114043282,
          1.9178746605335262,
          2.0095035038651,
          2.1842600576663163
         ]
        },
        {
         "hoverinfo": "text",
         "line": {
          "color": "rgba(127, 127, 127, 0.5)"
         },
         "mode": "lines+markers",
         "name": "Sample 94",
         "showlegend": false,
         "text": "λ0: 2.41<br>λ1: -14.44<br>λ2: 0.11<br>λ3: -231.00<br>Eu/Eu*: 3.32",
         "type": "scatter",
         "x": [
          "La",
          "Ce",
          "Pr",
          "Nd",
          "Sm",
          "Eu",
          "Gd",
          "Tb",
          "Dy",
          "Ho",
          "Er",
          "Yb",
          "Lu"
         ],
         "y": [
          0.8019393917857431,
          0.8440654533316683,
          1.099422882964889,
          1.206130707708117,
          1.4613114414995576,
          1.8882791953865932,
          1.6302308196064343,
          1.783243488959354,
          1.9140935784012751,
          2.002279568342542,
          2.051038325994741,
          2.030862734073725,
          2.243491277495543
         ]
        },
        {
         "hoverinfo": "text",
         "line": {
          "color": "rgba(127, 127, 127, 0.5)"
         },
         "mode": "lines+markers",
         "name": "Sample 95",
         "showlegend": false,
         "text": "λ0: 2.31<br>λ1: -14.40<br>λ2: -0.67<br>λ3: -300.31<br>Eu/Eu*: 3.56",
         "type": "scatter",
         "x": [
          "La",
          "Ce",
          "Pr",
          "Nd",
          "Sm",
          "Eu",
          "Gd",
          "Tb",
          "Dy",
          "Ho",
          "Er",
          "Yb",
          "Lu"
         ],
         "y": [
          0.7139402696409449,
          0.7900266203403066,
          1.020178565567061,
          1.0743350534169553,
          1.345303027575231,
          1.8497371023153506,
          1.5596305378819924,
          1.611648053641219,
          1.710296276809411,
          1.818169857503862,
          1.7681950079797844,
          1.8814297444542423,
          2.071088006193627
         ]
        },
        {
         "hoverinfo": "text",
         "line": {
          "color": "rgba(127, 127, 127, 0.5)"
         },
         "mode": "lines+markers",
         "name": "Sample 96",
         "showlegend": false,
         "text": "λ0: 2.49<br>λ1: -14.63<br>λ2: 0.07<br>λ3: -254.74<br>Eu/Eu*: 3.58",
         "type": "scatter",
         "x": [
          "La",
          "Ce",
          "Pr",
          "Nd",
          "Sm",
          "Eu",
          "Gd",
          "Tb",
          "Dy",
          "Ho",
          "Er",
          "Yb",
          "Lu"
         ],
         "y": [
          0.8300471773438018,
          0.9346703915535498,
          1.187121450224181,
          1.2538240819252764,
          1.659795369036054,
          2.201123104716667,
          1.6715643155005546,
          1.8877026236114285,
          2.1562771843071205,
          2.242439099555826,
          2.2147043372328277,
          2.2423865607846927,
          2.457548124563141
         ]
        },
        {
         "hoverinfo": "text",
         "line": {
          "color": "rgba(127, 127, 127, 0.5)"
         },
         "mode": "lines+markers",
         "name": "Sample 97",
         "showlegend": false,
         "text": "λ0: 2.37<br>λ1: -14.71<br>λ2: -2.64<br>λ3: -243.03<br>Eu/Eu*: 3.36",
         "type": "scatter",
         "x": [
          "La",
          "Ce",
          "Pr",
          "Nd",
          "Sm",
          "Eu",
          "Gd",
          "Tb",
          "Dy",
          "Ho",
          "Er",
          "Yb",
          "Lu"
         ],
         "y": [
          0.7428896385231145,
          0.8282659695530692,
          0.9993814847218989,
          1.1194472575129113,
          1.4584864294854463,
          1.8642255626613786,
          1.7223261653507864,
          1.736718729701418,
          1.8630471945813283,
          1.8133134301054104,
          2.0373965455223217,
          1.9936075539837201,
          2.235986549635001
         ]
        },
        {
         "hoverinfo": "text",
         "line": {
          "color": "rgba(127, 127, 127, 0.5)"
         },
         "mode": "lines+markers",
         "name": "Sample 98",
         "showlegend": false,
         "text": "λ0: 2.48<br>λ1: -14.53<br>λ2: -2.71<br>λ3: -313.70<br>Eu/Eu*: 3.33",
         "type": "scatter",
         "x": [
          "La",
          "Ce",
          "Pr",
          "Nd",
          "Sm",
          "Eu",
          "Gd",
          "Tb",
          "Dy",
          "Ho",
          "Er",
          "Yb",
          "Lu"
         ],
         "y": [
          0.8211660511896008,
          0.9215168667953249,
          1.2160738273009548,
          1.2766813464277,
          1.6246644268009343,
          2.065971698092051,
          1.74817117392704,
          2.039216687755505,
          2.0202219788230633,
          2.103770214854401,
          2.171020036260033,
          2.3232173867282744,
          2.3860657125909657
         ]
        },
        {
         "hoverinfo": "text",
         "line": {
          "color": "rgba(127, 127, 127, 0.5)"
         },
         "mode": "lines+markers",
         "name": "Sample 99",
         "showlegend": false,
         "text": "λ0: 2.49<br>λ1: -14.46<br>λ2: -0.09<br>λ3: -322.72<br>Eu/Eu*: 3.43",
         "type": "scatter",
         "x": [
          "La",
          "Ce",
          "Pr",
          "Nd",
          "Sm",
          "Eu",
          "Gd",
          "Tb",
          "Dy",
          "Ho",
          "Er",
          "Yb",
          "Lu"
         ],
         "y": [
          0.8214834125804906,
          0.9577079878426011,
          1.2691486173458693,
          1.234392010152797,
          1.589877360850661,
          2.118728634172254,
          1.7605487512030407,
          2.017630919255937,
          1.989558185895068,
          2.15785694264145,
          2.1788299056614155,
          2.2358004426451044,
          2.471649040374338
         ]
        },
        {
         "line": {
          "color": "black",
          "dash": "dot",
          "width": 0.5
         },
         "mode": "lines",
         "showlegend": false,
         "type": "scatter",
         "x": [
          "La",
          "Ce",
          "Pr",
          "Nd",
          "Sm",
          "Eu",
          "Gd",
          "Tb",
          "Dy",
          "Ho",
          "Er",
          "Yb",
          "Lu"
         ],
         "y": [
          1,
          1,
          1,
          1,
          1,
          1,
          1,
          1,
          1,
          1,
          1,
          1,
          1
         ]
        }
       ],
       "layout": {
        "plot_bgcolor": "white",
        "template": {
         "data": {
          "bar": [
           {
            "error_x": {
             "color": "#2a3f5f"
            },
            "error_y": {
             "color": "#2a3f5f"
            },
            "marker": {
             "line": {
              "color": "#E5ECF6",
              "width": 0.5
             },
             "pattern": {
              "fillmode": "overlay",
              "size": 10,
              "solidity": 0.2
             }
            },
            "type": "bar"
           }
          ],
          "barpolar": [
           {
            "marker": {
             "line": {
              "color": "#E5ECF6",
              "width": 0.5
             },
             "pattern": {
              "fillmode": "overlay",
              "size": 10,
              "solidity": 0.2
             }
            },
            "type": "barpolar"
           }
          ],
          "carpet": [
           {
            "aaxis": {
             "endlinecolor": "#2a3f5f",
             "gridcolor": "white",
             "linecolor": "white",
             "minorgridcolor": "white",
             "startlinecolor": "#2a3f5f"
            },
            "baxis": {
             "endlinecolor": "#2a3f5f",
             "gridcolor": "white",
             "linecolor": "white",
             "minorgridcolor": "white",
             "startlinecolor": "#2a3f5f"
            },
            "type": "carpet"
           }
          ],
          "choropleth": [
           {
            "colorbar": {
             "outlinewidth": 0,
             "ticks": ""
            },
            "type": "choropleth"
           }
          ],
          "contour": [
           {
            "colorbar": {
             "outlinewidth": 0,
             "ticks": ""
            },
            "colorscale": [
             [
              0,
              "#0d0887"
             ],
             [
              0.1111111111111111,
              "#46039f"
             ],
             [
              0.2222222222222222,
              "#7201a8"
             ],
             [
              0.3333333333333333,
              "#9c179e"
             ],
             [
              0.4444444444444444,
              "#bd3786"
             ],
             [
              0.5555555555555556,
              "#d8576b"
             ],
             [
              0.6666666666666666,
              "#ed7953"
             ],
             [
              0.7777777777777778,
              "#fb9f3a"
             ],
             [
              0.8888888888888888,
              "#fdca26"
             ],
             [
              1,
              "#f0f921"
             ]
            ],
            "type": "contour"
           }
          ],
          "contourcarpet": [
           {
            "colorbar": {
             "outlinewidth": 0,
             "ticks": ""
            },
            "type": "contourcarpet"
           }
          ],
          "heatmap": [
           {
            "colorbar": {
             "outlinewidth": 0,
             "ticks": ""
            },
            "colorscale": [
             [
              0,
              "#0d0887"
             ],
             [
              0.1111111111111111,
              "#46039f"
             ],
             [
              0.2222222222222222,
              "#7201a8"
             ],
             [
              0.3333333333333333,
              "#9c179e"
             ],
             [
              0.4444444444444444,
              "#bd3786"
             ],
             [
              0.5555555555555556,
              "#d8576b"
             ],
             [
              0.6666666666666666,
              "#ed7953"
             ],
             [
              0.7777777777777778,
              "#fb9f3a"
             ],
             [
              0.8888888888888888,
              "#fdca26"
             ],
             [
              1,
              "#f0f921"
             ]
            ],
            "type": "heatmap"
           }
          ],
          "heatmapgl": [
           {
            "colorbar": {
             "outlinewidth": 0,
             "ticks": ""
            },
            "colorscale": [
             [
              0,
              "#0d0887"
             ],
             [
              0.1111111111111111,
              "#46039f"
             ],
             [
              0.2222222222222222,
              "#7201a8"
             ],
             [
              0.3333333333333333,
              "#9c179e"
             ],
             [
              0.4444444444444444,
              "#bd3786"
             ],
             [
              0.5555555555555556,
              "#d8576b"
             ],
             [
              0.6666666666666666,
              "#ed7953"
             ],
             [
              0.7777777777777778,
              "#fb9f3a"
             ],
             [
              0.8888888888888888,
              "#fdca26"
             ],
             [
              1,
              "#f0f921"
             ]
            ],
            "type": "heatmapgl"
           }
          ],
          "histogram": [
           {
            "marker": {
             "pattern": {
              "fillmode": "overlay",
              "size": 10,
              "solidity": 0.2
             }
            },
            "type": "histogram"
           }
          ],
          "histogram2d": [
           {
            "colorbar": {
             "outlinewidth": 0,
             "ticks": ""
            },
            "colorscale": [
             [
              0,
              "#0d0887"
             ],
             [
              0.1111111111111111,
              "#46039f"
             ],
             [
              0.2222222222222222,
              "#7201a8"
             ],
             [
              0.3333333333333333,
              "#9c179e"
             ],
             [
              0.4444444444444444,
              "#bd3786"
             ],
             [
              0.5555555555555556,
              "#d8576b"
             ],
             [
              0.6666666666666666,
              "#ed7953"
             ],
             [
              0.7777777777777778,
              "#fb9f3a"
             ],
             [
              0.8888888888888888,
              "#fdca26"
             ],
             [
              1,
              "#f0f921"
             ]
            ],
            "type": "histogram2d"
           }
          ],
          "histogram2dcontour": [
           {
            "colorbar": {
             "outlinewidth": 0,
             "ticks": ""
            },
            "colorscale": [
             [
              0,
              "#0d0887"
             ],
             [
              0.1111111111111111,
              "#46039f"
             ],
             [
              0.2222222222222222,
              "#7201a8"
             ],
             [
              0.3333333333333333,
              "#9c179e"
             ],
             [
              0.4444444444444444,
              "#bd3786"
             ],
             [
              0.5555555555555556,
              "#d8576b"
             ],
             [
              0.6666666666666666,
              "#ed7953"
             ],
             [
              0.7777777777777778,
              "#fb9f3a"
             ],
             [
              0.8888888888888888,
              "#fdca26"
             ],
             [
              1,
              "#f0f921"
             ]
            ],
            "type": "histogram2dcontour"
           }
          ],
          "mesh3d": [
           {
            "colorbar": {
             "outlinewidth": 0,
             "ticks": ""
            },
            "type": "mesh3d"
           }
          ],
          "parcoords": [
           {
            "line": {
             "colorbar": {
              "outlinewidth": 0,
              "ticks": ""
             }
            },
            "type": "parcoords"
           }
          ],
          "pie": [
           {
            "automargin": true,
            "type": "pie"
           }
          ],
          "scatter": [
           {
            "fillpattern": {
             "fillmode": "overlay",
             "size": 10,
             "solidity": 0.2
            },
            "type": "scatter"
           }
          ],
          "scatter3d": [
           {
            "line": {
             "colorbar": {
              "outlinewidth": 0,
              "ticks": ""
             }
            },
            "marker": {
             "colorbar": {
              "outlinewidth": 0,
              "ticks": ""
             }
            },
            "type": "scatter3d"
           }
          ],
          "scattercarpet": [
           {
            "marker": {
             "colorbar": {
              "outlinewidth": 0,
              "ticks": ""
             }
            },
            "type": "scattercarpet"
           }
          ],
          "scattergeo": [
           {
            "marker": {
             "colorbar": {
              "outlinewidth": 0,
              "ticks": ""
             }
            },
            "type": "scattergeo"
           }
          ],
          "scattergl": [
           {
            "marker": {
             "colorbar": {
              "outlinewidth": 0,
              "ticks": ""
             }
            },
            "type": "scattergl"
           }
          ],
          "scattermapbox": [
           {
            "marker": {
             "colorbar": {
              "outlinewidth": 0,
              "ticks": ""
             }
            },
            "type": "scattermapbox"
           }
          ],
          "scatterpolar": [
           {
            "marker": {
             "colorbar": {
              "outlinewidth": 0,
              "ticks": ""
             }
            },
            "type": "scatterpolar"
           }
          ],
          "scatterpolargl": [
           {
            "marker": {
             "colorbar": {
              "outlinewidth": 0,
              "ticks": ""
             }
            },
            "type": "scatterpolargl"
           }
          ],
          "scatterternary": [
           {
            "marker": {
             "colorbar": {
              "outlinewidth": 0,
              "ticks": ""
             }
            },
            "type": "scatterternary"
           }
          ],
          "surface": [
           {
            "colorbar": {
             "outlinewidth": 0,
             "ticks": ""
            },
            "colorscale": [
             [
              0,
              "#0d0887"
             ],
             [
              0.1111111111111111,
              "#46039f"
             ],
             [
              0.2222222222222222,
              "#7201a8"
             ],
             [
              0.3333333333333333,
              "#9c179e"
             ],
             [
              0.4444444444444444,
              "#bd3786"
             ],
             [
              0.5555555555555556,
              "#d8576b"
             ],
             [
              0.6666666666666666,
              "#ed7953"
             ],
             [
              0.7777777777777778,
              "#fb9f3a"
             ],
             [
              0.8888888888888888,
              "#fdca26"
             ],
             [
              1,
              "#f0f921"
             ]
            ],
            "type": "surface"
           }
          ],
          "table": [
           {
            "cells": {
             "fill": {
              "color": "#EBF0F8"
             },
             "line": {
              "color": "white"
             }
            },
            "header": {
             "fill": {
              "color": "#C8D4E3"
             },
             "line": {
              "color": "white"
             }
            },
            "type": "table"
           }
          ]
         },
         "layout": {
          "annotationdefaults": {
           "arrowcolor": "#2a3f5f",
           "arrowhead": 0,
           "arrowwidth": 1
          },
          "autotypenumbers": "strict",
          "coloraxis": {
           "colorbar": {
            "outlinewidth": 0,
            "ticks": ""
           }
          },
          "colorscale": {
           "diverging": [
            [
             0,
             "#8e0152"
            ],
            [
             0.1,
             "#c51b7d"
            ],
            [
             0.2,
             "#de77ae"
            ],
            [
             0.3,
             "#f1b6da"
            ],
            [
             0.4,
             "#fde0ef"
            ],
            [
             0.5,
             "#f7f7f7"
            ],
            [
             0.6,
             "#e6f5d0"
            ],
            [
             0.7,
             "#b8e186"
            ],
            [
             0.8,
             "#7fbc41"
            ],
            [
             0.9,
             "#4d9221"
            ],
            [
             1,
             "#276419"
            ]
           ],
           "sequential": [
            [
             0,
             "#0d0887"
            ],
            [
             0.1111111111111111,
             "#46039f"
            ],
            [
             0.2222222222222222,
             "#7201a8"
            ],
            [
             0.3333333333333333,
             "#9c179e"
            ],
            [
             0.4444444444444444,
             "#bd3786"
            ],
            [
             0.5555555555555556,
             "#d8576b"
            ],
            [
             0.6666666666666666,
             "#ed7953"
            ],
            [
             0.7777777777777778,
             "#fb9f3a"
            ],
            [
             0.8888888888888888,
             "#fdca26"
            ],
            [
             1,
             "#f0f921"
            ]
           ],
           "sequentialminus": [
            [
             0,
             "#0d0887"
            ],
            [
             0.1111111111111111,
             "#46039f"
            ],
            [
             0.2222222222222222,
             "#7201a8"
            ],
            [
             0.3333333333333333,
             "#9c179e"
            ],
            [
             0.4444444444444444,
             "#bd3786"
            ],
            [
             0.5555555555555556,
             "#d8576b"
            ],
            [
             0.6666666666666666,
             "#ed7953"
            ],
            [
             0.7777777777777778,
             "#fb9f3a"
            ],
            [
             0.8888888888888888,
             "#fdca26"
            ],
            [
             1,
             "#f0f921"
            ]
           ]
          },
          "colorway": [
           "#636efa",
           "#EF553B",
           "#00cc96",
           "#ab63fa",
           "#FFA15A",
           "#19d3f3",
           "#FF6692",
           "#B6E880",
           "#FF97FF",
           "#FECB52"
          ],
          "font": {
           "color": "#2a3f5f"
          },
          "geo": {
           "bgcolor": "white",
           "lakecolor": "white",
           "landcolor": "#E5ECF6",
           "showlakes": true,
           "showland": true,
           "subunitcolor": "white"
          },
          "hoverlabel": {
           "align": "left"
          },
          "hovermode": "closest",
          "mapbox": {
           "style": "light"
          },
          "paper_bgcolor": "white",
          "plot_bgcolor": "#E5ECF6",
          "polar": {
           "angularaxis": {
            "gridcolor": "white",
            "linecolor": "white",
            "ticks": ""
           },
           "bgcolor": "#E5ECF6",
           "radialaxis": {
            "gridcolor": "white",
            "linecolor": "white",
            "ticks": ""
           }
          },
          "scene": {
           "xaxis": {
            "backgroundcolor": "#E5ECF6",
            "gridcolor": "white",
            "gridwidth": 2,
            "linecolor": "white",
            "showbackground": true,
            "ticks": "",
            "zerolinecolor": "white"
           },
           "yaxis": {
            "backgroundcolor": "#E5ECF6",
            "gridcolor": "white",
            "gridwidth": 2,
            "linecolor": "white",
            "showbackground": true,
            "ticks": "",
            "zerolinecolor": "white"
           },
           "zaxis": {
            "backgroundcolor": "#E5ECF6",
            "gridcolor": "white",
            "gridwidth": 2,
            "linecolor": "white",
            "showbackground": true,
            "ticks": "",
            "zerolinecolor": "white"
           }
          },
          "shapedefaults": {
           "line": {
            "color": "#2a3f5f"
           }
          },
          "ternary": {
           "aaxis": {
            "gridcolor": "white",
            "linecolor": "white",
            "ticks": ""
           },
           "baxis": {
            "gridcolor": "white",
            "linecolor": "white",
            "ticks": ""
           },
           "bgcolor": "#E5ECF6",
           "caxis": {
            "gridcolor": "white",
            "linecolor": "white",
            "ticks": ""
           }
          },
          "title": {
           "x": 0.05
          },
          "xaxis": {
           "automargin": true,
           "gridcolor": "white",
           "linecolor": "white",
           "ticks": "",
           "title": {
            "standoff": 15
           },
           "zerolinecolor": "white",
           "zerolinewidth": 2
          },
          "yaxis": {
           "automargin": true,
           "gridcolor": "white",
           "linecolor": "white",
           "ticks": "",
           "title": {
            "standoff": 15
           },
           "zerolinecolor": "white",
           "zerolinewidth": 2
          }
         }
        },
        "width": 600,
        "xaxis": {
         "linecolor": "black",
         "mirror": true
        },
        "yaxis": {
         "linecolor": "black",
         "mirror": true,
         "type": "log"
        }
       }
      }
     },
     "metadata": {},
     "output_type": "display_data"
    }
   ],
   "source": [
    "lambda_labels = (\n",
    "    ree_df.pyrochem.lambda_lnREE(anomalies=[\"Eu\"])\n",
    "    .apply(lambda x: x.apply(lambda y: \"{}: {:2.2f}\".format(x.name, y)))\n",
    "    .agg(\"<br>\".join, axis=1)\n",
    ")\n",
    "\n",
    "with Backend(\"plotly\"):\n",
    "    fig = ree_df.pyroplot.spider(\n",
    "        unity_line=True, color=\"0.5\", alpha=0.5, width=600, text=lambda_labels\n",
    "    )\n",
    "fig"
   ]
  }
 ],
 "metadata": {
  "kernelspec": {
   "display_name": "pyrolite",
   "language": "python",
   "name": "python3"
  },
  "language_info": {
   "codemirror_mode": {
    "name": "ipython",
    "version": 3
   },
   "file_extension": ".py",
   "mimetype": "text/x-python",
   "name": "python",
   "nbconvert_exporter": "python",
   "pygments_lexer": "ipython3",
   "version": "3.11.10"
  },
  "orig_nbformat": 4
 },
 "nbformat": 4,
 "nbformat_minor": 2
}
