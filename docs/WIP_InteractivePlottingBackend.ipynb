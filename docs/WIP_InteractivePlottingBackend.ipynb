{
 "cells": [
  {
   "cell_type": "markdown",
   "metadata": {},
   "source": [
    "# WIP: An Interactive Plotting Backend for `pyrolite`"
   ]
  },
  {
   "cell_type": "code",
   "execution_count": null,
   "metadata": {},
   "outputs": [],
   "source": [
    "from pyrolite.data.Aitchison import load_kongite\n",
    "from pyrolite.util.log import Handle\n",
    "from pyrolite.util.plot.backend import Backend\n",
    "\n",
    "logger = Handle(\"pyrolite\", level=\"DEBUG\")"
   ]
  },
  {
   "cell_type": "markdown",
   "metadata": {},
   "source": [
    "## Interface Switching"
   ]
  },
  {
   "cell_type": "code",
   "execution_count": null,
   "metadata": {},
   "outputs": [],
   "source": [
    "with Backend(\"plotly\"):\n",
    "    with Backend(\"matplotlib\"):\n",
    "        ...\n",
    "    ..."
   ]
  },
  {
   "attachments": {},
   "cell_type": "markdown",
   "metadata": {},
   "source": [
    "## Some Example Data"
   ]
  },
  {
   "cell_type": "code",
   "execution_count": null,
   "metadata": {},
   "outputs": [],
   "source": [
    "from pyrolite.util.synthetic import example_spider_data\n",
    "\n",
    "logger.setLevel(\"INFO\")\n",
    "\n",
    "ree_df = example_spider_data(\n",
    "    noise_level=0.05,\n",
    "    size=100,\n",
    "    start=\"DMM_WH2005\",\n",
    "    norm_to=\"Chondrite_PON\",\n",
    "    offsets={\"Eu\": 0.2},\n",
    ").pyrochem.REE\n",
    "df = load_kongite()\n",
    "df.head()\n"
   ]
  },
  {
   "attachments": {},
   "cell_type": "markdown",
   "metadata": {},
   "source": [
    "## Plot Comparison"
   ]
  },
  {
   "cell_type": "code",
   "execution_count": null,
   "metadata": {},
   "outputs": [],
   "source": [
    "df.iloc[:, 1:3].pyroplot.scatter()"
   ]
  },
  {
   "cell_type": "code",
   "execution_count": null,
   "metadata": {},
   "outputs": [],
   "source": [
    "with Backend(\"plotly\"):\n",
    "    fig = df.iloc[:, 1:3].pyroplot.scatter()\n",
    "\n",
    "fig\n"
   ]
  },
  {
   "cell_type": "code",
   "execution_count": null,
   "metadata": {},
   "outputs": [],
   "source": [
    "df.iloc[:, :3].pyroplot.scatter(color=\"k\")"
   ]
  },
  {
   "cell_type": "code",
   "execution_count": null,
   "metadata": {},
   "outputs": [],
   "source": [
    "with Backend(\"plotly\"):\n",
    "    fig = df.iloc[:, 1:4].pyroplot.ternary(color=\"k\")\n",
    "\n",
    "fig\n",
    "# fig.write_html(\"ternary.html\")\n"
   ]
  },
  {
   "cell_type": "code",
   "execution_count": null,
   "metadata": {},
   "outputs": [],
   "source": [
    "ree_df.pyroplot.spider(unity_line=True, color=\"0.5\", alpha=0.5)"
   ]
  },
  {
   "cell_type": "code",
   "execution_count": null,
   "metadata": {},
   "outputs": [],
   "source": [
    "lambda_labels = (\n",
    "    ree_df.pyrochem.lambda_lnREE(anomalies=[\"Eu\"])\n",
    "    .apply(lambda x: x.apply(lambda y: \"{}: {:2.2f}\".format(x.name, y)))\n",
    "    .agg(\"<br>\".join, axis=1)\n",
    ")\n",
    "\n",
    "with Backend(\"plotly\"):\n",
    "    fig = ree_df.pyroplot.spider(\n",
    "        unity_line=True, color=\"0.5\", alpha=0.5, width=600, text=lambda_labels\n",
    "    )\n",
    "fig\n",
    "# fig.write_html(\"spider.html\")\n"
   ]
  }
 ],
 "metadata": {
  "kernelspec": {
   "display_name": "pyrolite",
   "language": "python",
   "name": "python3"
  },
  "language_info": {
   "codemirror_mode": {
    "name": "ipython",
    "version": 3
   },
   "file_extension": ".py",
   "mimetype": "text/x-python",
   "name": "python",
   "nbconvert_exporter": "python",
   "pygments_lexer": "ipython3",
   "version": "3.11.10"
  },
  "orig_nbformat": 4
 },
 "nbformat": 4,
 "nbformat_minor": 2
}
